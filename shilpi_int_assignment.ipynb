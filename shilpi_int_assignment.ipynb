{
  "nbformat": 4,
  "nbformat_minor": 0,
  "metadata": {
    "colab": {
      "name": "shilpi_int_assignment.ipynb",
      "provenance": [],
      "collapsed_sections": []
    },
    "kernelspec": {
      "name": "python3",
      "display_name": "Python 3"
    }
  },
  "cells": [
    {
      "cell_type": "code",
      "metadata": {
        "id": "8A5Jw5NR1iEI",
        "colab_type": "code",
        "colab": {
          "base_uri": "https://localhost:8080/",
          "height": 34
        },
        "outputId": "f22b67bb-28f7-48b5-99be-f3369f7251ee"
      },
      "source": [
        "#Declare an int value and store it in a variable. \n",
        "\n",
        "#every positive value without decimal point is integer.\n",
        "a=25\n",
        "print(type(a), a)\n",
        "\n",
        "\n",
        "\n",
        "\n"
      ],
      "execution_count": null,
      "outputs": [
        {
          "output_type": "stream",
          "text": [
            "<class 'int'> 25\n"
          ],
          "name": "stdout"
        }
      ]
    },
    {
      "cell_type": "code",
      "metadata": {
        "id": "aeXMO9K-ItaE",
        "colab_type": "code",
        "colab": {
          "base_uri": "https://localhost:8080/",
          "height": 34
        },
        "outputId": "90a9c4eb-dd31-47ae-8396-e751c7bbcee8"
      },
      "source": [
        "#Check the type and print the id of the same.\n",
        "var1= 20\n",
        "print(id(var1),type(var1))"
      ],
      "execution_count": null,
      "outputs": [
        {
          "output_type": "stream",
          "text": [
            "10915104 <class 'int'>\n"
          ],
          "name": "stdout"
        }
      ]
    },
    {
      "cell_type": "code",
      "metadata": {
        "id": "E5-Izqz1ImSO",
        "colab_type": "code",
        "colab": {}
      },
      "source": [
        ""
      ],
      "execution_count": null,
      "outputs": []
    },
    {
      "cell_type": "code",
      "metadata": {
        "id": "0YU8LFTn1rAX",
        "colab_type": "code",
        "colab": {
          "base_uri": "https://localhost:8080/",
          "height": 51
        },
        "outputId": "69374841-02f3-47ce-9f81-0fd3d80793f8"
      },
      "source": [
        "#Take one int value between 0 - 256.\n",
        "#Assign it to two different variables.\n",
        "#Check the id of both the variables. It should come same. Check why?\n",
        "s1= 45\n",
        "s2= 45\n",
        "print(id(s1),type(s1))\n",
        "print(id(s2),type(s2))\n",
        "\n",
        "\n",
        "#both the id are same because of object reusability.\n",
        "#45<256\n",
        "\n",
        "\n"
      ],
      "execution_count": null,
      "outputs": [
        {
          "output_type": "stream",
          "text": [
            "10915904 <class 'int'>\n",
            "10915904 <class 'int'>\n"
          ],
          "name": "stdout"
        }
      ]
    },
    {
      "cell_type": "code",
      "metadata": {
        "id": "GwsKEkExK24g",
        "colab_type": "code",
        "colab": {
          "base_uri": "https://localhost:8080/",
          "height": 51
        },
        "outputId": "cc8e3878-7928-4faa-fa3e-73ddbc202e9a"
      },
      "source": [
        "\n",
        "#Take one int value either less than -5 or greater than 256.\n",
        "#Assign it to two different variables.\n",
        "#Check the id of both the variables. It should come different.Check why?\n",
        "\n",
        "a= 567\n",
        "b= 567\n",
        "print(id(a),type(a))\n",
        "print(id(b),type(b))\n",
        "\n",
        "#both id are different because of object reusability concept.\n",
        "\n"
      ],
      "execution_count": null,
      "outputs": [
        {
          "output_type": "stream",
          "text": [
            "140584358187280 <class 'int'>\n",
            "140584358188624 <class 'int'>\n"
          ],
          "name": "stdout"
        }
      ]
    },
    {
      "cell_type": "code",
      "metadata": {
        "id": "dB3GQdxUK3vP",
        "colab_type": "code",
        "colab": {}
      },
      "source": [
        ""
      ],
      "execution_count": null,
      "outputs": []
    },
    {
      "cell_type": "code",
      "metadata": {
        "id": "YzEIG0ZZ1tSK",
        "colab_type": "code",
        "colab": {
          "base_uri": "https://localhost:8080/",
          "height": 136
        },
        "outputId": "168b0957-9cb1-4d78-b092-29ecf275fba9"
      },
      "source": [
        "#Arithmatic Operations on integers\n",
        "#Take two different intger values.\n",
        "#Store them in two different variables.\n",
        "#Do below operations on them:-\n",
        "    #Find sum of both numbers\n",
        "    #Find differce between them\n",
        "    #Find the product of both numbers.\n",
        "    #Find value after dividing first num with second number\n",
        "    #Find the remainder after dividing first number with second number\n",
        "    #Find the quotient after dividing first number with second number\n",
        "    #Find the result of first num to the power of second number.\n",
        "\n",
        "a=100\n",
        "b=10\n",
        "sum= a+b\n",
        "dif= a-b\n",
        "product= a*b\n",
        "division= a/b\n",
        "quotient= a//b\n",
        "remainder = a%b\n",
        "pow= a**b\n",
        "print(\"sum=\", sum)\n",
        "print(\"difference=\",dif)\n",
        "print(\"prouct=\",product)\n",
        "print(\"division\",division)\n",
        "print(\"remainder=\",remainder)\n",
        "print(\"quotient=\", quotient)\n",
        "print(\"power=\", pow)   \n",
        "\n",
        "\n"
      ],
      "execution_count": null,
      "outputs": [
        {
          "output_type": "stream",
          "text": [
            "sum= 110\n",
            "difference= 90\n",
            "prouct= 1000\n",
            "division 10.0\n",
            "remainder= 0\n",
            "quotient= 10\n",
            "power= 100000000000000000000\n"
          ],
          "name": "stdout"
        }
      ]
    },
    {
      "cell_type": "code",
      "metadata": {
        "id": "GGM7CdzA1wGn",
        "colab_type": "code",
        "colab": {
          "base_uri": "https://localhost:8080/",
          "height": 85
        },
        "outputId": "d077fb7a-4183-4bc1-9f29-d43566522325"
      },
      "source": [
        "#Comparison Operators on integers\n",
        "#Take two different intger values.\n",
        "#Store them in two different variables.\n",
        "#Do below operations on them:-\n",
        "    #Compare se two numbers with below operator:-\n",
        "        #Greater than, '>'\n",
        "        #Smaller than, '<'\n",
        "        #Greater than or equal to, '>='\n",
        "        #Less than or equal to, '<='\n",
        "#Observe their output(return type should be boolean)\n",
        "\n",
        "a=25\n",
        "b=45\n",
        "print(a>b)\n",
        "print(a<b)\n",
        "print(a>=b)\n",
        "print(a<=b)"
      ],
      "execution_count": null,
      "outputs": [
        {
          "output_type": "stream",
          "text": [
            "False\n",
            "True\n",
            "False\n",
            "True\n"
          ],
          "name": "stdout"
        }
      ]
    },
    {
      "cell_type": "code",
      "metadata": {
        "id": "9x904sUE1y9t",
        "colab_type": "code",
        "colab": {
          "base_uri": "https://localhost:8080/",
          "height": 51
        },
        "outputId": "6e5feaee-bd72-461c-f038-945789fb38ca"
      },
      "source": [
        "#Equality Operator\n",
        "#Take two different intger values.\n",
        "#Store them in two different variables.\n",
        "#Equuate them using equality operator (==, !=)\n",
        "#Observe the output(return type should be boolean)\n",
        "\n",
        "a= 50\n",
        "b=100\n",
        "print(a==b)\n",
        "print(a!=b)"
      ],
      "execution_count": null,
      "outputs": [
        {
          "output_type": "stream",
          "text": [
            "False\n",
            "True\n"
          ],
          "name": "stdout"
        }
      ]
    },
    {
      "cell_type": "code",
      "metadata": {
        "id": "JmQFHUwc11S-",
        "colab_type": "code",
        "colab": {
          "base_uri": "https://localhost:8080/",
          "height": 187
        },
        "outputId": "acc2ae26-c3fb-465c-e39b-4e090197ae79"
      },
      "source": [
        "#Logical operators\n",
        "#Observe the output of below code\n",
        "#Cross check the output manuallay\n",
        "\n",
        "print(10 and 20)       #----------------------------------------->Output is 20\n",
        "print(0 and 20)        #----------------------------------------->Output is 0\n",
        "print(20 and 0)        #----------------------------------------->Output is 0\n",
        "print(0 and 0)         #----------------------------------------->Output is 0\n",
        "\n",
        "print(10 or 20)        #----------------------------------------->Output is 10\n",
        "print(0 or 20)         #----------------------------------------->Output is 20\n",
        "print(20 or 0)         #----------------------------------------->Output is 20\n",
        "print(0 or 0)          #----------------------------------------->Output is 0\n",
        "\n",
        "print(not 10)          #----------------------------------------->Output is False\n",
        "print(not 0)           #----------------------------------------->Output is True\n",
        "\n"
      ],
      "execution_count": null,
      "outputs": [
        {
          "output_type": "stream",
          "text": [
            "20\n",
            "0\n",
            "0\n",
            "0\n",
            "10\n",
            "20\n",
            "20\n",
            "0\n",
            "False\n",
            "True\n"
          ],
          "name": "stdout"
        }
      ]
    },
    {
      "cell_type": "code",
      "metadata": {
        "id": "-0tvoulX14Hi",
        "colab_type": "code",
        "colab": {
          "base_uri": "https://localhost:8080/",
          "height": 102
        },
        "outputId": "b5d98115-a858-4ad3-9da3-37f0108f5989"
      },
      "source": [
        "#Bitwise Operators\n",
        "#Do below operations on the values provided below:-\n",
        "    #Bitwise and(&) -----------------------------------------> 10, 20   -------> Output is 0\n",
        "    #Bitwise or(|)  -----------------------------------------> 10, 20   -------> Output is 30\n",
        "    #Bitwise(^)     -----------------------------------------> 10, 20   -------> Output is 30\n",
        "    #Bitwise negation(~) ------------------------------------> 10       -------> Output is -11\n",
        "    #Bitwise left shift  ------------------------------------> 10,2     -------> Output is 40\n",
        "    #Bitwise right shift ------------------------------------> 10,2     -------> Output is 2\n",
        "#Cross check the output manually\n",
        "\n",
        "print(10 & 20)\n",
        "print(10 | 20)\n",
        "print(10 ^ 20)\n",
        "# ~num= -(num+1)\n",
        "# num=10\n",
        "# print(~10)\n",
        "10<<2          # 000000000000000000000000000000101000\n",
        "10>>2          # 000000000000000000000000000010\n",
        "print(0b101000)\n",
        "print(0b10)\n",
        "\n",
        "\n",
        "# 10= 0b01010\n",
        "# 20= 0b10100\n"
      ],
      "execution_count": null,
      "outputs": [
        {
          "output_type": "stream",
          "text": [
            "0\n",
            "30\n",
            "30\n",
            "40\n",
            "2\n"
          ],
          "name": "stdout"
        }
      ]
    },
    {
      "cell_type": "code",
      "metadata": {
        "id": "YCcx-Qx016hg",
        "colab_type": "code",
        "colab": {
          "base_uri": "https://localhost:8080/",
          "height": 85
        },
        "outputId": "9974afe2-52d8-4d47-9db2-9f66b1334469"
      },
      "source": [
        "#What is the output of expression inside print statement. Cross check before running the program.\n",
        "a = 10\n",
        "b = 10\n",
        "print(a is b)          #True or False?   #true\n",
        "print(a is not b)      #True or False?   #false\n",
        "\n",
        "\n",
        "a = 1000\n",
        "b = 1000\n",
        "print(a is b)          #True or False?    #false\n",
        "print(a is not b)      #True or False?    #true"
      ],
      "execution_count": null,
      "outputs": [
        {
          "output_type": "stream",
          "text": [
            "True\n",
            "False\n",
            "False\n",
            "True\n"
          ],
          "name": "stdout"
        }
      ]
    },
    {
      "cell_type": "code",
      "metadata": {
        "id": "Un2To3XN1_Il",
        "colab_type": "code",
        "colab": {
          "base_uri": "https://localhost:8080/",
          "height": 34
        },
        "outputId": "acf612fa-630d-4ff5-fefb-5d91e9aef681"
      },
      "source": [
        "#What is the output of expression inside print statement. Cross check before running the program.\n",
        "print(10+(10*32)//2**5&20+(~(-10))<<2)"
      ],
      "execution_count": null,
      "outputs": [
        {
          "output_type": "stream",
          "text": [
            "20\n"
          ],
          "name": "stdout"
        }
      ]
    },
    {
      "cell_type": "code",
      "metadata": {
        "id": "kGRb5RMd1_1I",
        "colab_type": "code",
        "colab": {
          "base_uri": "https://localhost:8080/",
          "height": 119
        },
        "outputId": "fb44b6ae-4567-43d7-9619-deac842422a7"
      },
      "source": [
        "#Membership operation\n",
        "#in, not in are two membership operators and it returns boolean value\n",
        "\n",
        "print('2' in 'Python2.7.8')                    #true\n",
        "print(10 in [10,10.20,10+20j,'Python'])        # true\n",
        "print(10 in (10,10.20,10+20j,'Python'))        #true\n",
        "print(2 in {1,2,3})                           #true\n",
        "print(3 in {1:100, 2:200, 3:300})            #true\n",
        "print(10 in range(20))                #true"
      ],
      "execution_count": null,
      "outputs": [
        {
          "output_type": "stream",
          "text": [
            "True\n",
            "True\n",
            "True\n",
            "True\n",
            "True\n",
            "True\n"
          ],
          "name": "stdout"
        }
      ]
    },
    {
      "cell_type": "code",
      "metadata": {
        "id": "Es7iSvL92B9W",
        "colab_type": "code",
        "colab": {
          "base_uri": "https://localhost:8080/",
          "height": 119
        },
        "outputId": "e9cb5ce1-3fad-4599-9949-d3cb9bb847db"
      },
      "source": [
        "#An integer can be represented in binary, octal or hexadecimal form.\n",
        "#Declare one binary, one octal and one hexadecimal value and store them in three different variables.\n",
        "#Convert 9876 to its binary, octal and hexadecimal equivalent and print their corresponding value.\n",
        "\n",
        "binary_num=0b01011\n",
        "octal_num=0o43217\n",
        "hexadcml_num=0xfa546\n",
        "d=9876\n",
        "bin_num=bin(d)\n",
        "oct_num=oct(d)\n",
        "hex_num=hex(d)\n",
        "print(bin_num)\n",
        "print(oct_num)\n",
        "print(hex_num)\n",
        "# print(int(binary_num))\n",
        "# print(int(octal_num))\n",
        "# print(int(hexadcml_num))"
      ],
      "execution_count": null,
      "outputs": [
        {
          "output_type": "stream",
          "text": [
            "0b10011010010100\n",
            "0o23224\n",
            "0x2694\n",
            "11\n",
            "18063\n",
            "1025350\n"
          ],
          "name": "stdout"
        }
      ]
    },
    {
      "cell_type": "code",
      "metadata": {
        "id": "Hm0r03lH2E0i",
        "colab_type": "code",
        "colab": {
          "base_uri": "https://localhost:8080/",
          "height": 221
        },
        "outputId": "4fc8d067-2d08-40e2-be78-921c51b06ec7"
      },
      "source": [
        "#What will be the outut of following:-\n",
        "a = 0b1010000\n",
        "print(a)\n",
        "\n",
        "\n",
        "b = 0o7436\n",
        "print(b)\n",
        "\n",
        "c = 0xfade\n",
        "print(c)\n",
        "\n",
        "print(bin(80))\n",
        "\n",
        "print(oct(3870))\n",
        "\n",
        "print(hex(64222))\n",
        "\n",
        "print(bin(0b1010000))\n",
        "\n",
        "print(bin(0xfade))\n",
        "\n",
        "print(oct(0xfade))\n",
        "\n",
        "print(oct(0o7436))\n",
        "\n",
        "print(hex(0b1010000))\n",
        "\n",
        "print(hex(0xfade))"
      ],
      "execution_count": null,
      "outputs": [
        {
          "output_type": "stream",
          "text": [
            "80\n",
            "3870\n",
            "64222\n",
            "0b1010000\n",
            "0o7436\n",
            "0xfade\n",
            "0b1010000\n",
            "0b1111101011011110\n",
            "0o175336\n",
            "0o7436\n",
            "0x50\n",
            "0xfade\n"
          ],
          "name": "stdout"
        }
      ]
    }
  ]
}