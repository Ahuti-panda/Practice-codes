{
 "cells": [
  {
   "cell_type": "code",
   "execution_count": 1,
   "metadata": {},
   "outputs": [
    {
     "name": "stdout",
     "output_type": "stream",
     "text": [
      "200\n"
     ]
    }
   ],
   "source": [
    "a=33\n",
    "b=200\n",
    "if b>a:\n",
    "    print(b)"
   ]
  },
  {
   "cell_type": "code",
   "execution_count": 13,
   "metadata": {},
   "outputs": [
    {
     "name": "stdout",
     "output_type": "stream",
     "text": [
      "Enter the value for a:1\n",
      "Enter the value for b:-3\n",
      "Enter the value for c:0\n",
      "4.5 1.5\n"
     ]
    }
   ],
   "source": [
    "#Quadratic equation\n",
    "a=eval(input('Enter the value for a:'))\n",
    "b=eval(input('Enter the value for b:'))\n",
    "c=eval(input('Enter the value for c:'))\n",
    "import math \n",
    "sol1=((-b)+math.sqrt((b**2)-(4*a*c))/(2*a))\n",
    "sol2=((-b)-math.sqrt((b**2)-(4*a*c))/(2*a))\n",
    "\n",
    "print(sol1,sol2)"
   ]
  },
  {
   "cell_type": "code",
   "execution_count": 20,
   "metadata": {},
   "outputs": [
    {
     "name": "stdout",
     "output_type": "stream",
     "text": [
      "Enter the value for a:3\n",
      "Enter the value for b:7\n",
      "Enter the value for c:9\n",
      "There is no real number for a=3 b=7 c=9\n"
     ]
    }
   ],
   "source": [
    "a=eval(input('Enter the value for a:'))\n",
    "b=eval(input('Enter the value for b:'))\n",
    "c=eval(input('Enter the value for c:'))\n",
    "from math import sqrt\n",
    "d=(b**2)-(4*a*c)\n",
    "if d>0:\n",
    "    sol1=((-b)+sqrt(d)/(2*a))\n",
    "    sol2=((-b)-sqrt(d)/(2*a))\n",
    "    print(f'There is only two root for a={a} b={b} c={c}: {sol1} {sol2}')\n",
    "elif d==0:\n",
    "    sol1=(-b/(2*a))\n",
    "    print(f'There is only one root for a={a} b={b} c={c}: {sol1}')\n",
    "else:\n",
    "    print(f'There is no real number for a={a} b={b} c={c}')"
   ]
  },
  {
   "cell_type": "code",
   "execution_count": 6,
   "metadata": {},
   "outputs": [
    {
     "name": "stdout",
     "output_type": "stream",
     "text": [
      "Enter the quantity:300\n",
      "sum of cost:300.0\n"
     ]
    }
   ],
   "source": [
    "# A shop will give discount of 10% if the cost of purchased quantity is more than 1000.\n",
    "# Ask user for quantity\n",
    "quantity=float(input('Enter the quantity:'))\n",
    "if quantity>=1000:\n",
    "    cost=(quantity*0.9)\n",
    "    print(f'sum of cost:{cost}')\n",
    "else:\n",
    "    print(f'sum of cost:{quantity}')"
   ]
  },
  {
   "cell_type": "code",
   "execution_count": 1,
   "metadata": {},
   "outputs": [
    {
     "name": "stdout",
     "output_type": "stream",
     "text": [
      "Enter the salary of employee:10000\n",
      "Enter year of service6\n",
      "Bonus is 500.0\n"
     ]
    }
   ],
   "source": [
    "# A company decided to give bonus of 5% to employee if his/her year of service is more than 5 years.\n",
    "# Ask user for their salary and year of service and print the net bonus amount.\n",
    "salary = eval(input('Enter the salary of employee:'))\n",
    "years = int(input(\"Enter year of service\"))\n",
    "if years>5:\n",
    "    \n",
    "    print (\"Bonus is\",.05*salary)\n",
    "else:\n",
    "    print (\"No bonus\")"
   ]
  },
  {
   "cell_type": "code",
   "execution_count": 4,
   "metadata": {},
   "outputs": [
    {
     "name": "stdout",
     "output_type": "stream",
     "text": [
      "Enter obtained mark:54\n",
      "C\n"
     ]
    }
   ],
   "source": [
    "# A school has following rules for grading system:\n",
    "# a. Below 25 - F\n",
    "# b. 25 to 45 - E\n",
    "# c. 45 to 50 - D\n",
    "# d. 50 to 60 - C\n",
    "# e. 60 to 80 - B\n",
    "# f. Above 80 - A\n",
    "# Ask user to enter marks and print the corresponding grade.\n",
    "a=eval(input('Enter obtained mark:'))\n",
    "if a<25:\n",
    "    print ('F')\n",
    "elif 25<=a<=45:\n",
    "     print ('E')\n",
    "elif 45<=a<=50:\n",
    "     print ('D')\n",
    "elif 50<=a<=60:\n",
    "    print ('C')\n",
    "elif 60<=a<=80:\n",
    "    print ('B')\n",
    "elif 80<a:\n",
    "    print ('A')\n",
    "    "
   ]
  },
  {
   "cell_type": "code",
   "execution_count": 3,
   "metadata": {},
   "outputs": [
    {
     "name": "stdout",
     "output_type": "stream",
     "text": [
      "False\n"
     ]
    }
   ],
   "source": [
    "print('3/4'. isdecimal())"
   ]
  },
  {
   "cell_type": "code",
   "execution_count": 3,
   "metadata": {},
   "outputs": [
    {
     "name": "stdout",
     "output_type": "stream",
     "text": [
      "****python\n"
     ]
    }
   ],
   "source": [
    "a='python'\n",
    "print(a.rjust(10,'*'))"
   ]
  },
  {
   "cell_type": "code",
   "execution_count": 11,
   "metadata": {},
   "outputs": [
    {
     "name": "stdout",
     "output_type": "stream",
     "text": [
      "i  1\n",
      "i  1\n",
      "j  100\n",
      "break\n",
      "j  10\n"
     ]
    }
   ],
   "source": [
    "x = [1, 2]\n",
    "y = [10, 100]\n",
    "for i in x: \n",
    "    for j in y: \n",
    "        if i % 2 == 0: \n",
    "            print('break')\n",
    "            break\n",
    "        print('i ', i)\n",
    "    print('j ', j)\n",
    "    "
   ]
  },
  {
   "cell_type": "code",
   "execution_count": 4,
   "metadata": {},
   "outputs": [
    {
     "name": "stdout",
     "output_type": "stream",
     "text": [
      "True\n",
      "True\n"
     ]
    }
   ],
   "source": [
    "s = 'Python'\n",
    "s1 = 'Python9'\n",
    "s2 = '87364872543'\n",
    "s3 = 'Python$'\n",
    "s4 = 'Python$ 98'\n",
    "s5 = 'python'\n",
    "s6 = 'PYTHON'\n",
    "# print(s2.isdigit(), s1.isdigit())  # Roman Numerals, fraction or cyrrencies symbols are not digits\n",
    "# print('\\u00BC'.isdigit())  \n",
    "print('\\u00BC'.isnumeric())   # # Roman Numerals, fraction, unicode numbers are considered as numeral\n",
    "print(s2.isnumeric())\n"
   ]
  },
  {
   "cell_type": "code",
   "execution_count": 6,
   "metadata": {},
   "outputs": [
    {
     "name": "stdout",
     "output_type": "stream",
     "text": [
      "P\n",
      "e\n",
      "t\n",
      "e\n",
      "r\n",
      " \n",
      "P\n",
      "i\n",
      "p\n",
      "e\n",
      "r\n",
      " \n",
      "P\n",
      "i\n",
      "c\n",
      "k\n",
      "e\n",
      "d\n",
      " \n",
      "A\n",
      " \n",
      "P\n",
      "e\n",
      "c\n",
      "k\n",
      " \n",
      "O\n",
      "f\n",
      " \n",
      "P\n",
      "i\n",
      "c\n",
      "k\n",
      "l\n",
      "e\n",
      "d\n",
      " \n",
      "P\n",
      "e\n",
      "p\n",
      "p\n",
      "e\n",
      "r\n",
      "s\n",
      ".\n"
     ]
    }
   ],
   "source": [
    "# lst1 = [100,1000,10000,100000]\n",
    "lst2 = 'Peter Piper Picked A Peck Of Pickled Peppers.'\n",
    "for i in (lst2):\n",
    "    print(i)"
   ]
  },
  {
   "cell_type": "code",
   "execution_count": null,
   "metadata": {},
   "outputs": [],
   "source": []
  },
  {
   "cell_type": "code",
   "execution_count": null,
   "metadata": {},
   "outputs": [],
   "source": []
  },
  {
   "cell_type": "code",
   "execution_count": null,
   "metadata": {},
   "outputs": [],
   "source": []
  },
  {
   "cell_type": "code",
   "execution_count": null,
   "metadata": {},
   "outputs": [],
   "source": []
  },
  {
   "cell_type": "code",
   "execution_count": null,
   "metadata": {},
   "outputs": [],
   "source": []
  },
  {
   "cell_type": "code",
   "execution_count": null,
   "metadata": {},
   "outputs": [],
   "source": []
  }
 ],
 "metadata": {
  "kernelspec": {
   "display_name": "Python 3",
   "language": "python",
   "name": "python3"
  },
  "language_info": {
   "codemirror_mode": {
    "name": "ipython",
    "version": 3
   },
   "file_extension": ".py",
   "mimetype": "text/x-python",
   "name": "python",
   "nbconvert_exporter": "python",
   "pygments_lexer": "ipython3",
   "version": "3.7.6"
  }
 },
 "nbformat": 4,
 "nbformat_minor": 4
}
