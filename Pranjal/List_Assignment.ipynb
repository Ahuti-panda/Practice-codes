{
 "cells": [
  {
   "cell_type": "code",
   "execution_count": 1,
   "metadata": {
    "colab": {},
    "colab_type": "code",
    "id": "gtlAv2oq9yzd"
   },
   "outputs": [
    {
     "name": "stdout",
     "output_type": "stream",
     "text": [
      "100\n"
     ]
    }
   ],
   "source": [
    "#Write a Python program to find the sum of all elements in a list using loop.\n",
    "#Input:- [10,20,30,40]\n",
    "#Output:- 100\n",
    "\n",
    "my_list = [10,20,30,40]\n",
    "sum = 0\n",
    "for i in my_list:\n",
    "    sum = sum + i\n",
    "    \n",
    "print(sum)"
   ]
  },
  {
   "cell_type": "code",
   "execution_count": 3,
   "metadata": {
    "colab": {},
    "colab_type": "code",
    "id": "gTbA8psa93Y_"
   },
   "outputs": [
    {
     "name": "stdout",
     "output_type": "stream",
     "text": [
      "240000\n"
     ]
    }
   ],
   "source": [
    "#Write a Python program to find the multiplication of all elements in a list using loop.\n",
    "#Input:- [10,20,30,40]\n",
    "#Output:- 240000\n",
    "\n",
    "\n",
    "my_list = [10,20,30,40]\n",
    "mul = 1\n",
    "for i in my_list:\n",
    "    mul = mul * i\n",
    "    \n",
    "print(mul)\n"
   ]
  },
  {
   "cell_type": "code",
   "execution_count": 4,
   "metadata": {
    "colab": {},
    "colab_type": "code",
    "id": "XBCrEtLN94Lj"
   },
   "outputs": [
    {
     "name": "stdout",
     "output_type": "stream",
     "text": [
      "2321\n"
     ]
    }
   ],
   "source": [
    "#Write a Python program to find the largest number from a list using loop.\n",
    "#Input:- [10,100,2321, 1,200,2]\n",
    "#Output:- 2321\n",
    "\n",
    "input_list = [10,100,2321,1,200,2]\n",
    "maximum = input_list[0]\n",
    "\n",
    "for i in input_list:\n",
    "    if i>maximum:\n",
    "        maximum = i\n",
    "        \n",
    "print(maximum)\n"
   ]
  },
  {
   "cell_type": "code",
   "execution_count": 5,
   "metadata": {
    "colab": {},
    "colab_type": "code",
    "id": "l3paUtbH94Vw"
   },
   "outputs": [
    {
     "name": "stdout",
     "output_type": "stream",
     "text": [
      "1\n"
     ]
    }
   ],
   "source": [
    "#Write a Python program to find the smallest number from a list using loop.\n",
    "#Input:- [10,100,2321, 1,200,2]\n",
    "#Output:- 1\n",
    "\n",
    "input_list = [10,100,2321,1,200,2]\n",
    "minimum = input_list[0]\n",
    "for i in input_list:\n",
    "    if i<minimum:\n",
    "        minimum=i\n",
    "        \n",
    "print(minimum)\n"
   ]
  },
  {
   "cell_type": "code",
   "execution_count": 6,
   "metadata": {
    "colab": {},
    "colab_type": "code",
    "id": "JTVgy5VD94cE"
   },
   "outputs": [
    {
     "name": "stdout",
     "output_type": "stream",
     "text": [
      "2\n"
     ]
    }
   ],
   "source": [
    "#Write a Python program to count the number of strings having length more than 2 and are palindrome in a list using loop.\n",
    "#Input:- ['ab', 'abc', 'aba', 'xyz', '1991']\n",
    "#Output:- 2\n",
    "\n",
    "input_list = ['ab', 'abc', 'aba', 'xyz', '1991']\n",
    "count =0\n",
    "for i in input_list:\n",
    "    if len(i)>2 and i==i[::-1]:\n",
    "        count = count + 1\n",
    "print(count)"
   ]
  },
  {
   "cell_type": "code",
   "execution_count": 11,
   "metadata": {
    "colab": {},
    "colab_type": "code",
    "id": "xs-ZGJbJ94gr"
   },
   "outputs": [
    {
     "name": "stdout",
     "output_type": "stream",
     "text": [
      "[1, 2, 9, 10, 65, 80, 100, 298, 483, 9213, 49876]\n"
     ]
    }
   ],
   "source": [
    "#Write a Python program to sort a list in ascending order using loop.\n",
    "#Input:- [100,10,1,298,65,483,49876,2,80,9,9213]\n",
    "#Output:- [1,2,9,10,65,80,100,298,483,9213,49876]\n",
    "\n",
    "input_list = [100,10,1,298,65,483,49876,2,80,9,9213]\n",
    "n = len(input_list)\n",
    "for i in range(n):\n",
    "    for j in range(i+1,n):\n",
    "        if input_list[i] > input_list[j]:\n",
    "            temp = input_list[i]\n",
    "            input_list[i] = input_list[j]\n",
    "            input_list[j] = temp\n",
    "print(input_list)\n",
    "\n"
   ]
  },
  {
   "cell_type": "code",
   "execution_count": 12,
   "metadata": {
    "colab": {},
    "colab_type": "code",
    "id": "VhKQJizZ94kg"
   },
   "outputs": [
    {
     "name": "stdout",
     "output_type": "stream",
     "text": [
      "[(9, 1), (2, 3), (5, 4), (5, 5), (7, 6), (5, 9)]\n"
     ]
    }
   ],
   "source": [
    "#Write a Python program to get a sorted list in increasing order of last element in each tuple in a given list using loop.\n",
    "#Input:- [(5,4),(9,1),(2,3),(5,9),(7,6),(5,5)]\n",
    "#output:- [(9,1),(2,3),(5,4),(5,5),(7,6),(5,9)]\n",
    "\n",
    "input_list = [(5,4),(9,1),(2,3),(5,9),(7,6),(5,5)]\n",
    "n = len(input_list)\n",
    "for i in range(n):\n",
    "    for j in range(i+1,n):\n",
    "        if input_list[i][1] > input_list[j][1]:\n",
    "            temp = input_list[i]\n",
    "            input_list[i] = input_list[j]\n",
    "            input_list[j] = temp\n",
    "print(input_list)\n",
    "            "
   ]
  },
  {
   "cell_type": "code",
   "execution_count": 14,
   "metadata": {
    "colab": {},
    "colab_type": "code",
    "id": "YJrCLYp694n_"
   },
   "outputs": [
    {
     "name": "stdout",
     "output_type": "stream",
     "text": [
      "[10, 1, 11, 29, 876, 768, 92]\n"
     ]
    }
   ],
   "source": [
    "#Write a Python program to remove fuplicate element from a list using loop.\n",
    "#Input:- [10,1,11,1,29,876,768,10,11,1,92,29,876]\n",
    "#Output:- [10,1,11,29,876,768,92]\n",
    "\n",
    "input_list = [10,1,11,1,29,876,768,10,11,1,92,29,876]\n",
    "final_list = []\n",
    "\n",
    "for i in input_list:\n",
    "    if i not in final_list:\n",
    "        final_list.append(i)      \n",
    "            \n",
    "print(final_list)"
   ]
  },
  {
   "cell_type": "code",
   "execution_count": 18,
   "metadata": {
    "colab": {},
    "colab_type": "code",
    "id": "koYe4YCu94rh"
   },
   "outputs": [
    {
     "name": "stdout",
     "output_type": "stream",
     "text": [
      "List isn't empty\n"
     ]
    }
   ],
   "source": [
    "#Write a Python program to check a list is empty or not?\n",
    "#Input:- []\n",
    "#Output:- List is empty\n",
    "#Input:- [10,20,30]\n",
    "#Output:- List is not empty\n",
    "\n",
    "input_list = [1,2,3,4,5]\n",
    "count = 0\n",
    "for i in input_list:\n",
    "    count = count + 1\n",
    "if count==0:\n",
    "    print(\"List is empty\")\n",
    "else:\n",
    "    print(\"List isn't empty\") \n",
    "    "
   ]
  },
  {
   "cell_type": "code",
   "execution_count": 19,
   "metadata": {
    "colab": {},
    "colab_type": "code",
    "id": "mES1WANa94u5"
   },
   "outputs": [
    {
     "name": "stdout",
     "output_type": "stream",
     "text": [
      "[10, 10.2, (10+20j), 'Python', [10, 20], (10, 20)]\n"
     ]
    }
   ],
   "source": [
    "#Write a Python program to copy a list using loop.\n",
    "#inp_lst = [10,10.20,10+20j, 'Python', [10,20], (10,20)]\n",
    "#out_lst = [10,10.20,10+20j, 'Python', [10,20], (10,20)]\n",
    "\n",
    "input_list = [10,10.20,10+20j, 'Python', [10,20], (10,20)]\n",
    "new_list=[]\n",
    "for i in input_list:\n",
    "    new_list.append(i)\n",
    "print(new_list)"
   ]
  },
  {
   "cell_type": "code",
   "execution_count": 22,
   "metadata": {
    "colab": {},
    "colab_type": "code",
    "id": "CpBh31WO94yi"
   },
   "outputs": [
    {
     "name": "stdout",
     "output_type": "stream",
     "text": [
      "['much', 'wood', 'would', 'woodchuck', 'chuck', 'could']\n"
     ]
    }
   ],
   "source": [
    "#Write a Python program to find the list of words that are longer than or equal to 4 from a given string.\n",
    "#Input:- 'How much wood would a woodchuck chuck if a woodchuck could chuck wood'\n",
    "#Output:- ['much', 'wood', 'would', 'woodchuck', 'chuck', 'could', 'could']\n",
    "#Note:- Duplicate should be avoided.\n",
    "\n",
    "input_str = 'How much wood would a woodchuck chuck if a woodchuck could chuck wood'\n",
    "my_list = input_str.split()\n",
    "new_list = []\n",
    "for i in my_list:\n",
    "    if i not in new_list and len(i)>=4:\n",
    "        new_list.append(i)\n",
    "print(new_list)"
   ]
  },
  {
   "cell_type": "code",
   "execution_count": 24,
   "metadata": {
    "colab": {},
    "colab_type": "code",
    "id": "YVfj0fgZ9416"
   },
   "outputs": [
    {
     "name": "stdout",
     "output_type": "stream",
     "text": [
      "True\n"
     ]
    }
   ],
   "source": [
    "#Write a Python program which takes two list as input and returns True if they have at least 3 common elements.\n",
    "#inp_lst1 = [10,20,'Python', 10.20, 10+20j, [10,20,30], (10,20,30)]\n",
    "#inp_lst2 = [(10,20,30),1,20+3j,100.2, 10+20j, [10,20,30],'Python']\n",
    "#Output:- True\n",
    "\n",
    "input_list_1 = [10,20,'Python', 10.20, 10+20j, [10,20,30], (10,20,30)]\n",
    "input_list_2 = [(10,20,30),1,20+3j,100.2, 10+20j, [10,20,30],'Python']\n",
    "n1 = len(input_list_1)\n",
    "n2 = len(input_list_2)\n",
    "count = 0\n",
    "\n",
    "for i in range(n1):\n",
    "    for j in range(n2):\n",
    "        if input_list_1[i] == input_list_2[j]:\n",
    "            count = count + 1\n",
    "if count>=3:\n",
    "    print(True)"
   ]
  },
  {
   "cell_type": "code",
   "execution_count": 35,
   "metadata": {
    "colab": {},
    "colab_type": "code",
    "id": "7vwc3pjR945O"
   },
   "outputs": [
    {
     "ename": "IndexError",
     "evalue": "list index out of range",
     "output_type": "error",
     "traceback": [
      "\u001b[1;31m---------------------------------------------------------------------------\u001b[0m",
      "\u001b[1;31mIndexError\u001b[0m                                Traceback (most recent call last)",
      "\u001b[1;32m<ipython-input-35-00fea0b1dcab>\u001b[0m in \u001b[0;36m<module>\u001b[1;34m\u001b[0m\n\u001b[0;32m      9\u001b[0m \u001b[1;33m\u001b[0m\u001b[0m\n\u001b[0;32m     10\u001b[0m     \u001b[1;32mfor\u001b[0m \u001b[0mj\u001b[0m \u001b[1;32min\u001b[0m \u001b[0mrange\u001b[0m\u001b[1;33m(\u001b[0m\u001b[1;36m4\u001b[0m\u001b[1;33m)\u001b[0m\u001b[1;33m:\u001b[0m\u001b[1;33m\u001b[0m\u001b[1;33m\u001b[0m\u001b[0m\n\u001b[1;32m---> 11\u001b[1;33m         \u001b[0ma\u001b[0m\u001b[1;33m.\u001b[0m\u001b[0mappend\u001b[0m\u001b[1;33m(\u001b[0m\u001b[0minput_list\u001b[0m\u001b[1;33m[\u001b[0m\u001b[0mcount\u001b[0m\u001b[1;33m]\u001b[0m\u001b[1;33m)\u001b[0m\u001b[1;33m\u001b[0m\u001b[1;33m\u001b[0m\u001b[0m\n\u001b[0m\u001b[0;32m     12\u001b[0m         \u001b[0mcount\u001b[0m \u001b[1;33m=\u001b[0m \u001b[0mcount\u001b[0m \u001b[1;33m+\u001b[0m \u001b[1;36m1\u001b[0m\u001b[1;33m\u001b[0m\u001b[1;33m\u001b[0m\u001b[0m\n\u001b[0;32m     13\u001b[0m     \u001b[0mmatrix\u001b[0m\u001b[1;33m.\u001b[0m\u001b[0mappend\u001b[0m\u001b[1;33m(\u001b[0m\u001b[0ma\u001b[0m\u001b[1;33m)\u001b[0m\u001b[1;33m\u001b[0m\u001b[1;33m\u001b[0m\u001b[0m\n",
      "\u001b[1;31mIndexError\u001b[0m: list index out of range"
     ]
    }
   ],
   "source": [
    "#Write a Python program to create a 4X4 2D matrix with below elements using loop and list comprehension both.\n",
    "#Output:- [[0,0,0,0],[0,1,2,3],[0,2,4,6],[0,3,6,9]]\n",
    "\n",
    "input_list = [0,0,0,0,1,2,3,0,2,4,6,0,3,6,9]\n",
    "matrix = []\n",
    "count = 0\n",
    "for i in range(4):\n",
    "    a = []\n",
    "    \n",
    "    for j in range(4):\n",
    "        a.append(input_list[count])\n",
    "        count = count + 1\n",
    "    matrix.append(a)\n",
    "print(matrix, end = '')\n",
    "    \n"
   ]
  },
  {
   "cell_type": "code",
   "execution_count": null,
   "metadata": {
    "colab": {},
    "colab_type": "code",
    "id": "Pxafor84948b"
   },
   "outputs": [],
   "source": [
    "#Write a Python program to create a 3X4X6 3D matrix wiith below elements using loop\n",
    "#Output:- \n",
    "# [\n",
    "#     [[0,0,0,0,0,0],[0,0,0,0,0,0],[0,0,0,0,0,0],[0,0,0,0,0,0]],\n",
    "#     [[0,0,0,0,0,0],[1,1,1,1,1,1],[2,2,2,2,2,2],[3,3,3,3,3,3]],\n",
    "#     [[0,0,0,0,0,0],[2,2,2,2,2,2],[4,4,4,4,4,4],[6,6,6,6,6,6]]\n",
    "# ]\n",
    "\n",
    "\n"
   ]
  },
  {
   "cell_type": "code",
   "execution_count": 27,
   "metadata": {
    "colab": {},
    "colab_type": "code",
    "id": "lYNv8gk794_p"
   },
   "outputs": [
    {
     "name": "stdout",
     "output_type": "stream",
     "text": [
      "[10, 22, 98, 2, 100]\n"
     ]
    }
   ],
   "source": [
    "#Write a Python program which takes a list of numbers as input and prints a new list after removing even numbers from it.\n",
    "#Input:- [10,21,22,98,87,45,33,1,2,100]\n",
    "#Output:- [21,87,45,33,1]\n",
    "\n",
    "input_list = [10,21,22,98,87,45,33,1,2,100]\n",
    "new_list = []\n",
    "for i in input_list:\n",
    "    if i%2==0:\n",
    "        new_list.append(i)\n",
    "print(new_list)"
   ]
  },
  {
   "cell_type": "code",
   "execution_count": 32,
   "metadata": {
    "colab": {},
    "colab_type": "code",
    "id": "3BaCb-rB95B7"
   },
   "outputs": [
    {
     "name": "stdout",
     "output_type": "stream",
     "text": [
      "[21, 33, 45, 87, 2, 10, 1, 98, 100, 22]\n"
     ]
    }
   ],
   "source": [
    "#Write a Python program which takes a list from the user and prints it after reshuffling the elements of the list.\n",
    "#Input:- [10,21,22,98,87,45,33,1,2,100]\n",
    "#Output:- [1,87,21,10,33,2,100,45,98,22] (It may be any randon list but with same elements)\n",
    "import random\n",
    "input_list = [10,21,22,98,87,45,33,1,2,100]\n",
    "output_list = random.sample(input_list,len(input_list))\n",
    "print(output_list)\n"
   ]
  },
  {
   "cell_type": "code",
   "execution_count": null,
   "metadata": {},
   "outputs": [],
   "source": []
  }
 ],
 "metadata": {
  "colab": {
   "name": "List_Assignment.ipynb",
   "provenance": []
  },
  "kernelspec": {
   "display_name": "Python 3",
   "language": "python",
   "name": "python3"
  },
  "language_info": {
   "codemirror_mode": {
    "name": "ipython",
    "version": 3
   },
   "file_extension": ".py",
   "mimetype": "text/x-python",
   "name": "python",
   "nbconvert_exporter": "python",
   "pygments_lexer": "ipython3",
   "version": "3.7.6"
  }
 },
 "nbformat": 4,
 "nbformat_minor": 1
}
