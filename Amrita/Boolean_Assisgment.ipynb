{
 "cells": [
  {
   "cell_type": "markdown",
   "metadata": {},
   "source": [
    "# Boolean Assigmnet"
   ]
  },
  {
   "cell_type": "code",
   "execution_count": 41,
   "metadata": {},
   "outputs": [
    {
     "name": "stdout",
     "output_type": "stream",
     "text": [
      "<class 'bool'>\n",
      "8791376636240\n"
     ]
    }
   ],
   "source": [
    "a = True             #Declare a boolean value and store it in a variable. \n",
    "print(type(a))       #Check the type and print the id of the same.\n",
    "print(id(a))"
   ]
  },
  {
   "cell_type": "code",
   "execution_count": 40,
   "metadata": {},
   "outputs": [
    {
     "name": "stdout",
     "output_type": "stream",
     "text": [
      "8791376636240\n",
      "8791376636240\n"
     ]
    }
   ],
   "source": [
    "x , y = bool(6), bool(6)          #Take one boolean value between 0 - 256.#Assign it to two different variables. \n",
    "print(id(x))                      #Check the id of both the variables.\n",
    "print(id(y))\n",
    " \n",
    "#Object Reusability Concept       #It should come same. Check why?"
   ]
  },
  {
   "cell_type": "code",
   "execution_count": 2,
   "metadata": {},
   "outputs": [
    {
     "name": "stdout",
     "output_type": "stream",
     "text": [
      "True\n",
      "True\n",
      "False\n",
      "False\n",
      "False\n",
      "True\n"
     ]
    }
   ],
   "source": [
    "#Arithmatic Operations on boolean data\n",
    "\n",
    "r , s  = True  , False   #Take two different boolean values.#Store them in two different variables.\n",
    "sum = r + s              #Find sum of both values\n",
    "diff = r - s             #Find differce between them\n",
    "pro  = r * s             #Find the product of both.\n",
    "t = s / r                #Fnd value after dividing first value with second value\n",
    "w = s % r                #Find the remainder after dividing first value with second value\n",
    "#Cant do for boolean      #Find the quotient after dividing first value with second value\n",
    "f = r ** s               #Find the result of first value to the power of second value.\n",
    "print(bool(sum))         #True\n",
    "print(bool(diff))        #True\n",
    "print(bool(pro))         #False\n",
    "print(bool(t))           #False\n",
    "print(bool(w))           #False\n",
    "print(bool(f))           #True\n",
    "\n",
    "#print(type(sum),type(r))\n",
    "#print(Addition is bool(sum)) --Why this is giving False\n",
    "#diff = x.difference(y)-- This will not work 'bool' object has no attribute 'difference'\n",
    "#Division = You cannot divide by modulo by-- Zero ZeroDivisionError: division by zer    "
   ]
  },
  {
   "cell_type": "markdown",
   "metadata": {},
   "source": [
    "#Comparison Operators on boolean values\n",
    "\n",
    "A , B = True  , False        #Take two different boolean values.#Store them in two different variables.\n",
    "OP1 = A > B                    #Compare these two values with below operator:-\n",
    "OP2 = A < B                    #less than, '<'\n",
    "OP3 = A >= B                 #Greater than or equal to, '>='\n",
    "OP4 = A <= B                 #Less than or equal to, '<='    \n",
    "\n",
    "print(type(OP1))\n",
    "print(type(OP2))\n",
    "print(type(OP3))\n",
    "print(type(OP4))\n",
    "#Observe their output(return type should be boolean)\n"
   ]
  },
  {
   "cell_type": "code",
   "execution_count": 4,
   "metadata": {},
   "outputs": [
    {
     "name": "stdout",
     "output_type": "stream",
     "text": [
      "False\n",
      "True\n"
     ]
    }
   ],
   "source": [
    "#Equality Operator\n",
    "C , D = True  , False        #Take two different boolean values.#Store them in two different variables.\n",
    "\n",
    "print ( C == D)             #Equuate them using equality operator (==, !=)\n",
    "print ( C != D)             #Observe the output(return type should be boolean)"
   ]
  },
  {
   "cell_type": "code",
   "execution_count": 6,
   "metadata": {},
   "outputs": [
    {
     "name": "stdout",
     "output_type": "stream",
     "text": [
      "True\n",
      "False\n",
      "False\n",
      "False\n",
      "True\n",
      "True\n",
      "True\n",
      "False\n",
      "False\n",
      "True\n"
     ]
    }
   ],
   "source": [
    "#Logical operators\n",
    "#Observe the output of below code #Cross check the output manually\n",
    "\n",
    "print(True and True)         #----------->Output is True\n",
    "print(False and True)        #----------->Output is False\n",
    "print(True and False)        #----------->Output is False\n",
    "print(False and False)       #----------->Output is False\n",
    "\n",
    "print(True or True)          #----------->Output is True\n",
    "print(False or True)         #----------->Output is True\n",
    "print(True or False)         #----------->Output is True\n",
    "print(False or False)        #----------->Output is False\n",
    "\n",
    "print(not True)              #----------->Output is False\n",
    "print(not False)             #----------->Output is True"
   ]
  },
  {
   "cell_type": "code",
   "execution_count": 8,
   "metadata": {},
   "outputs": [
    {
     "name": "stdout",
     "output_type": "stream",
     "text": [
      "False\n",
      "True\n",
      "False\n",
      "False\n",
      "True\n",
      "True\n",
      "False\n",
      "False\n",
      "True\n",
      "False\n",
      "False\n",
      "False\n",
      "-1\n",
      "-2\n",
      "4\n",
      "0\n"
     ]
    }
   ],
   "source": [
    "#Bitwise Operators  #Do below operations on the values provided below:-\n",
    "\n",
    "#Bitwise and(&)\n",
    "print(True & False)    \n",
    "print(True & True)  \n",
    "print(False & False)\n",
    "print(False & False)\n",
    "\n",
    "#Bitwise or(|)            -----> True, False   -------> Output is True\n",
    "print(True | False)    \n",
    "print(True | True)  \n",
    "print(False | False)\n",
    "print(False | False)\n",
    "\n",
    "#Bitwise(^)                -----> True, False   -------> Output is True\n",
    "print(True ^ False)    \n",
    "print(True ^ True)  \n",
    "print(False ^ False)\n",
    "print(False ^ False)\n",
    "  \n",
    "#Bitwise negation(~)       ------> True          -------> Output is -2\n",
    "print(~False)    \n",
    "print(~True)     \n",
    "\n",
    "#Bitwise left shift        -----> True,2        -------> Output is 4\n",
    "print(True  << 2)\n",
    "\n",
    "#Bitwise right shift   ----------> True,2        -------> Output is 0\n",
    "print(True  >> 2)\n",
    "\n",
    "#Cross check the output manually\n"
   ]
  },
  {
   "cell_type": "code",
   "execution_count": null,
   "metadata": {},
   "outputs": [],
   "source": [
    "#What is the output of expression inside print statement. Cross check before running the program.\n",
    "a = True\n",
    "b = True\n",
    "print(a is b)          #True or False?   #\n",
    "print(a is not b)      #True or False?\n",
    "\n",
    "a = False\n",
    "b = False\n",
    "print(a is b)          #True or False?\n",
    "print(a is not b)      #True or False?"
   ]
  },
  {
   "cell_type": "code",
   "execution_count": null,
   "metadata": {},
   "outputs": [],
   "source": [
    "#Membership operation\n",
    "#in, not in are two membership operators and it returns boolean value\n",
    "\n",
    "print(True in [10,10.20,10+20j,'Python', True])\n",
    "print(False in (10,10.20,10+20j,'Python', False))\n",
    "print(True in {1,2,3, True})\n",
    "print(True in {True:100, False:200, True:300})\n",
    "print(False in {True:100, False:200, True:300})"
   ]
  }
 ],
 "metadata": {
  "kernelspec": {
   "display_name": "Python 3",
   "language": "python",
   "name": "python3"
  },
  "language_info": {
   "codemirror_mode": {
    "name": "ipython",
    "version": 3
   },
   "file_extension": ".py",
   "mimetype": "text/x-python",
   "name": "python",
   "nbconvert_exporter": "python",
   "pygments_lexer": "ipython3",
   "version": "3.7.6"
  }
 },
 "nbformat": 4,
 "nbformat_minor": 4
}
