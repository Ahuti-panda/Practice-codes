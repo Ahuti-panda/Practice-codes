{
 "cells": [
  {
   "cell_type": "code",
   "execution_count": 1,
   "metadata": {},
   "outputs": [
    {
     "name": "stdout",
     "output_type": "stream",
     "text": [
      "<class 'str'>\n",
      "83198960\n"
     ]
    }
   ],
   "source": [
    "#Declare a string and store it in a variable. \n",
    "#Check the type and print the id of the same.\n",
    "\n",
    "s='Python is  a programming language'\n",
    "print(type(s))\n",
    "print(id(s))"
   ]
  },
  {
   "cell_type": "code",
   "execution_count": null,
   "metadata": {},
   "outputs": [],
   "source": [
    "#Which are valid/invalid strings\n",
    "1. 'This is Python class'     -- Valid\n",
    "valid/invalid\n",
    "\n",
    "2. \"This is Python class\"  --Valid\n",
    "valid/invalid\n",
    "\n",
    "3. '''This is Python class'''  --valid\n",
    "valid/invalid\n",
    "\n",
    "4. \"\"\"This is Python class\"\"\"  --Valid\n",
    "valid/invalid\n",
    "\n",
    "5. 'This is Python's class'  --Invalid \n",
    "valid/invalid\n",
    "\n",
    "6. \"Learnbay provides \"Java\", \"Python\" classes\"  --Invalid\n",
    "valid/invalid\n",
    "\n",
    "7. \"Learnbay provides 'Java', 'Python' classes\" --Valid\n",
    "valid/invalid\n",
    "\n",
    "8. \"This is Python's class\"  --valid\n",
    "valid/invalid\n",
    "\n",
    "9. \"\"\"Learnbay provides \"Java\", \"Python\" classes\"\"\"  --Valid\n",
    "valid/invalid\n",
    "\n",
    "10. '''Learnbay provides \"Java\", \"Python\" classes'''  --Valid\n",
    "valid/invalid   #\n",
    "\n",
    "11. '''Learnbay provides  \n",
    "\"Java\", \"Python\" \n",
    "classes'''\n",
    "valid/invalid    --Valid\n",
    "\n",
    "12. 'This is  \n",
    "Python \n",
    "class'     --Valid\n",
    "valid/invalid\n"
   ]
  },
  {
   "cell_type": "code",
   "execution_count": 26,
   "metadata": {},
   "outputs": [
    {
     "name": "stdout",
     "output_type": "stream",
     "text": [
      "The length of my_str is  66\n"
     ]
    }
   ],
   "source": [
    "#Write the code to get the output mentioned below print statement\n",
    "my_str = \"Although that way may not be obvious at first unless you're Dutch.\"\n",
    "my_str1 = \"Although that way may not be obvious at first unless you're Dutch.\"\n",
    "\n",
    "print('The length of my_str is ', len(my_str))\n",
    "#output:- The length of my_str is 66\n"
   ]
  },
  {
   "cell_type": "code",
   "execution_count": 25,
   "metadata": {},
   "outputs": [
    {
     "name": "stdout",
     "output_type": "stream",
     "text": [
      "id of my_str and my_str1 is same?False\n"
     ]
    }
   ],
   "source": [
    "my_str = \"Although that way may not be obvious at first unless you're Dutch.\"\n",
    "my_str1 =\"Although that way may not be obvious at first unless you're Dutch.\"\n",
    "#output:- id of my_str and my_str1 is same? - True\n",
    "\n",
    "Id_mystr=id(my_str)\n",
    "Id_mystr1=id(my_str1)\n",
    "if Id_mystr == Id_mystr1:\n",
    "    print('id of my_str and my_str1 is same?True')\n",
    "else:\n",
    "    print('id of my_str and my_str1 is same?False')   \n",
    "    \n",
    "#THE ID IS DIFFERENT.why ?\n",
    "\n",
    "#R='Where are you going'\n",
    "#S='Where are you going'\n",
    "#print(id(R))\n",
    "#print(id(S))\n",
    "\n",
    "\n",
    "#A='ATE'\n",
    "#B='ATE'\n",
    "#print(id(A))\n",
    "#print(id(B))\n",
    "\n",
    "#W=\"CAN BE\"\n",
    "#U=\"CAN BE\"\n",
    "#print(id(W))\n",
    "#print(id(U))\n",
    "\n",
    "#print(id(my_str))\n",
    "#print(id(my_str1))"
   ]
  },
  {
   "cell_type": "code",
   "execution_count": 38,
   "metadata": {},
   "outputs": [
    {
     "name": "stdout",
     "output_type": "stream",
     "text": [
      "Type of my_str is : <class 'str'>\n"
     ]
    }
   ],
   "source": [
    "my_str = \"Although that way may not be obvious at first unless you're Dutch.\"\n",
    "my_str1 = \"Although that way may not be obvious at first unless you're Dutch.\"\n",
    "#output:- Type of my_str is: str\n",
    "\n",
    "print('Type of my_str is :',type(my_str))\n"
   ]
  },
  {
   "cell_type": "code",
   "execution_count": 39,
   "metadata": {},
   "outputs": [
    {
     "name": "stdout",
     "output_type": "stream",
     "text": [
      "The first character in my_str is: A\n"
     ]
    }
   ],
   "source": [
    "#Indexing\n",
    "my_str = \"Although 8 that way may not be obvious at first unless you're Dutch\"\n",
    "#Write the code to get the output,instructions are mentioned below print statement. use indexing\n",
    "\n",
    "print('The first character in my_str is:' , my_str[0])\n",
    "#output:- The first character in my_str is: A\n",
    "#Note:- Use positive indexing"
   ]
  },
  {
   "cell_type": "code",
   "execution_count": 8,
   "metadata": {},
   "outputs": [
    {
     "name": "stdout",
     "output_type": "stream",
     "text": [
      "\n"
     ]
    }
   ],
   "source": [
    "#Indexing\n",
    "my_str = \"Although 8 that way may not be obvious at first unless you're Dutch\"\n",
    "#Write the code to get the output,instructions are mentioned below print statement. use indexing\n",
    "\n",
    "\n",
    "print()\n",
    "#output:- The first character in my_str is: h   ---First character is not h\n",
    "#Note:- Use len() function."
   ]
  },
  {
   "cell_type": "code",
   "execution_count": 40,
   "metadata": {},
   "outputs": [
    {
     "name": "stdout",
     "output_type": "stream",
     "text": [
      "The character at index 10 in my_str is:  \n"
     ]
    }
   ],
   "source": [
    "#Indexing\n",
    "my_str = \"Although 8 that way may not be obvious at first unless you're Dutch\"\n",
    "#Write the code to get the output,instructions are mentioned below print statement. use indexing\n",
    "\n",
    "\n",
    "print('The character at index 10 in my_str is:', my_str[10])\n",
    "#output:- The character at index 10 in my_str is: c  --- index 10 is space not c\n",
    "#Note:- Use positive indexing\n"
   ]
  },
  {
   "cell_type": "code",
   "execution_count": 42,
   "metadata": {},
   "outputs": [
    {
     "name": "stdout",
     "output_type": "stream",
     "text": [
      "The last character in my_str is: h\n"
     ]
    }
   ],
   "source": [
    "#Indexing\n",
    "my_str = \"Although 8 that way may not be obvious at first unless you're Dutch\"\n",
    "#Write the code to get the output,instructions are mentioned below print statement. use indexing\n",
    "\n",
    "\n",
    "print('The last character in my_str is:', my_str[-1])\n",
    "#output:- The last character in my_str is: h\n",
    "#Note:- Use negative indexing"
   ]
  },
  {
   "cell_type": "code",
   "execution_count": 40,
   "metadata": {},
   "outputs": [
    {
     "name": "stdout",
     "output_type": "stream",
     "text": [
      "The last character in my_str is : h\n"
     ]
    }
   ],
   "source": [
    "#Indexing\n",
    "my_str = \"Although 8 that way may not be obvious at first unless you're Dutch\"\n",
    "#Write the code to get the output,instructions are mentioned below print statement. use indexing\n",
    "\n",
    "length=len(my_str)\n",
    "last_char= my_str[length -1]\n",
    "print('The last character in my_str is :', last_char)\n",
    "#output:- The last character in my_str is: h\n",
    "#Note:- Use len() function.\n"
   ]
  },
  {
   "cell_type": "code",
   "execution_count": 45,
   "metadata": {},
   "outputs": [
    {
     "name": "stdout",
     "output_type": "stream",
     "text": [
      "The character in my_str is: 8\n"
     ]
    }
   ],
   "source": [
    "#Indexing\n",
    "my_str = \"Although 8 that way may not be obvious at first unless you're Dutch\"\n",
    "#Write the code to get the output,instructions are mentioned below print statement. use indexing\n",
    "\n",
    "print('The character in my_str is:', my_str[9])\n",
    "#output:- The character in my_str is: 8\n",
    "#Note:- Use positive index"
   ]
  },
  {
   "cell_type": "code",
   "execution_count": 41,
   "metadata": {},
   "outputs": [
    {
     "name": "stdout",
     "output_type": "stream",
     "text": [
      "You have sliced: Although that way may not be obvious at first unless you're Dutch.\n"
     ]
    }
   ],
   "source": [
    "\n",
    "#Slicing\n",
    "my_str = \"Although that way may not be obvious at first unless you're Dutch.\"\n",
    "#Write the code to get the output,instructions are mentioned below print statement. use slicing\n",
    "print('You have sliced:',my_str[::])\n",
    "#output:- You have sliced: Although that way may not be obvious at first unless you're Dutch.\n",
    "#Without begin, end and step"
   ]
  },
  {
   "cell_type": "code",
   "execution_count": 42,
   "metadata": {},
   "outputs": [
    {
     "name": "stdout",
     "output_type": "stream",
     "text": [
      "You have sliced: Although that way may not be obvious at first unless you're Dutch.\n"
     ]
    }
   ],
   "source": [
    "#Slicing\n",
    "my_str = \"Although that way may not be obvious at first unless you're Dutch.\"\n",
    "#Write the code to get the output,instructions are mentioned below print statement. use slicing\n",
    "\n",
    "print('You have sliced:', my_str[0:len(my_str)])\n",
    "#output:- You have sliced: Although that way may not be obvious at first unless you're Dutch.\n",
    "#with begin as 0 end using len and without step"
   ]
  },
  {
   "cell_type": "code",
   "execution_count": 43,
   "metadata": {},
   "outputs": [
    {
     "name": "stdout",
     "output_type": "stream",
     "text": [
      "You have sliced: Although that way may not be obvious at first unless you're Dutch.\n"
     ]
    }
   ],
   "source": [
    "\n",
    "#Slicing\n",
    "my_str = \"Although that way may not be obvious at first unless you're Dutch.\"\n",
    "#Write the code to get the output,instructions are mentioned below print statement. use slicing\n",
    "\n",
    "\n",
    "print('You have sliced:',my_str[::1])\n",
    "#output:- You have sliced: Although that way may not be obvious at first unless you're Dutch.\n",
    "#without begin and end but using step"
   ]
  },
  {
   "cell_type": "code",
   "execution_count": 44,
   "metadata": {},
   "outputs": [
    {
     "name": "stdout",
     "output_type": "stream",
     "text": [
      "You have sliced: Although that way may not be obvious at first unless you're Dutch.\n"
     ]
    }
   ],
   "source": [
    "\n",
    "#Slicing\n",
    "my_str = \"Although that way may not be obvious at first unless you're Dutch.\"\n",
    "#Write the code to get the output,instructions are mentioned below print statement. use slicing\n",
    "\n",
    "print('You have sliced:',my_str[0:len(my_str):1])\n",
    "#output:- You have sliced: Although that way may not be obvious at first unless you're Dutch.With begin, end and step\n",
    "\n"
   ]
  },
  {
   "cell_type": "code",
   "execution_count": 45,
   "metadata": {},
   "outputs": [
    {
     "name": "stdout",
     "output_type": "stream",
     "text": [
      "You have sliced: \n"
     ]
    }
   ],
   "source": [
    "\n",
    "#Slicing\n",
    "my_str = \"Although that way may not be obvious at first unless you're Dutch.\"\n",
    "#Write the code to get the output,instructions are mentioned below print statement. use slicing\n",
    "\n",
    "\n",
    "print('You have sliced:',my_str[0:1:-1])\n",
    "#output:- You have sliced:   .with using begin and end using postive values and step as negative values.\n",
    "#Slicing command should print empty string."
   ]
  },
  {
   "cell_type": "code",
   "execution_count": 88,
   "metadata": {},
   "outputs": [
    {
     "name": "stdout",
     "output_type": "stream",
     "text": [
      "Atog htwymyntb biu tfrtuls o'eDth\n"
     ]
    }
   ],
   "source": [
    "#Slicing\n",
    "s = \"Although that way may not be obvious at first unless you're Dutch.\"\n",
    "     \n",
    "print(my_str[::2])\n",
    "#Write the code to get the output,instructions are mentioned below print statement. use slicing\n",
    "#output:- You have sliced: Atog htwymyntb biu tfrtuls o'eDth  \n",
    "\n",
    "#Not getting logic for this "
   ]
  },
  {
   "cell_type": "code",
   "execution_count": 85,
   "metadata": {},
   "outputs": [
    {
     "name": "stdout",
     "output_type": "stream",
     "text": [
      "Ahgttam tebo  r lsorDc\n"
     ]
    }
   ],
   "source": [
    "#Slicing\n",
    "my_str = \"Although that way may not be obvious at first unless you're Dutch.\"\n",
    "#Write the code to get the output,instructions are mentioned below print statement. use slicing\n",
    "\n",
    "print(my_str[0:len(my_str):3])\n",
    "\n",
    "#output:- You have sliced: Ahgttam tebo  r lsorDc  "
   ]
  },
  {
   "cell_type": "code",
   "execution_count": 71,
   "metadata": {},
   "outputs": [
    {
     "name": "stdout",
     "output_type": "stream",
     "text": [
      "You have sliced: .hctuD er'uoy sselnu tsrif ta suoivbo eb ton yam yaw taht hguohtlA\n"
     ]
    }
   ],
   "source": [
    "#Slicing\n",
    "my_str = \"Although that way may not be obvious at first unless you're Dutch.\"\n",
    "#Write the code to get the output,instructions are mentioned below print statement. use slicing\n",
    "\n",
    "\n",
    "print('You have sliced:', my_str[::-1])\n",
    "#output:- You have sliced: .hctuD er'uoy sselnu tsrif ta suoivbo eb ton yam yaw taht hguohtlA. Use only step\n"
   ]
  },
  {
   "cell_type": "code",
   "execution_count": 63,
   "metadata": {},
   "outputs": [
    {
     "name": "stdout",
     "output_type": "stream",
     "text": [
      "You have sliced: .hctuD er'uoy sselnu tsrif ta suoivbo eb ton yam yaw taht hguohtlA\n"
     ]
    }
   ],
   "source": [
    "\n",
    "#Slicing\n",
    "my_str = \"Although that way may not be obvious at first unless you're Dutch.\"\n",
    "#Write the code to get the output,instructions are mentioned below print statement. use slicing\n",
    "\n",
    "\n",
    "print('You have sliced:', my_str[-1:-len(my_str)-1:-1])\n",
    "#output:- You have sliced: .hctuD er'uoy sselnu tsrif ta suoivbo eb ton yam yaw taht hguohtlA. Use begin end and step.\n"
   ]
  },
  {
   "cell_type": "code",
   "execution_count": 82,
   "metadata": {},
   "outputs": [
    {
     "name": "stdout",
     "output_type": "stream",
     "text": [
      ".cu ruysen si asovoe o a a athuhl"
     ]
    }
   ],
   "source": [
    "\n",
    "#Slicing\n",
    "my_str = \"Although that way may not be obvious at first unless you're Dutch.\"\n",
    "#Write the code to get the output,instructions are mentioned below print statement. use slicing\n",
    "\n",
    "print(my_str[::-2],end='')\n",
    "#output:- You have sliced: .cu ruysen si asovoe o a a athuhl. use only step  \n"
   ]
  },
  {
   "cell_type": "code",
   "execution_count": 83,
   "metadata": {},
   "outputs": [
    {
     "name": "stdout",
     "output_type": "stream",
     "text": [
      ".cu ruysen si asovoe o a a athuhl\n"
     ]
    }
   ],
   "source": [
    "\n",
    "#Slicing\n",
    "my_str = \"Although that way may not be obvious at first unless you're Dutch.\"\n",
    "#Write the code to get the output,instructions are mentioned below print statement. use slicing\n",
    "\n",
    "\n",
    "print(my_str[-1:-len(my_str):-2])\n",
    "#output:- You have sliced: .cu ruysen si asovoe o a a athuhl. use begin, end and step. "
   ]
  },
  {
   "cell_type": "code",
   "execution_count": 89,
   "metadata": {},
   "outputs": [
    {
     "name": "stdout",
     "output_type": "stream",
     "text": [
      "\n"
     ]
    }
   ],
   "source": [
    "#Slicing\n",
    "my_str = \"Although that way may not be obvious at first unless you're Dutch.\"\n",
    "#Write the code to get the output,instructions are mentioned below print statement. use slicing\n",
    "\n",
    "print(my_str[10:17:-1])  #--start 10 cannot be found from reverse hence no output\n",
    "#What will be the output?\n"
   ]
  },
  {
   "cell_type": "code",
   "execution_count": 106,
   "metadata": {},
   "outputs": [
    {
     "name": "stdout",
     "output_type": "stream",
     "text": [
      "You have sliced: yaw ta,\n"
     ]
    }
   ],
   "source": [
    "\n",
    "#Slicing\n",
    "my_str = \"Although that way may not be obvious at first unless you're Dutch.\"\n",
    "#Write the code to get the output,instructions are mentioned below print statement. use slicing\n",
    "\n",
    "#import re\n",
    "#res = [i.start() for i in re.finditer('at',my_str)]\n",
    "#print(res)\n",
    "\n",
    "\n",
    "a=my_str[13:17:1]\n",
    "rev_a=a[::-1]\n",
    "f=my_str[37:39:1]\n",
    "rev= f[::-1]\n",
    "str=','\n",
    "word=rev_a +rev+str\n",
    "print('You have sliced:', word)\n",
    "#output:- You have sliced: yaw ta, Using begin, end and step.\n"
   ]
  },
  {
   "cell_type": "code",
   "execution_count": 108,
   "metadata": {},
   "outputs": [
    {
     "name": "stdout",
     "output_type": "stream",
     "text": [
      "You have sliced: ess you\n"
     ]
    }
   ],
   "source": [
    "\n",
    "#Slicing\n",
    "my_str = \"Although that way may not be obvious at first unless you're Dutch.\"\n",
    "#Write the code to get the output,instructions are mentioned below print statement. use slicing\n",
    "\n",
    "#import re\n",
    "#res = [i.start() for i in re.finditer('ess',my_str)]\n",
    "#print(res)\n",
    "\n",
    "print('You have sliced:' , my_str[49:56:1])\n",
    "\n",
    "#output:- You have sliced: ess you. Using begin, end and step.\n"
   ]
  },
  {
   "cell_type": "code",
   "execution_count": 109,
   "metadata": {},
   "outputs": [
    {
     "name": "stdout",
     "output_type": "stream",
     "text": [
      "Learnbay Python\n",
      "LearnbayLearnbayLearnbay\n"
     ]
    }
   ],
   "source": [
    "#Basic operation on string\n",
    "str1 = 'Learnbay'\n",
    "str2 = 'Python'\n",
    "\n",
    "new_str=str1+' '+str2\n",
    "print(new_str)\n",
    "print(str1*3)\n",
    "\n",
    "#Write the code to get the output,instructions are mentioned below.\n",
    "#Output is: Learnbay Python\n",
    "\n",
    "#Find below Output\n",
    "#Output is: LearnbayLearnbayLearnbay\n",
    "\n",
    "\n"
   ]
  },
  {
   "cell_type": "code",
   "execution_count": 113,
   "metadata": {},
   "outputs": [
    {
     "name": "stdout",
     "output_type": "stream",
     "text": [
      "True\n",
      "False\n",
      "False\n",
      "True\n",
      "True\n",
      "False\n"
     ]
    }
   ],
   "source": [
    "#Find below Output\n",
    "str1 = 'Python'\n",
    "str2 = 'Python'\n",
    "str3 = 'Python$'\n",
    "str4 = 'Python$'\n",
    "\n",
    "#print True by using identity operator between str1 and str2\n",
    "if str1 is str2:\n",
    "    print('True')\n",
    "else:\n",
    "    print('False')\n",
    "\n",
    "\n",
    "#print False by using identity operator between str1 and str3\n",
    "if str1 is str2:\n",
    "    print('False')\n",
    "else:\n",
    "    pass\n",
    "\n",
    "\n",
    "#print False by using identity operator between str4 and str3\n",
    "if str4 is not str3:\n",
    "    print('False')\n",
    "else:\n",
    "    print('True')\n",
    "\n",
    "\n",
    "#Check if P is available in str1 and print True by using membership operator\n",
    "if 'P' in str1:\n",
    "    print('True')\n",
    "else:\n",
    "    print('False')\n",
    "\n",
    "#Check if $ is available in str3 and print True by using membership operator\n",
    "if '$' in str3:\n",
    "    print('True')\n",
    "else:\n",
    "    print('False')\n",
    "\n",
    "\n",
    "#Check if N is available in str3 and print False by using membership operator\n",
    "\n",
    "if 'N' in str3:\n",
    "    print('True')\n",
    "else:\n",
    "    print('False')\n"
   ]
  },
  {
   "cell_type": "code",
   "execution_count": null,
   "metadata": {},
   "outputs": [],
   "source": [
    "#Complete the below code\n",
    "str1 = 'This is Python class'\n",
    "#write the code to replace 'Python' with 'Java' and you should get below error.\n",
    "#TypeError: 'str' object does not support item assignment.  ---# REPLACE FUNCTION DOES THE WORK\n",
    "\n",
    "if 'Python' in str1:\n",
    "    str1[8:14]='Java'\n",
    "print(str1)\n",
    "\n",
    "\n",
    "#print(str1.replace('Python','Java'))\n"
   ]
  },
  {
   "cell_type": "code",
   "execution_count": 133,
   "metadata": {},
   "outputs": [
    {
     "name": "stdout",
     "output_type": "stream",
     "text": [
      "True\n",
      "True\n",
      "False\n",
      "False\n"
     ]
    }
   ],
   "source": [
    "str1 = 'A'\n",
    "str2 = 'A'\n",
    "#Compare str1 and str2 and print True using comparison operator\n",
    "if str1 >= str2:\n",
    "    print('True')\n",
    "else:\n",
    "    print('False')\n",
    "\n",
    "    \n",
    "#Compare str1 and str2 and print True using equality operator\n",
    "if str1 == str2:\n",
    "    print('True')\n",
    "else:\n",
    "    print('False')\n",
    "\n",
    "\n",
    "#Compare str1 and str2 and print False using equality operator\n",
    "if str1 != str2:\n",
    "    print('True')\n",
    "else:\n",
    "    print('False')\n",
    "\n",
    "\n",
    "#Compare str1 and str2 and print False using comparison operator\n",
    "\n",
    "if str1 > str2:\n",
    "    print('True')\n",
    "else:\n",
    "    print('False')"
   ]
  },
  {
   "cell_type": "code",
   "execution_count": 140,
   "metadata": {},
   "outputs": [
    {
     "name": "stdout",
     "output_type": "stream",
     "text": [
      "True\n",
      "True\n",
      "False\n",
      "False\n"
     ]
    }
   ],
   "source": [
    "str1 = 'A'\n",
    "str2 = 'a'\n",
    "\n",
    "    \n",
    "#Compare str1 and str2 and print True using comparison operator\n",
    "if str1 < str2:\n",
    "    print('True')\n",
    "else:\n",
    "    print('False')\n",
    "\n",
    "\n",
    "#Compare str1 and str2 and print True using equality operator\n",
    " \n",
    "if str1 != str2:\n",
    "    print('True')\n",
    "else:\n",
    "    print('False')\n",
    "    \n",
    "#Compare str1 and str2 and print False using equality operator\n",
    "if str1 == str2:\n",
    "    print('True')\n",
    "else:\n",
    "    print('False')\n",
    "\n",
    "\n",
    "#Compare str1 and str2 and print False using comparison operator\n",
    "if str1 > str2:\n",
    "    print('True')\n",
    "else:\n",
    "    print('False')\n",
    "\n"
   ]
  },
  {
   "cell_type": "code",
   "execution_count": 137,
   "metadata": {},
   "outputs": [
    {
     "ename": "TypeError",
     "evalue": "'<' not supported between instances of 'str' and 'int'",
     "output_type": "error",
     "traceback": [
      "\u001b[1;31m---------------------------------------------------------------------------\u001b[0m",
      "\u001b[1;31mTypeError\u001b[0m                                 Traceback (most recent call last)",
      "\u001b[1;32m<ipython-input-137-567020460d31>\u001b[0m in \u001b[0;36m<module>\u001b[1;34m\u001b[0m\n\u001b[0;32m      6\u001b[0m \u001b[1;31m#Error: TypeError: '>=' not supported between instances of 'str' and 'int'\u001b[0m\u001b[1;33m\u001b[0m\u001b[1;33m\u001b[0m\u001b[1;33m\u001b[0m\u001b[0m\n\u001b[0;32m      7\u001b[0m \u001b[1;33m\u001b[0m\u001b[0m\n\u001b[1;32m----> 8\u001b[1;33m \u001b[1;32mif\u001b[0m \u001b[0mstr1\u001b[0m \u001b[1;33m<\u001b[0m \u001b[0mstr2\u001b[0m\u001b[1;33m:\u001b[0m\u001b[1;33m\u001b[0m\u001b[1;33m\u001b[0m\u001b[0m\n\u001b[0m\u001b[0;32m      9\u001b[0m     \u001b[0mprint\u001b[0m\u001b[1;33m(\u001b[0m\u001b[1;34m'True'\u001b[0m\u001b[1;33m)\u001b[0m\u001b[1;33m\u001b[0m\u001b[1;33m\u001b[0m\u001b[0m\n\u001b[0;32m     10\u001b[0m \u001b[1;32melse\u001b[0m\u001b[1;33m:\u001b[0m\u001b[1;33m\u001b[0m\u001b[1;33m\u001b[0m\u001b[0m\n",
      "\u001b[1;31mTypeError\u001b[0m: '<' not supported between instances of 'str' and 'int'"
     ]
    }
   ],
   "source": [
    "str1 = 'A'\n",
    "str2 = 65\n",
    "\n",
    "   \n",
    "#Compare str1 and str2 using comparison operator and it should give below error.\n",
    "#Error: TypeError: '>=' not supported between instances of 'str' and 'int'\n",
    "\n",
    "if str1 < str2:\n",
    "    print('True')\n",
    "else:\n",
    "    print('False')\n",
    "\n"
   ]
  },
  {
   "cell_type": "code",
   "execution_count": 138,
   "metadata": {},
   "outputs": [
    {
     "name": "stdout",
     "output_type": "stream",
     "text": [
      "True\n"
     ]
    }
   ],
   "source": [
    "str1 = 'A'\n",
    "str2 = 65\n",
    "\n",
    "#Compare str1 and str2 and print True using equality operator\n",
    "if str1 != str2:\n",
    "    print('True')\n",
    "else:\n",
    "    print('False')\n"
   ]
  },
  {
   "cell_type": "code",
   "execution_count": 139,
   "metadata": {},
   "outputs": [
    {
     "name": "stdout",
     "output_type": "stream",
     "text": [
      "False\n"
     ]
    }
   ],
   "source": [
    "str1 = 'A'\n",
    "str2 = 65\n",
    "\n",
    "\n",
    "#Compare str1 and str2 and print False using equality operator\n",
    "if str1 == str2:\n",
    "    print('True')\n",
    "else:\n",
    "    print('False')\n",
    "\n",
    "\n"
   ]
  },
  {
   "cell_type": "code",
   "execution_count": 142,
   "metadata": {},
   "outputs": [
    {
     "name": "stdout",
     "output_type": "stream",
     "text": [
      "True\n",
      "False\n"
     ]
    }
   ],
   "source": [
    "str1 = 'Python'\n",
    "str2 = 'Python'\n",
    "\n",
    "#Compare str1 and str2 and print True using equality operator\n",
    "#Compare str1 and str2 and print False using equality operator\n",
    "\n",
    "if str1 == str2:\n",
    "    print('True')\n",
    "else:\n",
    "    print('False')\n",
    "\n",
    "\n",
    "if str1 != str2:\n",
    "    print('True')\n",
    "else:\n",
    "    print('False')\n",
    "\n"
   ]
  },
  {
   "cell_type": "code",
   "execution_count": 144,
   "metadata": {},
   "outputs": [
    {
     "name": "stdout",
     "output_type": "stream",
     "text": [
      "True\n",
      "False\n"
     ]
    }
   ],
   "source": [
    "str1 = 'Python'\n",
    "str2 = 'Python'\n",
    "#Compare str1 and str2 and print True using comparison operator\n",
    "#Compare str1 and str2 and print False using comparison operator\n",
    "\n",
    "if str1 >= str2:\n",
    "    print('True')\n",
    "else:\n",
    "    print('False')\n",
    "\n",
    "\n",
    "if str1 > str2:\n",
    "    print('True')\n",
    "else:\n",
    "    print('False')\n",
    "    \n",
    "\n"
   ]
  },
  {
   "cell_type": "code",
   "execution_count": 147,
   "metadata": {},
   "outputs": [
    {
     "name": "stdout",
     "output_type": "stream",
     "text": [
      "True\n",
      "False\n"
     ]
    }
   ],
   "source": [
    "str1 = 'Python'\n",
    "str2 = 'python'\n",
    "#Compare str1 and str2 and print True using comparison operator\n",
    "#Compare str1 and str2 and print False using comparison operator\n",
    "\n",
    "if str1 <= str2:\n",
    "    print('True')\n",
    "else:\n",
    "    print('False')\n",
    "\n",
    "\n",
    "if str1 > str2:\n",
    "    print('True')\n",
    "else:\n",
    "    print('False')\n",
    "  \n",
    "\n",
    "\n",
    "\n"
   ]
  },
  {
   "cell_type": "code",
   "execution_count": 148,
   "metadata": {},
   "outputs": [
    {
     "name": "stdout",
     "output_type": "stream",
     "text": [
      "True\n",
      "False\n"
     ]
    }
   ],
   "source": [
    "str1 = 'Python'\n",
    "str2 = 'python'\n",
    "#Compare str1 and str2 and print True using equality operator\n",
    "#Compare str1 and str2 and print False using equality operator\n",
    "\n",
    "if str1 != str2:\n",
    "    print('True')\n",
    "else:\n",
    "    print('False')\n",
    "    \n",
    "\n",
    "if str1 == str2:\n",
    "    print('True')\n",
    "else:\n",
    "    print('False')"
   ]
  },
  {
   "cell_type": "code",
   "execution_count": 166,
   "metadata": {},
   "outputs": [
    {
     "name": "stdout",
     "output_type": "stream",
     "text": [
      "\n",
      "\n",
      "Python\n",
      "Python\n",
      "True\n",
      "False\n"
     ]
    }
   ],
   "source": [
    "a = 'Python'\n",
    "b = ''\n",
    "\n",
    "#Apply logical opereators (and, or & not) on above string values and observe the output.\n",
    "print(a and b) #Blank\n",
    "print(b and a) #Blank \n",
    "print(a or b)  #Python\n",
    "print(b or a)  #Python\n",
    "print(not b) #True\n",
    "print(not a) #False"
   ]
  },
  {
   "cell_type": "code",
   "execution_count": 165,
   "metadata": {},
   "outputs": [
    {
     "name": "stdout",
     "output_type": "stream",
     "text": [
      "\n",
      "\n",
      "\n",
      "\n",
      "True\n",
      "True\n"
     ]
    }
   ],
   "source": [
    "a = ''\n",
    "b = ''\n",
    "\n",
    "#Apply logical opereators (and, or & not) on above string values and observe the output.\n",
    "print(a and b) #Blank\n",
    "print(b and a) #Blank \n",
    "print(a or b)  #Blank \n",
    "print(b or a)  #Blank \n",
    "print(not b) #True\n",
    "print(not a) #True"
   ]
  },
  {
   "cell_type": "code",
   "execution_count": 164,
   "metadata": {},
   "outputs": [
    {
     "name": "stdout",
     "output_type": "stream",
     "text": [
      "learnbay\n",
      "Python\n",
      "Python\n",
      "learnbay\n",
      "False\n",
      "False\n"
     ]
    }
   ],
   "source": [
    "a = 'Python'\n",
    "b = 'learnbay'\n",
    "\n",
    "#Apply logical opereators (and, or & not) on above string values and observe the output.\n",
    "print(a and b) #learnbay\n",
    "print(b and a) #Python \n",
    "print(a or b)  #Python\n",
    "print(b or a)  #learnbay \n",
    "print(not b) #False\n",
    "print(not a) #False"
   ]
  },
  {
   "cell_type": "code",
   "execution_count": 173,
   "metadata": {},
   "outputs": [
    {
     "name": "stdout",
     "output_type": "stream",
     "text": [
      "11\n",
      "63\n",
      "63\n"
     ]
    }
   ],
   "source": [
    "my_str = \"Although 8 that way may not be obvious at first unless you're Dutch\"\n",
    "\n",
    "#Write the code to get the total count of 't' in above string. Use find() and index() method.\n",
    "\n",
    "\n",
    "#What will be the output of below code?\n",
    "print(my_str.find('the')) #1\n",
    "\n",
    "\n",
    "print(my_str.index('the')) #Not found\n",
    "\n",
    "\n",
    "print(my_str.find('t', 9, 15))  #11\n",
    "\n",
    "\n",
    "print(my_str.rfind('u'))\n",
    "\n",
    "\n",
    "print(my_str.rindex('u'))\n",
    "\n"
   ]
  },
  {
   "cell_type": "code",
   "execution_count": 175,
   "metadata": {},
   "outputs": [
    {
     "name": "stdout",
     "output_type": "stream",
     "text": [
      "2\n",
      "\n",
      "\n"
     ]
    }
   ],
   "source": [
    "my_str = \"Although 8 that way may not be obvious at first unless you're Dutch\"\n",
    "\n",
    "#Write the code to get the total count of 't' in above string. Use find() and index() method.\n",
    "\n",
    "\n",
    "f=my_str.find('t',0,len(my_str))\n",
    "print(f)\n",
    "\n",
    "#Write the code to get the index of '8' in my_str. Use find() and index() method.\n",
    "print()\n",
    "print()\n"
   ]
  },
  {
   "cell_type": "code",
   "execution_count": 177,
   "metadata": {},
   "outputs": [
    {
     "name": "stdout",
     "output_type": "stream",
     "text": [
      "Python\n"
     ]
    }
   ],
   "source": [
    "\n",
    "#W A P which applies strip() method if any string, which will be taken from user, \n",
    "#starts and ends with space, or applies \n",
    "\n",
    "#rrstrip() method if that string only ends with space or applies \n",
    "#lstrip() method if that string only starts with a space.\n",
    "\n",
    "str='    Python   '\n",
    "#output:- 'Python'\n",
    "\n",
    "w1=str.lstrip(' ')\n",
    "w2=w1.rstrip(' ')\n",
    "print(w2)\n",
    "\n",
    "#For example:-\n",
    "\n",
    "\n",
    "#input:- '    Python'\n",
    "#output:- 'Python'\n",
    "\n",
    "#input:- 'Python   '\n",
    "#output:- 'Python'"
   ]
  },
  {
   "cell_type": "code",
   "execution_count": 83,
   "metadata": {},
   "outputs": [
    {
     "name": "stdout",
     "output_type": "stream",
     "text": [
      "ALTHOUGH 8 THAT WAY MAY NOT BE OBVIOUS AT FIRST UNLESS YOU'RE DUTCH\n",
      "although 8 that way may not be obvious at first unless you're dutch\n",
      "aLTHOUGH 8 THAT WAY MAY NOT BE OBVIOUS AT FIRST UNLESS YOU'RE dUTCH\n"
     ]
    }
   ],
   "source": [
    "my_str = \"Although 8 that way may not be obvious at first unless you're Dutch\"\n",
    "\n",
    "#Write the code to convert all alphabets in my_str into upper case.\n",
    "print(my_str.upper())\n",
    "\n",
    "#Write the code to convert all alphabets in my_str into lower case.\n",
    "print(my_str.lower())\n",
    "\n",
    "#Write the code to swap the cases of all alphabets in my_str.(lower to upper and upper to lower)\n",
    "print(my_str.swapcase())\n",
    "\n"
   ]
  },
  {
   "cell_type": "code",
   "execution_count": 1,
   "metadata": {},
   "outputs": [
    {
     "name": "stdout",
     "output_type": "stream",
     "text": [
      "Enter the string starting with small case letter only Lets see what happens\n",
      "Lets See What Happens\n"
     ]
    }
   ],
   "source": [
    "#Write the code which takes one string from user and if it starts with small case letter \n",
    "#then convert it to corresponding capital letter\n",
    "#otherwise if starts with capital letters then convert first character of every word in that string into capital.\n",
    "\n",
    "str=input('Enter the string starting with small case letter only ')\n",
    "asc=ord(str[0])\n",
    "out_str=''\n",
    "if asc in range(97,122):\n",
    "    new_str=str.capitalize()\n",
    "    print(new_str)\n",
    "elif asc in range(65,90):\n",
    "    for i in range(len(str)):\n",
    "        if str[i]==' ' or str[i]=='.':\n",
    "            out_str=str.title()\n",
    "print(out_str)\n",
    "    "
   ]
  },
  {
   "cell_type": "code",
   "execution_count": 1,
   "metadata": {},
   "outputs": [
    {
     "name": "stdout",
     "output_type": "stream",
     "text": [
      "Enter your stringadr5\n",
      "True\n",
      "False\n",
      "False\n",
      "True\n",
      "False\n",
      "False\n",
      "False\n",
      "False\n",
      "False\n"
     ]
    }
   ],
   "source": [
    "#Take a string from user and check if it is:-\n",
    "#     1. alphanumeric\n",
    "#     2. alphabets\n",
    "#     3. digit\n",
    "#     4. all letters are in lower case\n",
    "#     5. all letters are in upper case\n",
    "#     6. in title case\n",
    "#     7. a space character\n",
    "#     8. numeric\n",
    "#     9. all number elements in string are decimal\n",
    "\n",
    "str=input('Enter your string')\n",
    "print(str.isalnum())\n",
    "print(str.isalpha())\n",
    "print(str.isdigit())\n",
    "print(str.islower())\n",
    "print(str.isupper())\n",
    "print(str.istitle())\n",
    "print(str.isspace())\n",
    "print(str.isnumeric())\n",
    "print(str.isdecimal())\n"
   ]
  },
  {
   "cell_type": "code",
   "execution_count": 18,
   "metadata": {},
   "outputs": [
    {
     "name": "stdout",
     "output_type": "stream",
     "text": [
      "Enter String8hb\n",
      "False\n"
     ]
    }
   ],
   "source": [
    "#W A P which takes a string as an input and prints True if the string is valid identifier else returns False.\n",
    "#Sample Input:- 'abc', 'abc1', 'ab1c', '1abc', 'abc$', '_abc', 'if'\n",
    "\n",
    "\n",
    "\n",
    "s=input('Enter String')\n",
    "check=s.isidentifier()\n",
    "print(check)\n",
    "\n",
    "\n",
    "\n",
    "#Must start with a-z or A-Z or _\n",
    "#No whitespace in between\n",
    "#After first character NO special character.\n",
    "\n",
    "#s=input('Enter string: ')\n",
    "#for i in s:\n",
    "#    if (ord(s[0]) in range(97,123)) or (ord(s[0]) in range(65,91))  or s[0] =='_':\n",
    "#        if  i in s.whitespace == 'False':\n",
    "#            print('Valid')\n",
    "#else:\n",
    "#    print(Invalid)\n",
    "  "
   ]
  },
  {
   "cell_type": "code",
   "execution_count": 48,
   "metadata": {},
   "outputs": [
    {
     "name": "stdout",
     "output_type": "stream",
     "text": [
      "True\n",
      "False\n",
      "False\n",
      "True\n"
     ]
    }
   ],
   "source": [
    "#What will be output of below code?\n",
    "s = chr(65) + chr(97)   #True\n",
    "print(s.isprintable())\n",
    "\n",
    "s = chr(27) + chr(97)  #False\n",
    "print(s.isprintable())\n",
    "\n",
    "s = '\\n'     #False\n",
    "print(s.isprintable())\n",
    "\n",
    "s = ''    #True\n",
    "print(s.isprintable())"
   ]
  },
  {
   "cell_type": "code",
   "execution_count": 47,
   "metadata": {},
   "outputs": [
    {
     "name": "stdout",
     "output_type": "stream",
     "text": [
      "True\n",
      "True\n",
      "True\n",
      "True\n",
      "False\n",
      "False\n"
     ]
    }
   ],
   "source": [
    "#What will be output of below code?\n",
    "my_string = '  '                 #True\n",
    "print(my_string.isascii())\n",
    "\n",
    "my_string = 'Studytonight'     #True\n",
    "print(my_string.isascii())\n",
    "\n",
    "my_string = 'Study tonight'    #True\n",
    "print(my_string.isascii())\n",
    "\n",
    "my_string = 'Studytonight@123'  #True\n",
    "print(my_string.isascii())\n",
    "\n",
    "my_string = '°'\n",
    "print(my_string.isascii())   #False\n",
    "\n",
    "my_string = 'ö'\n",
    "print(my_string.isascii())   #False"
   ]
  },
  {
   "cell_type": "code",
   "execution_count": 24,
   "metadata": {},
   "outputs": [
    {
     "name": "stdout",
     "output_type": "stream",
     "text": [
      "The strings are equal.\n"
     ]
    }
   ],
   "source": [
    "#What will be the output of below code?\n",
    "firstString = \"der Fluß\"\n",
    "secondString = \"der Fluss\"\n",
    "\n",
    "## The strings are equal.ß is eqivalent to ss\n",
    "\n",
    "if firstString.casefold() == secondString.casefold():\n",
    "    print('The strings are equal.')\n",
    "else:\n",
    "    print('The strings are not equal.')"
   ]
  },
  {
   "cell_type": "code",
   "execution_count": 42,
   "metadata": {},
   "outputs": [
    {
     "name": "stdout",
     "output_type": "stream",
     "text": [
      "python**\n"
     ]
    }
   ],
   "source": [
    "#Write the code to get below output\n",
    "#O/P - python** (using ljust method)\n",
    "\n",
    "str= 'python'\n",
    "str1=str.ljust(8,'*')\n",
    "print(str1)\n"
   ]
  },
  {
   "cell_type": "code",
   "execution_count": 44,
   "metadata": {},
   "outputs": [
    {
     "name": "stdout",
     "output_type": "stream",
     "text": [
      "**python\n"
     ]
    }
   ],
   "source": [
    "#Write the code to get below output\n",
    "#O/P 1:- **python (using rjust method)\n",
    "\n",
    "\n",
    "str='python'\n",
    "print(str.rjust(8,'*'))"
   ]
  },
  {
   "cell_type": "code",
   "execution_count": 46,
   "metadata": {},
   "outputs": [
    {
     "name": "stdout",
     "output_type": "stream",
     "text": [
      "**python**\n"
     ]
    }
   ],
   "source": [
    "#Write the code to get below output\n",
    "#O/P 1:- **python** (using rjust method)\n",
    "\n",
    "str='python'\n",
    "out_str=str.rjust(8,'*')\n",
    "print(f'{out_str}**')"
   ]
  },
  {
   "cell_type": "code",
   "execution_count": 141,
   "metadata": {},
   "outputs": [
    {
     "name": "stdout",
     "output_type": "stream",
     "text": [
      "55\n"
     ]
    }
   ],
   "source": [
    "#Write a Python program to find the length of the my_str:-\n",
    "\n",
    "str='Write a Python program to find the length of the my_str'\n",
    "#Output:- 55\n",
    "\n",
    "print(len(str))"
   ]
  },
  {
   "cell_type": "code",
   "execution_count": 149,
   "metadata": {},
   "outputs": [
    {
     "name": "stdout",
     "output_type": "stream",
     "text": [
      "9\n"
     ]
    }
   ],
   "source": [
    "#Write a Python program to find the total number of times letter 'p' is appeared in the below string:-\n",
    "    \n",
    "str='peter piper picked a peck of pickled peppers.'\n",
    "#Output:- 9\n",
    "\n",
    "counter=str.count('p')\n",
    "print(counter)"
   ]
  },
  {
   "cell_type": "code",
   "execution_count": 19,
   "metadata": {},
   "outputs": [
    {
     "name": "stdout",
     "output_type": "stream",
     "text": [
      "0\n",
      "6\n",
      "8\n",
      "12\n",
      "21\n",
      "29\n",
      "37\n",
      "39\n",
      "40\n",
      "[0, 6, 8, 12, 21, 29, 37, 39, 40]\n"
     ]
    }
   ],
   "source": [
    "#Write a Python Program, to print all the indexes of all occurences of letter 'p' appeared in the string:-\n",
    "    \n",
    "str= 'peter piper picked a peck of pickled peppers.'\n",
    "#Output:- \n",
    "# 0\n",
    "# 6\n",
    "# 8\n",
    "# 12\n",
    "# 21\n",
    "# 29\n",
    "# 37\n",
    "# 39\n",
    "# 40\n",
    "\n",
    "for i in range(len(str)):\n",
    "    if str[i]== 'p':\n",
    "        print(i)\n",
    "\n",
    "import re\n",
    "res = [i.start() for i in re.finditer('p',str)]\n",
    "print(res)"
   ]
  },
  {
   "cell_type": "code",
   "execution_count": 166,
   "metadata": {},
   "outputs": [
    {
     "name": "stdout",
     "output_type": "stream",
     "text": [
      "['peter', 'piper', 'picked', 'a', 'peck', 'of', 'pickled', 'peppers']\n"
     ]
    }
   ],
   "source": [
    "#Write a python program to find below output:-\n",
    "\n",
    "str='peter piper picked a peck of pickled peppers.'\n",
    "#Output:- ['peter', 'piper', 'picked', 'a', 'peck', 'of', 'pickled', 'peppers']\n",
    "\n",
    "str1=str.rstrip('.')\n",
    "print(str1.split())"
   ]
  },
  {
   "cell_type": "code",
   "execution_count": 7,
   "metadata": {},
   "outputs": [
    {
     "name": "stdout",
     "output_type": "stream",
     "text": [
      "peppers pickled of peck a picked piper peter\n"
     ]
    }
   ],
   "source": [
    "#Write a python program to find below output:-\n",
    "\n",
    "str= 'peter piper picked a peck of pickled peppers.'\n",
    "#Output:- 'peppers pickled of peck a picked piper peter'\n",
    "\n",
    "str=str.rstrip('.')\n",
    "words=str.split()\n",
    "reverse=' '.join(reversed(words))\n",
    "print(reverse)"
   ]
  },
  {
   "cell_type": "code",
   "execution_count": 172,
   "metadata": {},
   "outputs": [
    {
     "name": "stdout",
     "output_type": "stream",
     "text": [
      "sreppep delkcip fo kcep a dekcip repip retep\n"
     ]
    }
   ],
   "source": [
    "#Write a python program to find below output:-\n",
    "\n",
    "str='peter piper picked a peck of pickled peppers.'\n",
    "#Output:- 'sreppep delkcip fo kcep a dekcip repip retep'\n",
    "\n",
    "str=str.rstrip('.')\n",
    "print(str[::-1])\n"
   ]
  },
  {
   "cell_type": "code",
   "execution_count": 179,
   "metadata": {},
   "outputs": [
    {
     "name": "stdout",
     "output_type": "stream",
     "text": [
      "retep repip dekcip a kcep fo delkcip sreppep\n"
     ]
    }
   ],
   "source": [
    "#Write a python program to find below output:-\n",
    "\n",
    "str= 'peter piper picked a peck of pickled peppers.'\n",
    "#Output:- 'retep repip dekcip a kcep fo delkcip sreppep'\n",
    "\n",
    "str=str.rstrip('.')\n",
    "str=str.split()\n",
    "words=[i[::-1] for i in str]\n",
    "#print(words)\n",
    "out_str=' '.join(words)\n",
    "print(out_str)"
   ]
  },
  {
   "cell_type": "code",
   "execution_count": 188,
   "metadata": {},
   "outputs": [
    {
     "name": "stdout",
     "output_type": "stream",
     "text": [
      "Peter piper picked a peck of pickled peppers.\n"
     ]
    }
   ],
   "source": [
    "#Write a python program to find below output:-\n",
    "\n",
    "str='peter piper picked a peck of pickled peppers.'\n",
    "#Output:- 'Peter Piper Picked A Peck Of Pickled Peppers'\n",
    "\n",
    "str=str.capitalize()  #first character if the string to capital letter\n",
    "print(str)"
   ]
  },
  {
   "cell_type": "code",
   "execution_count": 14,
   "metadata": {},
   "outputs": [
    {
     "name": "stdout",
     "output_type": "stream",
     "text": [
      "Peter piper picked a peck of pickled peppers\n"
     ]
    }
   ],
   "source": [
    "#Write a python program to find below output:-\n",
    "\n",
    "str= 'Peter Piper Picked A Peck Of Pickled Peppers.'\n",
    "#Output:- 'Peter piper picked a peck of pickled peppers'\n",
    "\n",
    "\n",
    "str=str.rstrip('.')\n",
    "nw = str.lower()\n",
    "out_str=nw.capitalize()\n",
    "print(out_str)"
   ]
  },
  {
   "cell_type": "code",
   "execution_count": 15,
   "metadata": {},
   "outputs": [
    {
     "name": "stdout",
     "output_type": "stream",
     "text": [
      "29\n"
     ]
    }
   ],
   "source": [
    "#Write a python program to implement index method. If sub_str is found in my_str then it\n",
    "#will print the index of first occurrence of first character of matching string in my_str:-\n",
    "\n",
    "str = 'Peter Piper Picked A Peck Of Pickled Peppers.'\n",
    "sub_str = 'Pickl'\n",
    "#Output:- 29\n",
    "\n",
    "nw=str.index(sub_str)\n",
    "print(nw)\n"
   ]
  },
  {
   "cell_type": "code",
   "execution_count": 27,
   "metadata": {},
   "outputs": [
    {
     "name": "stdout",
     "output_type": "stream",
     "text": [
      "Peter Piper Picked A Pack Of Pickled Peppers Peck.\n"
     ]
    }
   ],
   "source": [
    "#Write a python program to implement replace method. If sub_str is found in my_str then it will replace the first \n",
    "#occurrence of sub_str with new_str else it will will print sub_str not found:-\n",
    "\n",
    "str = 'Peter Piper Picked A Peck Of Pickled Peppers Peck.'\n",
    "sub_str = 'Peck'\n",
    "new_str = 'Pack'\n",
    "#Output:- 'Peter Piper Picked A Pack Of Pickled Peppers.'\n",
    "\n",
    "str=str.replace('Peck','Pack',1)\n",
    "print(str)\n"
   ]
  },
  {
   "cell_type": "code",
   "execution_count": 20,
   "metadata": {},
   "outputs": [
    {
     "name": "stdout",
     "output_type": "stream",
     "text": [
      "*********************Peck********************\n"
     ]
    }
   ],
   "source": [
    "#Write a python program to find below output (implements rjust and ljust):-  ##DOUBT\n",
    "\n",
    "str= 'Peter Piper Picked A Peck Of Pickled Peppers.'\n",
    "sub_str = 'Peck'\n",
    "#Output:- '*********************Peck********************'\n",
    "\n",
    "\n",
    "my_str = 'Peter Piper Picked A Peck Of Pickled Peppers.'\n",
    "sub_str = 'Peck'\n",
    "ind = my_str.find(sub_str)\n",
    "print(sub_str.rjust(ind+len(sub_str),'*').ljust(len(my_str),'*'))\n"
   ]
  },
  {
   "cell_type": "code",
   "execution_count": 37,
   "metadata": {},
   "outputs": [
    {
     "name": "stdout",
     "output_type": "stream",
     "text": [
      "['This ', 'is', ' Python class']\n"
     ]
    }
   ],
   "source": [
    "#Write a python program to find below output (implement partition and rpartition):-\n",
    "\n",
    "str = 'This is Python class'\n",
    "sep = 'is'\n",
    "#Output:- ['This', 'is', 'Python class']\n",
    "\n",
    "nw=str.rpartition('is')\n",
    "list_word= list(nw) \n",
    "print(list_word)\n"
   ]
  },
  {
   "cell_type": "code",
   "execution_count": 36,
   "metadata": {},
   "outputs": [
    {
     "name": "stdout",
     "output_type": "stream",
     "text": [
      "['Th', 'is', ' is Python class']\n"
     ]
    }
   ],
   "source": [
    "str = 'This is Python class'\n",
    "sep = 'is'\n",
    "nw=str.partition('is')\n",
    "list_word= list(nw) \n",
    "print(list_word)"
   ]
  },
  {
   "cell_type": "code",
   "execution_count": 19,
   "metadata": {},
   "outputs": [
    {
     "name": "stdout",
     "output_type": "stream",
     "text": [
      "R{vjqp\n"
     ]
    }
   ],
   "source": [
    "#Write a python program which takes one input string from user and encode it in below format:-\n",
    "str='Python'\n",
    "#Output:- 'R{vjqp'\n",
    "\n",
    "out_str = ''\n",
    "for i in range(len(str)):\n",
    "    out_str += chr(ord(str[i]) + 2)\n",
    "print(out_str)\n",
    "  "
   ]
  },
  {
   "cell_type": "code",
   "execution_count": 18,
   "metadata": {},
   "outputs": [
    {
     "name": "stdout",
     "output_type": "stream",
     "text": [
      " Rwvfql\n"
     ]
    }
   ],
   "source": [
    "str = 'Python'\n",
    "#Output:- 'Rwvfql'\n",
    "\n",
    "out_str=' '\n",
    "for i in range(len(str)):\n",
    "    if (i == 0) or (i % 2 ==0):\n",
    "        out_str += chr(ord(str[i]) + 2)\n",
    "    else:\n",
    "        out_str +=chr(ord(str[i]) - 2)\n",
    "print(out_str)\n",
    " "
   ]
  },
  {
   "cell_type": "code",
   "execution_count": 4,
   "metadata": {},
   "outputs": [
    {
     "name": "stdout",
     "output_type": "stream",
     "text": [
      "R{vfml\n"
     ]
    }
   ],
   "source": [
    "3. #Input:- 'Python'\n",
    "#Output:- 'R{vfml'\n",
    "        \n",
    "out_str = ''\n",
    "for i in range(len(str)):\n",
    "    if i < len(str)/2:\n",
    "        out_str += chr(ord(str[i]) + 2)\n",
    "    else:\n",
    "        out_str += chr(ord(str[i]) - 2)\n",
    "print(out_str)   "
   ]
  }
 ],
 "metadata": {
  "kernelspec": {
   "display_name": "Python 3",
   "language": "python",
   "name": "python3"
  },
  "language_info": {
   "codemirror_mode": {
    "name": "ipython",
    "version": 3
   },
   "file_extension": ".py",
   "mimetype": "text/x-python",
   "name": "python",
   "nbconvert_exporter": "python",
   "pygments_lexer": "ipython3",
   "version": "3.7.6"
  }
 },
 "nbformat": 4,
 "nbformat_minor": 4
}
