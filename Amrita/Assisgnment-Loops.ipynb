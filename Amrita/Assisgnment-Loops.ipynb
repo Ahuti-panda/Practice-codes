{
 "cells": [
  {
   "cell_type": "code",
   "execution_count": 7,
   "metadata": {},
   "outputs": [
    {
     "name": "stdout",
     "output_type": "stream",
     "text": [
      "Enter a number from 0 to 9:6\n",
      "Six\n"
     ]
    }
   ],
   "source": [
    "#W. A P. which takes one number from 0 to 9 from the user and prints it in the word. And if the word is not from 0 to 9 then\n",
    "#it should print that number is outside of the range and program should exit.\n",
    "import sys\n",
    "num = int(input('Enter a number from 0 to 9:'))\n",
    "if num in range (10):\n",
    "    if num == 0:\n",
    "        print ('Zero')\n",
    "    elif num == 1:\n",
    "        print ('One')\n",
    "    elif num == 2:\n",
    "        print('Two')\n",
    "    elif num == 3:\n",
    "        print('Three')\n",
    "    elif num == 4:\n",
    "        print('Four')\n",
    "    elif num == 5:\n",
    "        print('Five')\n",
    "    elif num == 6:\n",
    "        print('Six')\n",
    "    elif num == 7:\n",
    "        print('Seven')\n",
    "    elif num == 8:\n",
    "        print('Eight')\n",
    "    elif num == 9:\n",
    "        print('Nine')\n",
    "else:\n",
    "    sys.exit('Number is outside the range')\n",
    "    \n",
    "#SYS Thows an exception .. iS it expected ??\n",
    "                        "
   ]
  },
  {
   "cell_type": "code",
   "execution_count": null,
   "metadata": {},
   "outputs": [
    {
     "name": "stdout",
     "output_type": "stream",
     "text": [
      "Enter 1st number: 6\n",
      "Enter 2nd number: 1\n",
      "To add enter 1\n",
      "To subtract enter 2\n",
      "To multiply enter 3\n",
      "To divide enter 4\n",
      "To divide and find quotient enter 5\n",
      "To divide and find remainder enter 6\n",
      "To divide and find num1 to the power of num2 enter 7\n",
      "To Come out of the program enter 8\n",
      "Please enter operation to be performed 1\n",
      "7\n",
      "Please enter operation to be performed 2\n",
      "5\n",
      "Please enter operation to be performed 3\n",
      "6\n",
      "Please enter operation to be performed 4\n",
      "6.0\n"
     ]
    }
   ],
   "source": [
    "#W. A P. to implement calculator but the operation to be done and two numbers will be taken as input from user:-\n",
    "#Operation console should show below:-\n",
    "#     Please select any one operation from below:-\n",
    "#         * To add enter 1\n",
    "#         * to subtract enter 2\n",
    "#         * To multiply enter 3\n",
    "#         * To divide enter 4\n",
    "#         * To divide and find quotient enter 5\n",
    "#         * To divide and find remainder enter 6\n",
    "#         * To divide and find num1 to the power of num2 enter 7\n",
    "#         * To Come out of the program enter 8\n",
    "\n",
    "\n",
    "a= int(input('Enter 1st number: '))\n",
    "b= int(input('Enter 2nd number: '))\n",
    "\n",
    "print('To add enter 1')\n",
    "print('To subtract enter 2')\n",
    "print('To multiply enter 3')\n",
    "print('To divide enter 4')\n",
    "print('To divide and find quotient enter 5')\n",
    "print('To divide and find remainder enter 6')\n",
    "print('To divide and find num1 to the power of num2 enter 7')\n",
    "print('To Come out of the program enter 8')\n",
    "i=1\n",
    "while i <= 8 :\n",
    "    OP = int(input('Please enter operation to be performed '))\n",
    "    if OP == 1:\n",
    "        print((a+b))\n",
    "        #print('result is :'(a+b) )  \n",
    "    elif OP == 2:\n",
    "        print (a-b) \n",
    "    elif OP == 3:\n",
    "        print(a*b) \n",
    "    elif OP == 4:\n",
    "        print(a/b)\n",
    "    elif OP == 5: \n",
    "        print(a // b)\n",
    "    elif OP == 6:\n",
    "        print(a % b)\n",
    "    elif OP == 7:\n",
    "        print(8 ** b)\n",
    "    elif OP == 8:\n",
    "        sys.exit(0)\n",
    "else:\n",
    "    print ('Please enter number inside range')\n",
    "    \n",
    "\n"
   ]
  },
  {
   "cell_type": "code",
   "execution_count": 25,
   "metadata": {},
   "outputs": [
    {
     "name": "stdout",
     "output_type": "stream",
     "text": [
      "Enter Year: 1971\n",
      "1971 Not Leap Year\n"
     ]
    }
   ],
   "source": [
    "#W A P to check whether a year entered by user is an leap year or not?\n",
    "#Check with below input:-\n",
    "    #leap year:- 2012, 1968, 2004, 1200, 1600,2400\n",
    "    #Non-lear year:- 1971, 2006, 1700,1800,1900\n",
    "    \n",
    "year = int(input(\"Enter Year: \"))\n",
    "if year % 4 ==0 :\n",
    "    if year % 100 == 0:\n",
    "        if year % 400 ==0:\n",
    "            print(year ,'is a Leap Year')\n",
    "        else:\n",
    "            print(year,'Not Leap year')\n",
    "    else:\n",
    "        print(year, 'leap year')\n",
    "else:\n",
    "    print(year,'Not Leap Year')\n"
   ]
  },
  {
   "cell_type": "code",
   "execution_count": 24,
   "metadata": {},
   "outputs": [
    {
     "name": "stdout",
     "output_type": "stream",
     "text": [
      "Enter a number9\n",
      "9 is odd number\n"
     ]
    }
   ],
   "source": [
    "#W A P which takes one number from the user and checks whether it is an even or odd number?,\n",
    "#If it even then prints number is \n",
    "#even number else prints that number is odd number.\n",
    "\n",
    "\n",
    "n=int(input('Enter a number'))\n",
    "if n%2 == 0:\n",
    "    print(n, 'is even number')\n",
    "else:\n",
    "    print(n,'is odd number')\n"
   ]
  },
  {
   "cell_type": "code",
   "execution_count": 26,
   "metadata": {},
   "outputs": [
    {
     "name": "stdout",
     "output_type": "stream",
     "text": [
      "Enter 1st number : 6\n",
      "Enter 2nd number : 7\n",
      "Number is smaller than Num2\n",
      "Num1 is smaller than num2\n"
     ]
    }
   ],
   "source": [
    "#W A P which takes two numbers from the user and prints below output:-\n",
    "#     1. num1 is greater than num2 if num1 is greater than num2\n",
    "#     2. num1 is smaller than num2 if num1 is smaller than num2\n",
    "#     3. num1 is equal to num2 if num1 and num2 are equal\n",
    "#Note:- 1. Do this problem using if - else \n",
    "#       2. Do this using ternary operator\n",
    "\n",
    "num1= int(input('Enter 1st number : '))\n",
    "num2= int(input('Enter 2nd number : '))\n",
    "if  (num1 == num2 ):\n",
    "    print(\"Num1 is equal to Num2\")\n",
    "elif (num1> num2):\n",
    "    print(\"Num1 is greater than Num2\")\n",
    "else:\n",
    "    print(\"Number is smaller than Num2\")\n",
    "\n",
    "#print(expr if cond1 else expr2 if cond2 else expr3\n",
    "print(\"Num1 is greater than Num2\" if (num1 > num2 ) else \"Num1 is smaller than num2\" if (num1 < num2) else \"Number is equal\")\n",
    "\n"
   ]
  },
  {
   "cell_type": "markdown",
   "metadata": {},
   "source": [
    "# Loops - for loop, while loop"
   ]
  },
  {
   "cell_type": "code",
   "execution_count": 27,
   "metadata": {},
   "outputs": [
    {
     "name": "stdout",
     "output_type": "stream",
     "text": [
      "55\n"
     ]
    }
   ],
   "source": [
    "#Write a Python program to find the length of the my_str using loop:-\n",
    "\n",
    "s = 'Write a Python program to find the length of the my_str'\n",
    "#Output:- 55\n",
    "\n",
    "count=0\n",
    "for i in s:\n",
    "    count=count+1\n",
    "print(count)\n",
    "\n",
    "\n"
   ]
  },
  {
   "cell_type": "code",
   "execution_count": 29,
   "metadata": {},
   "outputs": [
    {
     "name": "stdout",
     "output_type": "stream",
     "text": [
      "9\n"
     ]
    }
   ],
   "source": [
    "#Write a Python program to find the total number of times letter 'p' is appeared in the below string using loop:-\n",
    "    \n",
    "s= 'peter piper picked a peck of pickled peppers.\\n'\n",
    "#Output:- 9\n",
    "\n",
    "count=0\n",
    "for i in s:\n",
    "    if i =='p':\n",
    "        count=count+1\n",
    "print(count)\n"
   ]
  },
  {
   "cell_type": "code",
   "execution_count": 31,
   "metadata": {},
   "outputs": [
    {
     "name": "stdout",
     "output_type": "stream",
     "text": [
      "0\n",
      "6\n",
      "8\n",
      "12\n",
      "21\n",
      "29\n",
      "37\n",
      "39\n",
      "40\n"
     ]
    }
   ],
   "source": [
    "#Write a Python Program, to print all the indexes of all occurences of letter 'p' appeared in the string using loop:-\n",
    "    \n",
    "s= 'peter piper picked a peck of pickled peppers.'\n",
    "#Output:- \n",
    "# 0\n",
    "# 6\n",
    "# 8\n",
    "# 12\n",
    "# 21\n",
    "# 29\n",
    "# 37\n",
    "# 39\n",
    "# 40\n",
    "\n",
    "\n",
    "for i in range(len(s)):\n",
    "    if s[i] == 'p':\n",
    "        print (i)"
   ]
  },
  {
   "cell_type": "code",
   "execution_count": 10,
   "metadata": {},
   "outputs": [
    {
     "name": "stdout",
     "output_type": "stream",
     "text": [
      "['peter', ' piper', ' picked', ' a', ' peck', ' of', ' pickled', ' peppers']\n"
     ]
    }
   ],
   "source": [
    "#Write a python program to find below output using loop:-\n",
    "\n",
    "s='peter piper picked a peck of pickled peppers.'\n",
    "#Output:- ['peter', 'piper', 'picked', 'a', 'peck', 'of', 'pickled', 'peppers']\n",
    "\n",
    "out_s=[]   \n",
    "out_str=''     \n",
    "for i in s:\n",
    "    if i== ' ' or i=='.':\n",
    "        out_s.append(out_str)\n",
    "        out_str=' '\n",
    "    else:\n",
    "        out_str=out_str+i\n",
    "print(out_lst)\n"
   ]
  },
  {
   "cell_type": "code",
   "execution_count": 24,
   "metadata": {},
   "outputs": [
    {
     "name": "stdout",
     "output_type": "stream",
     "text": [
      "['peter', ' piper', ' picked', ' a', ' peck', ' of', ' pickled', ' peppers']\n"
     ]
    }
   ],
   "source": [
    "#Write a python program to find below output using loop:-\n",
    "\n",
    "s= 'peter piper picked a peck of pickled peppers.'\n",
    "#Output:- 'peppers pickled of peck a picked piper peter'\n",
    "\n",
    "out_s=[]   \n",
    "out_str=''     \n",
    "for i in s:\n",
    "    if i== ' ' or i=='.':\n",
    "        out_s.append(out_str)\n",
    "        out_str=' '\n",
    "    else:\n",
    "        out_str=out_str+i\n",
    "print(out_lst)\n",
    "\n",
    "    "
   ]
  },
  {
   "cell_type": "code",
   "execution_count": 116,
   "metadata": {},
   "outputs": [
    {
     "name": "stdout",
     "output_type": "stream",
     "text": [
      "peppers pickled of peck a picked piper peter "
     ]
    }
   ],
   "source": [
    "#Write a python program to find below output using loop:-\n",
    "\n",
    "s= 'peter piper picked a peck of pickled peppers.'\n",
    "#Output:- 'peppers pickled of peck a picked piper peter'\n",
    "\n",
    "out_s=[]   \n",
    "out_str=' '     \n",
    "for i in s:\n",
    "    if i== ' ' or i=='.':\n",
    "        out_s.append(out_str)\n",
    "        out_str=' '\n",
    "    else:\n",
    "        out_str=out_str+i\n",
    "#print(out_lst)\n",
    "for i in out_lst[::-1]:\n",
    "      print(i, end =' ')\n",
    "\n",
    "    "
   ]
  },
  {
   "cell_type": "code",
   "execution_count": 117,
   "metadata": {},
   "outputs": [
    {
     "name": "stdout",
     "output_type": "stream",
     "text": [
      "peppers pickled of peck a picked piper peter "
     ]
    }
   ],
   "source": [
    "#Write a python program to find below output using loop:-\n",
    "\n",
    "#Input:- 'peter piper picked a peck of pickled peppers.'\n",
    "#Output:- 'peppers pickled of peck a picked piper peter'\n",
    "\n",
    "str = 'peter piper picked a peck of pickled peppers.'\n",
    "out_lst=[]\n",
    "s=0\n",
    "for i in  range(len(str)):\n",
    "    ch = str[i]\n",
    "    if ch == ' ' or ch == '.':\n",
    "        out_lst.append(str[s:i])\n",
    "        s = i +1\n",
    "for i in  range(-1 , -len(out_lst)-1, -1):\n",
    "    print(out_lst[i], end =' ')\n"
   ]
  },
  {
   "cell_type": "code",
   "execution_count": 105,
   "metadata": {},
   "outputs": [
    {
     "name": "stdout",
     "output_type": "stream",
     "text": [
      ".sreppep delkcip fo kcep a dekcip repip retep"
     ]
    }
   ],
   "source": [
    "#Write a python program to find below output using loop:-\n",
    "\n",
    "s='peter piper picked a peck of pickled peppers.'\n",
    "#Output:- '.sreppep delkcip fo kcep a dekcip repip retep'\n",
    "\n",
    "\n",
    "for i in s[::-1]:\n",
    "    print(i,end='')\n"
   ]
  },
  {
   "cell_type": "code",
   "execution_count": 53,
   "metadata": {},
   "outputs": [
    {
     "name": "stdout",
     "output_type": "stream",
     "text": [
      "Peter Piper Picked A Peck Of Pickled Peppers "
     ]
    }
   ],
   "source": [
    "#Write a python program to find below output using loop:-\n",
    "\n",
    "s='peter piper picked a peck of pickled peppers.'\n",
    "#Output:- 'Peter Piper Picked A Peck Of Pickled Peppers'\n",
    "\n",
    "out_lt=[]\n",
    "out_str=''\n",
    "for i in s:\n",
    "    if i ==' ' or i =='.':\n",
    "        out_lt.append(out_str)\n",
    "        out_str=''\n",
    "    else:\n",
    "        out_str=out_str+i\n",
    "#print(out_lt)\n",
    "for j in out_lt:\n",
    "    new_word =j[0].upper()+j[1:]\n",
    "    print(new_word,end=' ')"
   ]
  },
  {
   "cell_type": "code",
   "execution_count": 74,
   "metadata": {},
   "outputs": [
    {
     "name": "stdout",
     "output_type": "stream",
     "text": [
      "Peter Piper Picked A Peck Of Pickled Peppers "
     ]
    }
   ],
   "source": [
    "#Write a python program to find below output using loop:-\n",
    "\n",
    "s='peter piper picked a peck of pickled peppers.'\n",
    "#Output:- 'Peter Piper Picked A Peck Of Pickled Peppers'\n",
    "\n",
    "out_lt=[]\n",
    "out_str=''\n",
    "for i in s:\n",
    "    if i ==' ' or i =='.':\n",
    "        out_lt.append(out_str)\n",
    "        out_str=''\n",
    "    else:\n",
    "        out_str=out_str+i\n",
    "#print(out_lt)\n",
    "for j in out_lt:\n",
    "    upper=chr(ord(j[0])-32)\n",
    "    new_word =upper+j[1:]\n",
    "    print(new_word,end=' ')"
   ]
  },
  {
   "cell_type": "code",
   "execution_count": 89,
   "metadata": {},
   "outputs": [
    {
     "name": "stdout",
     "output_type": "stream",
     "text": [
      "Peter piper picked a peck of pickled peppers \n"
     ]
    }
   ],
   "source": [
    "#Write a python program to find below output using loop:-\n",
    "\n",
    "s='Peter Piper Picked A Peck Of Pickled Peppers.'\n",
    "#Output:- 'Peter piper picked a peck of pickled peppers'\n",
    "\n",
    "\n",
    "input_str = 'Peter Piper Picked A Peck Of Pickled Peppers.'\n",
    "str1 = ''\n",
    "new_str = ''\n",
    "for i in input_str:\n",
    "    if i == ' ' or i == '.':\n",
    "        str2 = str1[0].lower() + str1[1:]\n",
    "        new_str = new_str + str2 + ' '\n",
    "        str1 = ''\n",
    "    else:\n",
    "        str1 += i\n",
    "\n",
    "new_str2 = new_str[0].upper() + new_str[1:]\n",
    "print(new_str2)"
   ]
  },
  {
   "cell_type": "code",
   "execution_count": 92,
   "metadata": {},
   "outputs": [
    {
     "name": "stdout",
     "output_type": "stream",
     "text": [
      "29\n"
     ]
    }
   ],
   "source": [
    "#Write a python program to implement index method using loop. \n",
    "#If sub_str is found in my_str then it will print the index\n",
    "# of first occurrence of first character of matching string in my_str:-\n",
    "\n",
    "s = 'Peter Piper Picked A Peck Of Pickled Peppers.'\n",
    "sub_str = 'Pickl'\n",
    "#Output:- 29\n",
    "\n",
    "#In=s.index('Pickl')\n",
    "#print(In)\n",
    "\n",
    "#Unsolved\n",
    "    "
   ]
  },
  {
   "cell_type": "code",
   "execution_count": 96,
   "metadata": {},
   "outputs": [
    {
     "name": "stdout",
     "output_type": "stream",
     "text": [
      "29\n"
     ]
    }
   ],
   "source": [
    "#Write a python program to implement index method using loop. If sub_str is found in my_str then it will print the index\n",
    "# of first occurrence of first character of matching string in my_str:-\n",
    "\n",
    "#Input:- my_str = 'Peter Piper Picked A Peck Of Pickled Peppers.', sub_str = 'Pickl'\n",
    "#Output:- 29\n",
    "\n",
    "my_str = 'Peter Piper Picked A Peck Of Pickled Peppers.'\n",
    "sub_str = 'Pickl'\n",
    "j = 0\n",
    "new_str = ''\n",
    "for i in range(len(my_str)):\n",
    "    if my_str[i] == sub_str[j]:\n",
    "        new_str += my_str[i]\n",
    "        j += 1\n",
    "        if len(new_str) == len(sub_str) and new_str == sub_str:\n",
    "            print(i-(len(sub_str)-1))\n",
    "            break\n",
    "        elif len(new_str) == len(sub_str) and new_str != sub_str:\n",
    "            new_str = ''\n",
    "    elif i == (len(my_str)-1):\n",
    "        print('string not found!')\n",
    "    else:\n",
    "        new_str = ''\n",
    "        j = 0"
   ]
  },
  {
   "cell_type": "code",
   "execution_count": 97,
   "metadata": {},
   "outputs": [
    {
     "name": "stdout",
     "output_type": "stream",
     "text": [
      "*********************Peck********************\n"
     ]
    }
   ],
   "source": [
    "#Write a python program to find below output (implements rjust and ljust) using loop:-\n",
    "\n",
    "#Input:- 'Peter Piper Picked A Peck Of Pickled Peppers.', sub_str = 'Peck', \n",
    "#Output:- '*********************Peck********************'\n",
    "\n",
    "\n",
    "my_str = 'Peter Piper Picked A Peck Of Pickled Peppers.'\n",
    "sub_str = 'Peck'\n",
    "ind = my_str.find(sub_str)\n",
    "print(sub_str.rjust(ind+len(sub_str),'*').ljust(len(my_str),'*'))\n"
   ]
  },
  {
   "cell_type": "code",
   "execution_count": null,
   "metadata": {},
   "outputs": [],
   "source": [
    "#Write a python program to find below output using loop:-\n",
    "\n",
    "s='This is Python class' \n",
    "sep = 'is', \n",
    "#Output:- ['This', 'is', 'Python class']\n",
    "\n",
    "#UNSOLVED\n"
   ]
  },
  {
   "cell_type": "code",
   "execution_count": 93,
   "metadata": {},
   "outputs": [
    {
     "name": "stdout",
     "output_type": "stream",
     "text": [
      "R{vjqp\n"
     ]
    }
   ],
   "source": [
    "#Write a python program which takes one input string from user and encode it in below format:-\n",
    "str='Python'\n",
    "       #Output:- 'R{vjqp'\n",
    "        \n",
    "out_str = ''\n",
    "for i in range(len(str)):\n",
    "    out_str += chr(ord(str[i]) + 2)\n",
    "print(out_str)   \n",
    "        "
   ]
  },
  {
   "cell_type": "code",
   "execution_count": 94,
   "metadata": {},
   "outputs": [
    {
     "name": "stdout",
     "output_type": "stream",
     "text": [
      " Rwvfql\n"
     ]
    }
   ],
   "source": [
    "str = 'Python'\n",
    "#Output:- 'Rwvfql'\n",
    "\n",
    "out_str=' '\n",
    "for i in range(len(str)):\n",
    "    if (i == 0) or (i % 2 ==0):\n",
    "        out_str += chr(ord(str[i]) + 2)\n",
    "    else:\n",
    "        out_str +=chr(ord(str[i]) - 2)\n",
    "print(out_str)\n",
    " "
   ]
  },
  {
   "cell_type": "code",
   "execution_count": 95,
   "metadata": {},
   "outputs": [
    {
     "name": "stdout",
     "output_type": "stream",
     "text": [
      "R{vfml\n"
     ]
    }
   ],
   "source": [
    "inp= 'Python'\n",
    "#Output:- 'R{vkfml'\n",
    "\n",
    "    \n",
    "out = ''\n",
    "for i in range(0, len(inp)):\n",
    "    if i < len(inp)/2:\n",
    "        out += chr(ord(inp[i]) + 2)\n",
    "    else:\n",
    "        out += chr(ord(inp[i]) - 2)\n",
    "print(out)  "
   ]
  }
 ],
 "metadata": {
  "kernelspec": {
   "display_name": "Python 3",
   "language": "python",
   "name": "python3"
  },
  "language_info": {
   "codemirror_mode": {
    "name": "ipython",
    "version": 3
   },
   "file_extension": ".py",
   "mimetype": "text/x-python",
   "name": "python",
   "nbconvert_exporter": "python",
   "pygments_lexer": "ipython3",
   "version": "3.7.6"
  }
 },
 "nbformat": 4,
 "nbformat_minor": 4
}
