{
 "cells": [
  {
   "cell_type": "code",
   "execution_count": 35,
   "metadata": {},
   "outputs": [
    {
     "name": "stdout",
     "output_type": "stream",
     "text": [
      "100\n"
     ]
    }
   ],
   "source": [
    "#Write a Python program to find the sum of all elements in a list using loop.\n",
    "#Input:- [10,20,30,40]\n",
    "#Output:- 100\n",
    "\n",
    "\n",
    "list=[10,20,30,40]\n",
    "sum=0\n",
    "for i in list:\n",
    "    sum=sum+i\n",
    "print(sum)\n",
    "    \n"
   ]
  },
  {
   "cell_type": "code",
   "execution_count": 1,
   "metadata": {},
   "outputs": [
    {
     "name": "stdout",
     "output_type": "stream",
     "text": [
      "240000\n"
     ]
    }
   ],
   "source": [
    "#Write a Python program to find the multiplication of all elements in a list using loop.\n",
    "#Input:- [10,20,30,40]\n",
    "#Output:- 240000\n",
    "\n",
    "list=[10,20,30,40]\n",
    "product=1\n",
    "for i in list:\n",
    "    product=product*i\n",
    "print(product)\n",
    "\n"
   ]
  },
  {
   "cell_type": "code",
   "execution_count": 8,
   "metadata": {},
   "outputs": [
    {
     "name": "stdout",
     "output_type": "stream",
     "text": [
      "2321\n"
     ]
    }
   ],
   "source": [
    "#Write a Python program to find the largest number from a list using loop.\n",
    "#Input:- [10,100,2321, 1,200,2]\n",
    "#Output:- 2321\n",
    "\n",
    "list1=[10,100,2321, 1,200,2]\n",
    "max=list1[0]\n",
    "for i in list1: \n",
    "        if i > max : \n",
    "             max = i\n",
    "print(max)\n",
    "\n",
    "\n"
   ]
  },
  {
   "cell_type": "code",
   "execution_count": 7,
   "metadata": {},
   "outputs": [
    {
     "name": "stdout",
     "output_type": "stream",
     "text": [
      "1\n"
     ]
    }
   ],
   "source": [
    "#Write a Python program to find the smallest number from a list using loop.\n",
    "#Input:- [10,100,2321, 1,200,2]\n",
    "#Output:- 1\n",
    "\n",
    "list =[10,100,2321, 1,200,2]\n",
    "min=list[0]\n",
    "for i in list:\n",
    "    if i < min:\n",
    "        min = i\n",
    "print(min)\n"
   ]
  },
  {
   "cell_type": "code",
   "execution_count": 3,
   "metadata": {},
   "outputs": [
    {
     "name": "stdout",
     "output_type": "stream",
     "text": [
      "ba\n",
      "cba\n",
      "aba\n",
      "zyx\n",
      "1991\n",
      "2\n"
     ]
    }
   ],
   "source": [
    "#Write a Python program to count the number of strings having length more than 2 and are palindrome in a list using loop.\n",
    "#Input:- ['ab', 'abc', 'aba', 'xyz', '1991']\n",
    "#Output:- 2\n",
    "\n",
    "list=['ab', 'abc', 'aba', 'xyz', '1991']\n",
    "counter=0\n",
    "for i in list:\n",
    "    new_word=i[::-1]                                   #reverse of string\n",
    "    word=i[::]                                         #Straigt word \n",
    "    if len(word)>2 and word == new_word:\n",
    "        #print(new_word,end=' ')                          #Check to see if printing only palindrome word or not \n",
    "        counter = counter +1\n",
    "print(counter)\n",
    "    "
   ]
  },
  {
   "cell_type": "code",
   "execution_count": 62,
   "metadata": {},
   "outputs": [
    {
     "name": "stdout",
     "output_type": "stream",
     "text": [
      "Element After Sorting List in Ascending Order is :  [1, 2, 9, 10, 65, 80, 100, 298, 483, 9213, 49876]\n"
     ]
    }
   ],
   "source": [
    "#Write a Python program to sort a list in ascending order using loop.\n",
    "#Input:- [100,10,1,298,65,483,49876,2,80,9,9213]\n",
    "#Output:- [1,2,9,10,65,80,100,298,483,9213,49876]\n",
    "\n",
    "list=[100,10,1,298,65,483,49876,2,80,9,9213]\n",
    "count=0\n",
    "for i in list:\n",
    "    count=count+1\n",
    "#print(count)\n",
    "for i in range(count):\n",
    "    for j in range(i+1,count):\n",
    "        if(list[i] > list[j]):        \n",
    "            temp = list[i]     \n",
    "            list[i] = list[j]   \n",
    "            list[j] = temp      \n",
    "print(\"Element After Sorting List in Ascending Order is : \", list)\n",
    "\n",
    "\n"
   ]
  },
  {
   "cell_type": "code",
   "execution_count": null,
   "metadata": {},
   "outputs": [],
   "source": [
    "#Write a Python program to get a sorted list in increasing order of last element \n",
    "#in each tuple in a given list using loop.\n",
    "#Input:- [(5,4),(9,1),(2,3),(5,9),(7,6),(5,5)]\n",
    "#output:- [(9,1),(2,3),(5,4),(5,5),(7,6),(5,9)]\n",
    "\n",
    "list=[(5,4),(9,1),(2,3),(5,9),(7,6),(5,5)]\n",
    "count=0\n",
    "for i in list:\n",
    "    count=count+1\n",
    "#print(count)\n",
    "for i in range(count):\n",
    "    for j in range(count-i-1):\n",
    "         if(list[j][1] > list[j+1][-1]):\n",
    "                temp = list[j]\n",
    "                list[j] = list[j+1]\n",
    "                list[j+1] = temp\n",
    "print(list)\n",
    "        "
   ]
  },
  {
   "cell_type": "code",
   "execution_count": 9,
   "metadata": {},
   "outputs": [
    {
     "name": "stdout",
     "output_type": "stream",
     "text": [
      "[10, 1, 11, 29, 876, 768, 92] "
     ]
    }
   ],
   "source": [
    "#\n",
    "#Write a Python program to remove fuplicate element from a list using loop.\n",
    "#Input:- [10,1,11,1,29,876,768,10,11,1,92,29,876]\n",
    "#Output:- [10,1,11,29,876,768,92]\n",
    "\n",
    "\n",
    "list=[10,1,11,1,29,876,768,10,11,1,92,29,876]\n",
    "new_list = [] \n",
    "for num in list:\n",
    "    if num not in new_list: \n",
    "            new_list.append(num) \n",
    "print (new_list,end=' ') \n",
    "\n",
    " \n",
    "\n",
    " \n",
    "#PRINT DUP:\n",
    "#    for i in range(count):\n",
    "#    for j in range(i+1,count):\n",
    "#        if (list[i] == list[j]):\n",
    "#            print (list[j])\n",
    "#        \n",
    "    "
   ]
  },
  {
   "cell_type": "code",
   "execution_count": 30,
   "metadata": {},
   "outputs": [
    {
     "name": "stdout",
     "output_type": "stream",
     "text": [
      "Enter your list\n",
      "[]\n",
      "List is empty\n"
     ]
    }
   ],
   "source": [
    "#Write a Python program to check a list is empty or not?\n",
    "#Input:- []\n",
    "#Output:- List is empty\n",
    "#Input:- [10,20,30]\n",
    "#Output:- List is not empty\n",
    "\n",
    "list= input(\"Enter your list\")\n",
    "String_To_list = list.split()\n",
    "print(String_To_list)\n",
    "#type(String_To_list)\n",
    "#print(len(String_To_list))\n",
    "if len(String_To_list) == 0:\n",
    "    print('List is empty')\n",
    "else:\n",
    "    print('List is not empty')\n"
   ]
  },
  {
   "cell_type": "code",
   "execution_count": 32,
   "metadata": {},
   "outputs": [
    {
     "name": "stdout",
     "output_type": "stream",
     "text": [
      "[10, 10.2, (10+20j), 'Python', [10, 20], (10, 20)]\n"
     ]
    }
   ],
   "source": [
    "#Write a Python program to copy a list using loop.\n",
    "#inp_lst = [10,10.20,10+20j, 'Python', [10,20], (10,20)]\n",
    "#out_lst = [10,10.20,10+20j, 'Python', [10,20], (10,20)]\n",
    "\n",
    "inp_lst = [10,10.20,10+20j, 'Python', [10,20], (10,20)]\n",
    "out_lst=[]\n",
    "for i in inp_lst:\n",
    "    out_lst.append(i)\n",
    "print(out_lst)\n"
   ]
  },
  {
   "cell_type": "code",
   "execution_count": 61,
   "metadata": {},
   "outputs": [
    {
     "name": "stdout",
     "output_type": "stream",
     "text": [
      "['much', 'wood', 'would', 'woodchuck', 'chuck', 'could'] "
     ]
    }
   ],
   "source": [
    "#Write a Python program to find the list of words that are longer than or equal to 4 from a given string.\n",
    "#Input:- 'How much wood would a woodchuck chuck if a woodchuck could chuck wood'\n",
    "#Output:- ['much', 'wood', 'would', 'woodchuck', 'chuck', 'could', 'could']   \n",
    "#Note:- Duplicate should be avoided\n",
    "\n",
    "str='How much wood would a woodchuck chuck if a woodchuck could chuck wood '\n",
    "#print(len(str))\n",
    "parts=[]\n",
    "new_word=[]\n",
    "start=0\n",
    "for i in range(len(str)):\n",
    "    if str[i]==' ':\n",
    "        parts.append(str[start:i])\n",
    "        start=i+1\n",
    "        #print(i,parts)\n",
    "for x in parts:\n",
    "    if len(x) >= 4:\n",
    "        new_word.append(x)\n",
    "#print(new_word)\n",
    "new_list = [] \n",
    "for string in new_word:\n",
    "    if string not in new_list: \n",
    "            new_list.append(string) \n",
    "print (new_list,end=' ') \n"
   ]
  },
  {
   "cell_type": "code",
   "execution_count": 71,
   "metadata": {},
   "outputs": [
    {
     "name": "stdout",
     "output_type": "stream",
     "text": [
      " Common element: ['Python', (10+20j), [10, 20, 30], (10, 20, 30)]\n",
      "True\n"
     ]
    }
   ],
   "source": [
    "#Write a Python program which takes two list as input and returns True if they have at least 3 common elements.\n",
    "#inp_lst1 = [10,20,'Python', 10.20, 10+20j, [10,20,30], (10,20,30)]\n",
    "#inp_lst2 = [(10,20,30),1,20+3j,100.2, 10+20j, [10,20,30],'Python']\n",
    "#Output:- True\n",
    "\n",
    "inp_lst1 = [10,20,'Python', 10.20, 10+20j, [10,20,30], (10,20,30)]\n",
    "inp_lst2 = [(10,20,30),1,20+3j,100.2, 10+20j, [10,20,30],'Python']\n",
    "new_list = [] \n",
    "count=0\n",
    "for num in inp_lst1:\n",
    "    if num  in inp_lst2:\n",
    "        new_list.append(num)\n",
    "        count=count+1\n",
    "print(f\" Common element: {new_list}\")\n",
    "if count >= 3:\n",
    "    print('True')\n",
    "else:\n",
    "    print('Count less than 3')\n",
    "\n",
    "\n"
   ]
  },
  {
   "cell_type": "code",
   "execution_count": 73,
   "metadata": {},
   "outputs": [
    {
     "name": "stdout",
     "output_type": "stream",
     "text": [
      "[[0, 1, 2, 3], [0, 1, 2, 3], [0, 1, 2, 3], [0, 1, 2, 3]]\n"
     ]
    }
   ],
   "source": [
    "#Write a Python program to create a 4X4 2D matrix with below elements using loop and list comprehension both.\n",
    "#Output:- [[0,0,0,0],[0,1,2,3],[0,2,4,6],[0,3,6,9]]\n",
    "\n",
    "matrix = [] \n",
    "for i in range(4):\n",
    "    matrix.append([])\n",
    "    for j in range(4): \n",
    "        matrix[i].append(j) \n",
    "print(matrix)\n",
    "\n",
    " \n",
    "List Comprehension --#Pending "
   ]
  },
  {
   "cell_type": "code",
   "execution_count": null,
   "metadata": {},
   "outputs": [],
   "source": [
    "#Write a Python program to create a 3X4X6 3D matrix wiith below elements using loop\n",
    "#Output:- \n",
    "# [\n",
    "#     [[0,0,0,0,0,0],[0,0,0,0,0,0],[0,0,0,0,0,0],[0,0,0,0,0,0]],\n",
    "#     [[0,0,0,0,0,0],[1,1,1,1,1,1],[2,2,2,2,2,2],[3,3,3,3,3,3]],\n",
    "#     [[0,0,0,0,0,0],[2,2,2,2,2,2],[4,4,4,4,4,4],[6,6,6,6,6,6]]\n",
    "# ]\n",
    "\n",
    "\n"
   ]
  },
  {
   "cell_type": "code",
   "execution_count": 5,
   "metadata": {},
   "outputs": [
    {
     "name": "stdout",
     "output_type": "stream",
     "text": [
      "[21, 87, 45, 33, 1]\n"
     ]
    }
   ],
   "source": [
    "#Write a Python program which takes a list of numbers as input and prints a new list after removing even numbers from it.\n",
    "s=[10,21,22,98,87,45,33,1,2,100]\n",
    "#Output:- [21,87,45,33,1]\n",
    "\n",
    "#list=[]\n",
    "#for i in s:\n",
    "#    if i % 2 == 0:\n",
    "#        pass\n",
    "#    else:\n",
    "#        list.append(i)\n",
    "#print(list,end='')\n",
    "\n",
    "#List comprehension\n",
    "s=[i for i in s if (i%2 != 0)]\n",
    "print(s)"
   ]
  },
  {
   "cell_type": "code",
   "execution_count": 1,
   "metadata": {},
   "outputs": [],
   "source": [
    "#Write a Python program which takes a list from the user and prints it after reshuffling the elements of the list.\n",
    "#Input:- [10,21,22,98,87,45,33,1,2,100]\n",
    "#Output:- [1,87,21,10,33,2,100,45,98,22] (It may be any randon list but with same elements)\n",
    "\n",
    "\n"
   ]
  },
  {
   "cell_type": "code",
   "execution_count": null,
   "metadata": {},
   "outputs": [],
   "source": [
    "a=[(5,4),(9,1),(2,3),(5,9),(7,6),(5,5), (9,2)]\n",
    "for i in range(0,len(a)):\n",
    "    for j in range(i,len(a)):\n",
    "        if(a[i][1]>a[j][1]):\n",
    "            d=a[i]\n",
    "            a[i]=a[j]\n",
    "            a[j]=d\n",
    "print(a)"
   ]
  },
  {
   "cell_type": "code",
   "execution_count": null,
   "metadata": {},
   "outputs": [],
   "source": [
    "for i in range(0,len(a)):  \n",
    "    for j in range(0,len(a)-i-1):  \n",
    "        if (a[j][1] > a[j + 1][1]):  \n",
    "            temp = a[j]  \n",
    "            a[j]= a[j + 1]  \n",
    "            a[j + 1]= temp  \n",
    "print(a)"
   ]
  },
  {
   "cell_type": "code",
   "execution_count": 6,
   "metadata": {},
   "outputs": [],
   "source": [
    "#SELF PRACTISE "
   ]
  },
  {
   "cell_type": "code",
   "execution_count": null,
   "metadata": {},
   "outputs": [],
   "source": [
    "#WAP to print a specified listafter removing the 0th,4th,5th elemmen"
   ]
  }
 ],
 "metadata": {
  "kernelspec": {
   "display_name": "Python 3",
   "language": "python",
   "name": "python3"
  },
  "language_info": {
   "codemirror_mode": {
    "name": "ipython",
    "version": 3
   },
   "file_extension": ".py",
   "mimetype": "text/x-python",
   "name": "python",
   "nbconvert_exporter": "python",
   "pygments_lexer": "ipython3",
   "version": "3.7.6"
  }
 },
 "nbformat": 4,
 "nbformat_minor": 4
}
