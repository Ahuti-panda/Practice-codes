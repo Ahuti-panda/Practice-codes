{
  "nbformat": 4,
  "nbformat_minor": 0,
  "metadata": {
    "colab": {
      "name": "Conditional_and_loop_assignment_Swarna.ipynb",
      "provenance": []
    },
    "kernelspec": {
      "display_name": "Python 3",
      "language": "python",
      "name": "python3"
    },
    "language_info": {
      "codemirror_mode": {
        "name": "ipython",
        "version": 3
      },
      "file_extension": ".py",
      "mimetype": "text/x-python",
      "name": "python",
      "nbconvert_exporter": "python",
      "pygments_lexer": "ipython3",
      "version": "3.7.6"
    }
  },
  "cells": [
    {
      "cell_type": "markdown",
      "metadata": {
        "colab_type": "text",
        "id": "wNRNTbrsc53d"
      },
      "source": [
        "# If - elif - else statement"
      ]
    },
    {
      "cell_type": "code",
      "metadata": {
        "colab_type": "code",
        "id": "MiPfTnBycxNa",
        "colab": {},
        "outputId": "7f4e0672-3164-45a3-ce44-3bd2813f8bc2"
      },
      "source": [
        "#W. A P. which takes one number from 0 to 9 from the user and prints it in the word. And if the word is not from 0 to 9 then\n",
        "#it should print that number is outside of the range and program should exit.\n",
        "# For exapmple:- \n",
        "# input = 1\n",
        "# output = one\n",
        "num=int(input(\"enter any number bwn 0 to 9:\\n\"))\n",
        "dt={0:\"zero\",1:\"one\",2:\"two\",3:\"three\",4:\"four\",5:\"five\",6:\"six\",7:\"seven\",8:\"eight\",9:\"nine\"}\n",
        "if num in range(9):\n",
        "    print(dt[num])\n",
        "else:\n",
        "    print(\"num is out of range\")"
      ],
      "execution_count": null,
      "outputs": [
        {
          "output_type": "stream",
          "text": [
            "enter any number bwn 0 to 9:\n",
            "10\n",
            "num is out of range\n"
          ],
          "name": "stdout"
        }
      ]
    },
    {
      "cell_type": "code",
      "metadata": {
        "colab_type": "code",
        "id": "vEMNOv9zdA39",
        "colab": {},
        "outputId": "423bc558-9e4c-4b60-b2ca-a7d9f564fbe5"
      },
      "source": [
        "#W. A P. to implement calculator but the operation to be done and two numbers will be taken as input from user:-\n",
        "#Operation console should show below:-\n",
        "#     Please select any one operation from below:-\n",
        "#         * To add enter 1\n",
        "#         * to subtract enter 2\n",
        "#         * To multiply enter 3\n",
        "#         * To divide enter 4\n",
        "#         * To divide and find quotient enter 5\n",
        "#         * To divide and find remainder enter 6\n",
        "#         * To divide and find num1 to the power of num2 enter 7\n",
        "#         * To Come out of the program enter 8\n",
        "n1=int(input(\"enter num1:\\n \"))\n",
        "n2=int(input(\"enter num2:\\n \"))\n",
        "op=int(input(\"Please select any one operation from below:-\\n* To add enter 1 \\n* to subtract enter 2\\n* To multiply enter 3\\n* To divide enter 4\\n* To divide and find quotient enter 5\\n* To divide and find remainder enter 6\\n* To divide and find num1 to the power of num2 enter 7\\n* To Come out of the program enter 8:\\n\"))\n",
        "if(op==1):\n",
        "    print(f\"sum={n1+n2}\")   \n",
        "elif(op==2):\n",
        "    print(f\"subtraction={n1-n2}\")\n",
        "elif(op==3):\n",
        "    print(f\"multiplication={n1*n2}\")\n",
        "elif(op==4):\n",
        "    print(f\"division of {n1} by {n2} = {n1/n2}\")\n",
        "elif(op==5):\n",
        "    print(f\"quotient = {n1/n2}\")\n",
        "elif(op==6):\n",
        "    print(f\"remainder = {n1%n2}\")\n",
        "elif(op==7):\n",
        "    print(f\"division = {n1/n2}\\nexponent={n1**n2}\")\n",
        "elif(op==8):\n",
        "    print(\"program terminated\")\n",
        "\n"
      ],
      "execution_count": null,
      "outputs": [
        {
          "output_type": "stream",
          "text": [
            "enter num1:\n",
            " 3\n",
            "enter num2:\n",
            " 4\n",
            "Please select any one operation from below:-\n",
            "* To add enter 1 \n",
            "* to subtract enter 2\n",
            "* To multiply enter 3\n",
            "* To divide enter 4\n",
            "* To divide and find quotient enter 5\n",
            "* To divide and find remainder enter 6\n",
            "* To divide and find num1 to the power of num2 enter 7\n",
            "* To Come out of the program enter 8:\n",
            "7\n",
            "division = 0.75\n",
            "exponent=81\n"
          ],
          "name": "stdout"
        }
      ]
    },
    {
      "cell_type": "code",
      "metadata": {
        "colab_type": "code",
        "id": "1e2gwYLqdC1s",
        "colab": {},
        "outputId": "2526401e-e8a4-48df-d9d7-5708a0a10cc3"
      },
      "source": [
        "#W A P to check whether a year entered by user is an leap year or not?\n",
        "#Check with below input:-\n",
        "    #leap year:- 2012, 1968, 2004, 1200, 1600,2400\n",
        "    #Non-lear year:- 1971, 2006, 1700,1800,1900\n",
        "yr=int(input(\"enter any year:\\n\")) \n",
        "if yr%4==0:\n",
        "    if(yr%100==0 ):\n",
        "        if(yr%400==0):\n",
        "            print(f\"{yr} is leap year\")\n",
        "        else:\n",
        "            print(f\"{yr} is not leap year\")\n",
        "    else:\n",
        "        print(f\"{yr} is leap year\") \n",
        "else:\n",
        "    print(f\"{yr} is not leap year\")\n"
      ],
      "execution_count": null,
      "outputs": [
        {
          "output_type": "stream",
          "text": [
            "enter any year:\n",
            "1700\n",
            "1700 is not leap year\n"
          ],
          "name": "stdout"
        }
      ]
    },
    {
      "cell_type": "code",
      "metadata": {
        "colab_type": "code",
        "id": "_tpXv1EtdEre",
        "colab": {},
        "outputId": "72f9020a-8c38-4313-b0a8-2335868a6f37"
      },
      "source": [
        "#W A P which takes one number from the user and checks whether it is an even or odd number?, If it even then prints number is \n",
        "#even number else prints that number is odd number.\n",
        "num=int(input(\"enter any number:\\n\"))\n",
        "if(num%2==0):\n",
        "    print(f\"{num} is even\")\n",
        "else:\n",
        "    print(f\"{num} is odd\")\n"
      ],
      "execution_count": null,
      "outputs": [
        {
          "output_type": "stream",
          "text": [
            "enter any number:\n",
            "4\n",
            "4 is even\n"
          ],
          "name": "stdout"
        }
      ]
    },
    {
      "cell_type": "code",
      "metadata": {
        "colab_type": "code",
        "id": "Q1HumymCdG6i",
        "colab": {},
        "outputId": "ebd75722-b745-454d-a9b8-b46403527454"
      },
      "source": [
        "#W A P which takes two numbers from the user and prints below output:-\n",
        "#     1. num1 is greater than num2 if num1 is greater than num2\n",
        "#     2. num1 is smaller than num2 if num1 is smaller than num2\n",
        "#     3. num1 is equal to num2 if num1 and num2 are equal\n",
        "\n",
        "#Note:- 1. Do this problem using if - else \n",
        "#       2. Do this using ternary operator\n",
        "num1=int(input(\"enter num1:\\n\"))\n",
        "num2=int(input(\"enter num2:\\n\"))\n",
        "if num1>num2:\n",
        "    print(f\"num1={num1} is greater than num2={num2}\")\n",
        "elif num1<num2:\n",
        "    print(f\"num1={num1} is less than num2={num2}\")\n",
        "elif num1==num2:\n",
        "    print(f\"num1={num1} is equal to num2={num2}\")\n"
      ],
      "execution_count": null,
      "outputs": [
        {
          "output_type": "stream",
          "text": [
            "enter num1:\n",
            "4\n",
            "enter num2:\n",
            "8\n",
            "num1=4 is less than num2=8\n"
          ],
          "name": "stdout"
        }
      ]
    },
    {
      "cell_type": "code",
      "metadata": {
        "colab_type": "code",
        "id": "LR6TVB-DdOPf",
        "colab": {},
        "outputId": "fe3ae314-6276-44d2-8ee2-337200ea0017"
      },
      "source": [
        "#W A P which takes three numbers from the user and prints below output:-\n",
        "#     1. num1 is greater than num2 and num3 if num1 is greater than num2 and num3\n",
        "#     2. num2 is greater than num1 and num3 if num2 is greater than num1 and num3\n",
        "#     3. num3 is greater than num1 and num2 if num3 is greater than num1 and num2\n",
        "\n",
        "#Note:- 1. Do this problem using if - elif - else \n",
        "#       2. Do this using ternary operator\n",
        "\n",
        "# a = a if a>b else b\n",
        "#expr if cond1 else expr2 if cond2 else expr3\n",
        "num1=int(input(\"enter num1:\\n\"))\n",
        "num2=int(input(\"enter num2:\\n\"))\n",
        "num3=int(input(\"enter num3:\\n\"))\n",
        "res=num1 if (num1>num2) and (num1>num3) else num2  if num2>num3 else num3  \n",
        "if(res==num1): \n",
        "    print(\"num1 is greater than num2 and num3\")\n",
        "elif(res==num2):\n",
        "    print(\"num2 is greater than num1 and num3\")\n",
        "else:\n",
        "    print(\"num1 is greater than num1 and num2\")\n"
      ],
      "execution_count": null,
      "outputs": [
        {
          "output_type": "stream",
          "text": [
            "enter num1:\n",
            "5\n",
            "enter num2:\n",
            "7\n",
            "enter num3:\n",
            "3\n",
            "num2 is greater than num1 and num3\n"
          ],
          "name": "stdout"
        }
      ]
    },
    {
      "cell_type": "markdown",
      "metadata": {
        "colab_type": "text",
        "id": "IoOLQMUGdSox"
      },
      "source": [
        "# Loops - for loop, while loop"
      ]
    },
    {
      "cell_type": "code",
      "metadata": {
        "colab_type": "code",
        "id": "9K23Uld8dQfA",
        "colab": {},
        "outputId": "2e6ed45f-324e-419f-9d6b-0175e3d60f8c"
      },
      "source": [
        "#Write a Python program to find the length of the my_str using loop:-\n",
        "\n",
        "#Input:- 'Write a Python program to find the length of the my_str'\n",
        "#Output:- 55\n",
        "st='Write a Python program to find the length of the my_str'\n",
        "count=0\n",
        "for i in st:\n",
        "    count+=1\n",
        "print(\"length=\",count)"
      ],
      "execution_count": null,
      "outputs": [
        {
          "output_type": "stream",
          "text": [
            "length= 55\n"
          ],
          "name": "stdout"
        }
      ]
    },
    {
      "cell_type": "code",
      "metadata": {
        "colab_type": "code",
        "id": "bp6AcqTsdYxy",
        "colab": {},
        "outputId": "3b50c71d-1b8f-484e-8c13-fb4471ba65d2"
      },
      "source": [
        "#Write a Python program to find the total number of times letter 'p' is appeared in the below string using loop:-\n",
        "    \n",
        "#Input:- 'peter piper picked a peck of pickled peppers.\\n'\n",
        "#Output:- 9\n",
        "st='peter piper picked a peck of pickled peppers.\\n'\n",
        "count=0\n",
        "idx=-1\n",
        "while True:\n",
        "    idx=st.find('p',idx+1)\n",
        "    if idx==-1:\n",
        "        break\n",
        "    else:\n",
        "        count+=1\n",
        "print(count)\n"
      ],
      "execution_count": null,
      "outputs": [
        {
          "output_type": "stream",
          "text": [
            "9\n"
          ],
          "name": "stdout"
        }
      ]
    },
    {
      "cell_type": "code",
      "metadata": {
        "colab_type": "code",
        "id": "xvxSBhTJdav1",
        "colab": {},
        "outputId": "ab9402b9-709a-4b83-8280-664e242aa286"
      },
      "source": [
        "#Write a Python Program, to print all the indexes of all occurences of letter 'p' appeared in the string using loop:-\n",
        "    \n",
        "#Input:- 'peter piper picked a peck of pickled peppers.'\n",
        "#Output:- \n",
        "# 0\n",
        "# 6\n",
        "# 8\n",
        "# 12\n",
        "# 21\n",
        "# 29\n",
        "# 37\n",
        "# 39\n",
        "# 40\n",
        "st='peter piper picked a peck of pickled peppers.\\n'\n",
        "count=0\n",
        "idx=-1\n",
        "while True:\n",
        "    idx=st.find('p',idx+1)\n",
        "    if idx==-1:\n",
        "        break\n",
        "    else:\n",
        "        print(idx)\n"
      ],
      "execution_count": null,
      "outputs": [
        {
          "output_type": "stream",
          "text": [
            "0\n",
            "6\n",
            "8\n",
            "12\n",
            "21\n",
            "29\n",
            "37\n",
            "39\n",
            "40\n"
          ],
          "name": "stdout"
        }
      ]
    },
    {
      "cell_type": "code",
      "metadata": {
        "colab_type": "code",
        "id": "79L_feMadbmw",
        "colab": {},
        "outputId": "7fd50de2-ce57-4f33-8d7a-0a2adf428986"
      },
      "source": [
        "#Write a python program to find below output using loop:-\n",
        "\n",
        "#Input:- 'peter piper picked a peck of pickled peppers.'\n",
        "#Output:- ['peter', 'piper', 'picked', 'a', 'peck', 'of', 'pickled', 'peppers']\n",
        "st='peter piper picked a peck of pickled peppers.'\n",
        "ot_lst=[]\n",
        "ot_str=''\n",
        "for i in st:\n",
        "    if i==' 'or i==\".\":\n",
        "        ot_lst.append(ot_str)\n",
        "        ot_str=\"\"\n",
        "    else:\n",
        "        ot_str+=i\n",
        "print(ot_lst)   "
      ],
      "execution_count": null,
      "outputs": [
        {
          "output_type": "stream",
          "text": [
            "['peter', 'piper', 'picked', 'a', 'peck', 'of', 'pickled', 'peppers']\n"
          ],
          "name": "stdout"
        }
      ]
    },
    {
      "cell_type": "code",
      "metadata": {
        "colab_type": "code",
        "id": "vzs5AJ53deVS",
        "colab": {},
        "outputId": "d2f4e66a-4fb5-4586-9a57-3d744778385d"
      },
      "source": [
        "#Write a python program to find below output using loop:-\n",
        "\n",
        "#Input:- 'peter piper picked a peck of pickled peppers.'\n",
        "#Output:- 'peppers pickled of peck a picked piper peter'\n",
        "\n",
        "st='peter piper picked a peck of pickled peppers.'\n",
        "ot_lst=[]\n",
        "ot_str=''\n",
        "for i in st:\n",
        "    if i==' 'or i==\".\":\n",
        "        ot_lst.append(ot_str)\n",
        "        ot_str=\"\"\n",
        "    else:\n",
        "        ot_str+=i\n",
        "fl_lst=''  \n",
        "for j in ot_lst[-1:-len(ot_lst)-1:-1]:\n",
        "    fl_lst+=\" \"+j\n",
        "print(fl_lst)\n",
        "    "
      ],
      "execution_count": null,
      "outputs": [
        {
          "output_type": "stream",
          "text": [
            " peppers pickled of peck a picked piper peter\n"
          ],
          "name": "stdout"
        }
      ]
    },
    {
      "cell_type": "code",
      "metadata": {
        "colab_type": "code",
        "id": "i-HP7DrCdhwS",
        "colab": {},
        "outputId": "ea53833d-666a-4eec-d08e-12edcaade328"
      },
      "source": [
        "#Write a python program to find below output using loop:-\n",
        "\n",
        "#Input:- 'peter piper picked a peck of pickled peppers.'\n",
        "#Output:- '.sreppep delkcip fo kcep a dekcip repip retep'\n",
        "\n",
        "st='peter piper picked a peck of pickled peppers.'\n",
        "ot_lst=[]\n",
        "ot_str=\"\"\n",
        "for i in st[-1:-len(st)-1:-1]:\n",
        "    if i==' ':\n",
        "        ot_lst.append(ot_str)\n",
        "        ot_str=\"\"\n",
        "    else:\n",
        "        ot_str+=i\n",
        "#print(ot_lst)\n",
        "ot_lst.append(ot_str)\n",
        "fl_lst=''  \n",
        "for j in ot_lst:\n",
        "    fl_lst+=\" \"+j\n",
        "print(fl_lst)\n"
      ],
      "execution_count": null,
      "outputs": [
        {
          "output_type": "stream",
          "text": [
            " .sreppep delkcip fo kcep a dekcip repip retep\n"
          ],
          "name": "stdout"
        }
      ]
    },
    {
      "cell_type": "code",
      "metadata": {
        "colab_type": "code",
        "id": "3rt6p0ytdkq0",
        "colab": {},
        "outputId": "3113574d-f0c8-4825-d954-9f28fd95649a"
      },
      "source": [
        "#Write a python program to find below output using loop:-\n",
        "\n",
        "#Input:- 'peter piper picked a peck of pickled peppers.'\n",
        "#Output:- 'retep repip dekcip a kcep fo delkcip sreppep'\n",
        "st='peter piper picked a peck of pickled peppers.'\n",
        "ot_lst=[]\n",
        "ot_str=\"\"\n",
        "for i in st[-1:-len(st)-1:-1]:\n",
        "    if i==' ':\n",
        "        ot_lst.append(ot_str)\n",
        "        ot_str=\"\"\n",
        "    else:\n",
        "        ot_str+=i\n",
        "#print(ot_lst)\n",
        "ot_lst.append(ot_str)\n",
        "fl_lst=''  \n",
        "for j in ot_lst[-1:-len(ot_lst)-1:-1]:\n",
        "    fl_lst+=\" \"+j\n",
        "print(fl_lst)\n",
        "\n"
      ],
      "execution_count": null,
      "outputs": [
        {
          "output_type": "stream",
          "text": [
            " retep repip dekcip a kcep fo delkcip .sreppep\n"
          ],
          "name": "stdout"
        }
      ]
    },
    {
      "cell_type": "code",
      "metadata": {
        "colab_type": "code",
        "id": "HdlAWgT2dnKO",
        "colab": {},
        "outputId": "b7f6ed7c-39d8-4c53-f78c-ada5f24b53d6"
      },
      "source": [
        "#Write a python program to find below output using loop:-\n",
        "\n",
        "#Input:- 'peter piper picked a peck of pickled peppers.'\n",
        "#Output:- 'Peter Piper Picked A Peck Of Pickled Peppers'\n",
        "st='peter piper picked a peck of pickled peppers.'\n",
        "ot_lst=[]\n",
        "ot_str=''\n",
        "for i in st:\n",
        "    if i==' 'or i==\".\":\n",
        "        ot_str=chr(ord(ot_str[0])-32)+ot_str[1:]\n",
        "        ot_lst.append(ot_str)\n",
        "        ot_str=\"\"\n",
        "    else:\n",
        "        ot_str+=i\n",
        "#print(ot_lst) \n",
        "fl=\"\"\n",
        "for j in ot_lst:\n",
        "    fl+=\" \"+j\n",
        "print(fl)\n",
        "    "
      ],
      "execution_count": null,
      "outputs": [
        {
          "output_type": "stream",
          "text": [
            " Peter Piper Picked A Peck Of Pickled Peppers\n"
          ],
          "name": "stdout"
        }
      ]
    },
    {
      "cell_type": "code",
      "metadata": {
        "colab_type": "code",
        "id": "OthUuacodrNl",
        "colab": {},
        "outputId": "85cc4a95-1757-437c-bfe7-9369bf6a95e2"
      },
      "source": [
        "#Write a python program to find below output using loop:-\n",
        "\n",
        "#Input:- 'Peter Piper Picked A Peck Of Pickled Peppers.'\n",
        "#Output:- 'Peter piper picked a peck of pickled peppers'\n",
        "st='Peter Piper Picked A Peck Of Pickled Peppers.'\n",
        "ot_lst=[]\n",
        "ot_str=''\n",
        "for i in st:\n",
        "    if i==' 'or i==\".\":\n",
        "        ot_str=chr(ord(ot_str[0])+32)+ot_str[1:]\n",
        "        ot_lst.append(ot_str)\n",
        "        ot_str=\"\"\n",
        "    else:\n",
        "        ot_str+=i\n",
        "#print(ot_lst) \n",
        "fl=\"\"\n",
        "for j in ot_lst:\n",
        "    fl+=\" \"+j\n",
        "print(fl)"
      ],
      "execution_count": null,
      "outputs": [
        {
          "output_type": "stream",
          "text": [
            " peter piper picked a peck of pickled peppers\n"
          ],
          "name": "stdout"
        }
      ]
    },
    {
      "cell_type": "code",
      "metadata": {
        "colab_type": "code",
        "id": "scmDJE-ldsI9",
        "colab": {
          "base_uri": "https://localhost:8080/",
          "height": 68
        },
        "outputId": "ff6ae651-ef85-47e5-81ba-0427b1c182d4"
      },
      "source": [
        "#Write a python program to implement index method using loop. If sub_str is found in my_str then it will print the index\n",
        "# of first occurrence of first character of matching string in my_str:-\n",
        "\n",
        "#Input:- my_str = 'Peter Piper Picked A Peck Of Pickled Peppers.', sub_str = 'Pickl'\n",
        "#Output:- 29\n",
        "ipt='Peter Piper Picked A Peck Of Pickled Peppers.'\n",
        "sub_str =input(\"enter substring:\\n\")\n",
        "idx=0\n",
        "for i in range(len(ipt)):\n",
        "    k=i     \n",
        "    for j in range(len(sub_str)):       \n",
        "        if(ipt[k]==sub_str[j]):\n",
        "            idx+=1\n",
        "            k+=1\n",
        "            \n",
        "        else:\n",
        "            idx=0\n",
        "            break\n",
        "    if(idx==len(sub_str)):\n",
        "        print(k-len(sub_str))\n",
        "        break\n",
        "#print()            "
      ],
      "execution_count": 3,
      "outputs": [
        {
          "output_type": "stream",
          "text": [
            "enter substring:\n",
            "Pickl\n",
            "29\n"
          ],
          "name": "stdout"
        }
      ]
    },
    {
      "cell_type": "code",
      "metadata": {
        "colab_type": "code",
        "id": "Kq_fwdb_dvYE",
        "colab": {},
        "outputId": "e9630209-06b6-43be-84e4-7ed71df92e57"
      },
      "source": [
        "#Write a python program to implement replace method using loop. If sub_str is found in my_str then it will replace the first \n",
        "#occurrence of sub_str with new_str else it will will print sub_str not found:-\n",
        "\n",
        "#Input:- my_str = 'Peter Piper Picked A Peck Of Pickled Peppers.', sub_str = 'Peck', new_str = 'Pack'\n",
        "#Output:- 'Peter Piper Picked A Pack Of Pickled Peppers.'\n",
        "\n",
        "\n",
        "st='peter piper picked a peck of pickled peppers.'\n",
        "ot_lst=[]\n",
        "ot_str=''\n",
        "sub_str=input(\"enter substring to be replaced:\\n\")\n",
        "new_str=input(\"enter newstring to  replace:\\n\")\n",
        "for i in st:\n",
        "    if i==' 'or i==\".\":\n",
        "        ot_lst.append(ot_str)\n",
        "        ot_str=\"\"\n",
        "    else:\n",
        "        ot_str+=i\n",
        "if sub_str in ot_lst:\n",
        "    ot_lst[ot_lst.index(sub_str)]=new_str\n",
        "    print(\"new string after repalcing:\\n \")\n",
        "    print(\" \".join(ot_lst))\n",
        "else:\n",
        "    print(\"sub_str not found\")\n",
        "#print(ot_lst)   \n",
        "\n"
      ],
      "execution_count": null,
      "outputs": [
        {
          "output_type": "stream",
          "text": [
            "enter substring to be replaced:\n",
            "pickl\n",
            "enter newstring to  replace:\n",
            "peck\n",
            "sub_str not found\n"
          ],
          "name": "stdout"
        }
      ]
    },
    {
      "cell_type": "code",
      "metadata": {
        "colab_type": "code",
        "id": "4Qes5D0cdyd1",
        "colab": {},
        "outputId": "fc0b3c2b-b03c-431d-c170-21a60cb94259"
      },
      "source": [
        "#Write a python program to find below output (implements rjust and ljust) using loop:-\n",
        "\n",
        "# Input= 'Peter Piper Picked A Peck Of Pickled Peppers.'#, sub_str = 'Peck', \n",
        "# Output= '*********************Peck********************'\n",
        "# print(len(Input))\n",
        "# print(len(Output))\n",
        "st='peter piper picked a peck of pickled peppers.'\n",
        "ot_lst=[]\n",
        "ot_str=''\n",
        "sub_str=input(\"enter any substring from input string\")\n",
        "for i in st:\n",
        "    if i==' ':\n",
        "        ot_lst.append(ot_str)\n",
        "        ot_str=\"\"\n",
        "    else:\n",
        "        ot_str+=i\n",
        "ot_lst.append(ot_str)\n",
        "#print(ot_lst)\n",
        "if sub_str in ot_lst:\n",
        "    for j in ot_lst:\n",
        "        if j==sub_str:\n",
        "            continue\n",
        "        else:\n",
        "             ot_lst[ot_lst.index(j)]=\"*\" * len(j)\n",
        "    #print(ot_lst)\n",
        "    fl=\"*\".join(ot_lst)\n",
        "    print(len(fl))\n",
        "    print(fl)\n",
        "    \n",
        "else:\n",
        "    print(\"sub_str not found\")\n",
        "\n"
      ],
      "execution_count": null,
      "outputs": [
        {
          "output_type": "stream",
          "text": [
            "enter any substring from input stringpeck\n",
            "45\n",
            "*********************peck********************\n"
          ],
          "name": "stdout"
        }
      ]
    },
    {
      "cell_type": "code",
      "metadata": {
        "colab_type": "code",
        "id": "DsOrb07Od0lR",
        "colab": {},
        "outputId": "fb7d30d9-3304-4dfb-a155-85ccc5af3465"
      },
      "source": [
        "#Write a python program to find below output using loop:-\n",
        "\n",
        "#Input:- 'This is Python class', sep = 'is', \n",
        "#Output:- ['This', 'is', 'Python class']\n",
        "\n",
        "st='peter piper picked a peck of pickled peppers.'\n",
        "ot_lst=[]\n",
        "ot_str=''\n",
        "idx=-1\n",
        "sep=input(\"enter any substring from input string\")\n",
        "for i in st:\n",
        "    if i==' ':\n",
        "        idx+=1\n",
        "        if ot_str==sep:\n",
        "            ot_str=st[idx+1:]\n",
        "            ot_lst.append(ot_str)\n",
        "            break\n",
        "        else:\n",
        "            ot_lst.append(ot_str)\n",
        "            ot_str=\"\"\n",
        "        \n",
        "    else:\n",
        "        idx+=1\n",
        "        ot_str+=i\n",
        "print(ot_lst)"
      ],
      "execution_count": null,
      "outputs": [
        {
          "output_type": "stream",
          "text": [
            "enter any substring from input stringa\n",
            "['peter', 'piper', 'picked', 'peck of pickled peppers.']\n"
          ],
          "name": "stdout"
        }
      ]
    },
    {
      "cell_type": "code",
      "metadata": {
        "colab_type": "code",
        "id": "jRnBVufmd2Ay",
        "colab": {},
        "outputId": "572e3050-7a74-4253-af56-7a703d97b65e"
      },
      "source": [
        "#Write a python program which takes one input string from user and encode it in below format:-\n",
        "    # 1. #Input:- 'Python'\n",
        "       #Output:- 'R{vjqp'\n",
        "ipt1='Python'\n",
        "opt1=''\n",
        "for i in ipt1:\n",
        "    opt1+=chr(ord(i)+2)\n",
        "print(opt1)        \n",
        "\n",
        "    # 2. #Input:- 'Python'\n",
        "       #Output:- 'Rwvfql'\n",
        "        \n",
        "        \n",
        "ipt2='Python'\n",
        "opt2=''\n",
        "for i in ipt2:\n",
        "    if ipt2.index(i)%2==0:\n",
        "        opt2+=chr(ord(i)+2)\n",
        "    else:\n",
        "        opt2+=chr(ord(i)-2)\n",
        "print(opt2)       \n",
        " \n",
        "# 121-119\n",
        "\n",
        "#     # 3. #Input:- 'Python'\n",
        "       #Output:- 'R{vfml'\n",
        "\n",
        "ipt3='Python'\n",
        "opt3=''\n",
        "for i in ipt3:\n",
        "    if ipt3.index(i)<3:\n",
        "        opt3+=chr(ord(i)+2)\n",
        "    else:\n",
        "        opt3+=chr(ord(i)-2)\n",
        "print(opt3)  "
      ],
      "execution_count": null,
      "outputs": [
        {
          "output_type": "stream",
          "text": [
            "R{vjqp\n",
            "Rwvfql\n",
            "R{vfml\n"
          ],
          "name": "stdout"
        }
      ]
    }
  ]
}