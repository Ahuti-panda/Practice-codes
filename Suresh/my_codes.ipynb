{
 "cells": [
  {
   "cell_type": "code",
   "execution_count": 1,
   "metadata": {},
   "outputs": [
    {
     "name": "stdout",
     "output_type": "stream",
     "text": [
      "Hello world\n"
     ]
    }
   ],
   "source": [
    "#print command\n",
    "\n",
    "print('Hello world')"
   ]
  },
  {
   "cell_type": "code",
   "execution_count": 2,
   "metadata": {},
   "outputs": [
    {
     "name": "stdout",
     "output_type": "stream",
     "text": [
      "13\n"
     ]
    }
   ],
   "source": [
    "#adding two numbers\n",
    "\n",
    "x = 5\n",
    "y = 8\n",
    "z = (x+y)\n",
    "print(z)"
   ]
  },
  {
   "cell_type": "code",
   "execution_count": 3,
   "metadata": {},
   "outputs": [
    {
     "name": "stdout",
     "output_type": "stream",
     "text": [
      "Suresh Krishna\n"
     ]
    }
   ],
   "source": [
    "#combining string \n",
    "\n",
    "#concatination\n",
    "\n",
    "First_name = 'Suresh'\n",
    "Last_name = 'Krishna'\n",
    "Full_name = (First_name + ' ' + Last_name)\n",
    "print(Full_name)"
   ]
  },
  {
   "cell_type": "code",
   "execution_count": 4,
   "metadata": {},
   "outputs": [
    {
     "name": "stdout",
     "output_type": "stream",
     "text": [
      "Enter your age 22\n",
      "Access granted\n"
     ]
    }
   ],
   "source": [
    "#if,elif and else statement\n",
    "\n",
    "age = (int(input('Enter your age ')))\n",
    "if age>18:\n",
    "    print('Access granted')\n",
    "elif age==18:\n",
    "    email=input('Enter your e-mail id')\n",
    "    print('Access granted')\n",
    "else:\n",
    "    print('Access denied')"
   ]
  },
  {
   "cell_type": "code",
   "execution_count": 6,
   "metadata": {},
   "outputs": [
    {
     "name": "stdout",
     "output_type": "stream",
     "text": [
      "Enter your string: How many letters are there in this sentence\n",
      "Number of letters = 43\n"
     ]
    }
   ],
   "source": [
    "#counting number of letter in a sentence\n",
    "\n",
    "text=input('Enter your string: ')\n",
    "if len(text)<=0:\n",
    "    print('No string found')\n",
    "else:\n",
    "    print('Number of letters =',len(text))"
   ]
  },
  {
   "cell_type": "code",
   "execution_count": 9,
   "metadata": {},
   "outputs": [
    {
     "name": "stdout",
     "output_type": "stream",
     "text": [
      "Enter the number: 8939152272\n",
      "Number of digits = 10\n"
     ]
    }
   ],
   "source": [
    "#while loop and counting the no.of.digits\n",
    "\n",
    "number=int(input('Enter the number: '))\n",
    "count=0\n",
    "\n",
    "while(number>0):\n",
    "    number = number//10\n",
    "    count = count+1\n",
    "print('Number of digits =',count)"
   ]
  },
  {
   "cell_type": "code",
   "execution_count": 14,
   "metadata": {},
   "outputs": [
    {
     "name": "stdout",
     "output_type": "stream",
     "text": [
      "PYTHON\n"
     ]
    }
   ],
   "source": [
    "#join statement\n",
    "\n",
    "text=('P','Y','T','H','O','N')\n",
    "text=''.join(text)\n",
    "print(text)"
   ]
  },
  {
   "cell_type": "code",
   "execution_count": 20,
   "metadata": {},
   "outputs": [
    {
     "name": "stdout",
     "output_type": "stream",
     "text": [
      "The Zen of Python, by Tim Peters\n",
      "\n",
      "Beautiful is better than ugly.\n",
      "Explicit is better than implicit.\n",
      "Simple is better than complex.\n",
      "Complex is better than complicated.\n",
      "Flat is better than nested.\n",
      "Sparse is better than dense.\n",
      "Readability counts.\n",
      "Special cases aren't special enough to break the rules.\n",
      "Although practicality beats purity.\n",
      "Errors should never pass silently.\n",
      "Unless explicitly silenced.\n",
      "In the face of ambiguity, refuse the temptation to guess.\n",
      "There should be one-- and preferably only one --obvious way to do it.\n",
      "Although that way may not be obvious at first unless you're Dutch.\n",
      "Now is better than never.\n",
      "Although never is often better than *right* now.\n",
      "If the implementation is hard to explain, it's a bad idea.\n",
      "If the implementation is easy to explain, it may be a good idea.\n",
      "Namespaces are one honking great idea -- let's do more of those!\n"
     ]
    }
   ],
   "source": [
    "#gen of python\n",
    "\n",
    "import this"
   ]
  },
  {
   "cell_type": "code",
   "execution_count": 24,
   "metadata": {},
   "outputs": [
    {
     "name": "stdout",
     "output_type": "stream",
     "text": [
      "xZLPYG\n"
     ]
    }
   ],
   "source": [
    "#random password generator\n",
    "\n",
    "import random\n",
    "\n",
    "lower = 'abcdefghijklmnopqrstuvwxyz'\n",
    "upper = 'ABCDEFGHIJKLMNOPQRSTUVXXYZ'\n",
    "numbers = '0123456789'\n",
    "\n",
    "all=lower+upper+numbers\n",
    "length=6\n",
    "\n",
    "password=''.join(random.sample(all,length))\n",
    "print(password)"
   ]
  },
  {
   "cell_type": "code",
   "execution_count": 2,
   "metadata": {},
   "outputs": [
    {
     "name": "stdout",
     "output_type": "stream",
     "text": [
      "0\n",
      "4\n",
      "8\n"
     ]
    }
   ],
   "source": [
    "for i in list(range(10)):\n",
    "    if i%4==0:\n",
    "        print(i)\n",
    "    else:\n",
    "        continue"
   ]
  },
  {
   "cell_type": "code",
   "execution_count": null,
   "metadata": {},
   "outputs": [],
   "source": []
  }
 ],
 "metadata": {
  "kernelspec": {
   "display_name": "Python 3",
   "language": "python",
   "name": "python3"
  },
  "language_info": {
   "codemirror_mode": {
    "name": "ipython",
    "version": 3
   },
   "file_extension": ".py",
   "mimetype": "text/x-python",
   "name": "python",
   "nbconvert_exporter": "python",
   "pygments_lexer": "ipython3",
   "version": "3.7.6"
  }
 },
 "nbformat": 4,
 "nbformat_minor": 4
}
