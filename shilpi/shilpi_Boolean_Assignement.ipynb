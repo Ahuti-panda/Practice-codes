{
  "nbformat": 4,
  "nbformat_minor": 0,
  "metadata": {
    "colab": {
      "name": "shilpi_Boolean_Assignement.ipynb",
      "provenance": [],
      "collapsed_sections": []
    },
    "kernelspec": {
      "name": "python3",
      "display_name": "Python 3"
    }
  },
  "cells": [
    {
      "cell_type": "code",
      "metadata": {
        "id": "7JIFn6BP4M0R",
        "colab_type": "code",
        "colab": {
          "base_uri": "https://localhost:8080/",
          "height": 34
        },
        "outputId": "bef624fe-afe7-499d-95fb-d25346400e22"
      },
      "source": [
        "#Declare a boolean value and store it in a variable. \n",
        "\n",
        "s= True\n",
        "\n",
        "#Check the type and print the id of the same.\n",
        "\n",
        "\n",
        "print(type(s),id(s))\n",
        "\n",
        "\n"
      ],
      "execution_count": null,
      "outputs": [
        {
          "output_type": "stream",
          "text": [
            "<class 'bool'> 10302848\n"
          ],
          "name": "stdout"
        }
      ]
    },
    {
      "cell_type": "code",
      "metadata": {
        "id": "o9bjjhN64kAP",
        "colab_type": "code",
        "colab": {
          "base_uri": "https://localhost:8080/",
          "height": 51
        },
        "outputId": "7772a180-5131-48ef-ce7b-87ba0addb960"
      },
      "source": [
        "#Take one boolean value between 0 - 256.\n",
        "#Assign it to two different variables.\n",
        "\n",
        "\n",
        "\n",
        "#Check the id of both the variables. It should come same. Check why?\n",
        "\n",
        "\n",
        "a = 20\n",
        "b=  20\n",
        "print(id(c))\n",
        "print(id(d))\n",
        "\n",
        "both the id are same because of object reusabiity.\n",
        "20<256\n",
        "\n",
        "\n",
        "\n"
      ],
      "execution_count": null,
      "outputs": [
        {
          "output_type": "stream",
          "text": [
            "10302848\n",
            "10302848\n"
          ],
          "name": "stdout"
        }
      ]
    },
    {
      "cell_type": "code",
      "metadata": {
        "id": "yr4ETGSf4l5y",
        "colab_type": "code",
        "colab": {
          "base_uri": "https://localhost:8080/",
          "height": 85
        },
        "outputId": "c2ade20e-e09b-426c-f94a-924d3ee9aa29"
      },
      "source": [
        "#Arithmatic Operations on boolean data\n",
        "#Take two different boolean values.\n",
        "#Store them in two different variables.\n",
        "\n",
        "\n",
        "\n",
        "#Do below operations on them:-\n",
        "    #Find sum of both values\n",
        "    #Find differce between them\n",
        "    #Find the product of both.\n",
        "    #Find value after dividing first value with second value\n",
        "    #Find the remainder after dividing first value with second value\n",
        "    #Find the quotient after dividing first value with second value\n",
        "   #Find the result of first value to the power of second value.\n",
        "    \n",
        "a= True\n",
        "b= False\n",
        "sum= a+b\n",
        "dif= a-b\n",
        "product= a*b\n",
        "#division= a/b\n",
        "#quotient= a//b          \n",
        "#remainder = a%b\n",
        "pow= a**b\n",
        "print(\"sum=\", sum)\n",
        "print(\"difference=\",dif)\n",
        "print(\"prouct=\",product)\n",
        "# print(\"division\",division)\n",
        "# print(\"remainder=\",remainder)\n",
        "# print(\"quotient=\", quotient)\n",
        "print(\"power=\", pow) \n",
        "\n",
        "#division quotient and remainder can not be calculated as false is considered ad \"0\" \n",
        "\n",
        "\n",
        "\n",
        "    "
      ],
      "execution_count": null,
      "outputs": [
        {
          "output_type": "stream",
          "text": [
            "sum= 1\n",
            "difference= 1\n",
            "prouct= 0\n",
            "power= 1\n"
          ],
          "name": "stdout"
        }
      ]
    },
    {
      "cell_type": "code",
      "metadata": {
        "id": "xG4mX84E4n2O",
        "colab_type": "code",
        "colab": {
          "base_uri": "https://localhost:8080/",
          "height": 68
        },
        "outputId": "4ee560b7-cd9b-4d0e-c639-f1c661ca19ff"
      },
      "source": [
        "#Comparison Operators on boolean values\n",
        "#Take two different boolean values.\n",
        "#Store them in two different variables.\n",
        "\n",
        "\n",
        "\n",
        "#Do below operations on them:-\n",
        "    #Compare these two values with below operator:-\n",
        "        #Greater than, '>'\n",
        "    \n",
        "\n",
        "\n",
        "        #less than, '<'\n",
        "    \n",
        "\n",
        "        #Greater than or equal to, '>='\n",
        "\n",
        "\n",
        "        #Less than or equal to, '<='    \n",
        "\n",
        "\n",
        "#Observe their output(return type should be boolean)\n",
        "\n",
        "\n",
        "a= False\n",
        "b= True\n",
        "print(False<True)\n",
        "print(False>=True)\n",
        "print(False<=True)"
      ],
      "execution_count": null,
      "outputs": [
        {
          "output_type": "stream",
          "text": [
            "True\n",
            "False\n",
            "True\n"
          ],
          "name": "stdout"
        }
      ]
    },
    {
      "cell_type": "code",
      "metadata": {
        "id": "TUIo2Z9V4qBJ",
        "colab_type": "code",
        "colab": {
          "base_uri": "https://localhost:8080/",
          "height": 51
        },
        "outputId": "0b8a3156-8165-4cc6-ed32-e18a6281267b"
      },
      "source": [
        "#Equality Operator\n",
        "#Take two different boolean values.\n",
        "#Store them in two different variables.\n",
        "\n",
        "\n",
        "\n",
        "#Equuate them using equality operator (==, !=)\n",
        "\n",
        "\n",
        "\n",
        "#Observe the output(return type should be boolean)\n",
        "\n",
        "a= False\n",
        "b= True\n",
        "print(False==True)\n",
        "print(False!=True)\n",
        "\n",
        "\n",
        "\n",
        "\n"
      ],
      "execution_count": null,
      "outputs": [
        {
          "output_type": "stream",
          "text": [
            "False\n",
            "True\n"
          ],
          "name": "stdout"
        }
      ]
    },
    {
      "cell_type": "code",
      "metadata": {
        "id": "XukEq5E44rxv",
        "colab_type": "code",
        "colab": {}
      },
      "source": [
        "#Logical operators\n",
        "#Observe the output of below code\n",
        "#Cross check the output manually\n",
        "\n",
        "print(True and True)        #----------------------------------------->Output is True\n",
        "print(False and True)        #----------------------------------------->Output is False\n",
        "print(True and False)        #----------------------------------------->Output is False\n",
        "print(False and False)       #----------------------------------------->Output is False\n",
        "\n",
        "print(True or True)          #----------------------------------------->Output is True\n",
        "print(False or True)         #----------------------------------------->Output is True\n",
        "print(True or False)         #----------------------------------------->Output is True\n",
        "print(False or False)        #----------------------------------------->Output is False\n",
        "\n",
        "print(not True)              #----------------------------------------->Output is False\n",
        "print(not False)             #----------------------------------------->Output is True"
      ],
      "execution_count": null,
      "outputs": []
    },
    {
      "cell_type": "code",
      "metadata": {
        "id": "02jPgt094vK-",
        "colab_type": "code",
        "colab": {}
      },
      "source": [
        "#Bitwise Operators\n",
        "#Do below operations on the values provided below:-\n",
        "    #Bitwise and(&) -----------------------------------------> True, True    -------> Output is True\n",
        "    \n",
        "\n",
        "\n",
        "    #Bitwise or(|)  -----------------------------------------> True, False   -------> Output is True\n",
        "\n",
        "\n",
        "\n",
        "    #Bitwise(^)     -----------------------------------------> True, False   -------> Output is True\n",
        "\n",
        "  \n",
        "\n",
        "    #Bitwise negation(~) ------------------------------------> True          -------> Output is -2\n",
        "\n",
        "   \n",
        "\n",
        "    #Bitwise left shift  ------------------------------------> True,2        -------> Output is 4\n",
        "\n",
        "\n",
        "\n",
        "    #Bitwise right shift ------------------------------------> True,2        -------> Output is 0\n",
        "\n",
        "\n",
        "\n",
        "#Cross check the output manually\n",
        "\n",
        "\n",
        "\n",
        "\n",
        "\n",
        "\n",
        "\n",
        "\n",
        "\n"
      ],
      "execution_count": null,
      "outputs": []
    },
    {
      "cell_type": "code",
      "metadata": {
        "id": "cy5i7sWz4v_c",
        "colab_type": "code",
        "colab": {
          "base_uri": "https://localhost:8080/",
          "height": 85
        },
        "outputId": "3d9408c0-5659-4076-d09b-a23faf1cebcf"
      },
      "source": [
        "#What is the output of expression inside print statement. Cross check before running the program.\n",
        "a = True\n",
        "b = True\n",
        "print(a is b)          #True or False?   #\n",
        "print(a is not b)      #True or False?\n",
        "\n",
        "a = False\n",
        "b = False\n",
        "print(a is b)          #True or False?\n",
        "print(a is not b)      #True or False?\n"
      ],
      "execution_count": null,
      "outputs": [
        {
          "output_type": "stream",
          "text": [
            "True\n",
            "False\n",
            "True\n",
            "False\n"
          ],
          "name": "stdout"
        }
      ]
    },
    {
      "cell_type": "code",
      "metadata": {
        "id": "AOcPQi8544M-",
        "colab_type": "code",
        "colab": {
          "base_uri": "https://localhost:8080/",
          "height": 102
        },
        "outputId": "92278e0f-3061-4632-b2a2-326921e098ef"
      },
      "source": [
        "#Membership operation\n",
        "#in, not in are two membership operators and it returns boolean value\n",
        "\n",
        "print(True in [10,10.20,10+20j,'Python', True])\n",
        "print(False in (10,10.20,10+20j,'Python', False))\n",
        "print(True in {1,2,3, True})\n",
        "print(True in {True:100, False:200, True:300})\n",
        "print(False in {True:100, False:200, True:300})"
      ],
      "execution_count": null,
      "outputs": [
        {
          "output_type": "stream",
          "text": [
            "True\n",
            "True\n",
            "True\n",
            "True\n",
            "True\n"
          ],
          "name": "stdout"
        }
      ]
    },
    {
      "cell_type": "code",
      "metadata": {
        "id": "MPa1Lpco46Ja",
        "colab_type": "code",
        "colab": {}
      },
      "source": [
        ""
      ],
      "execution_count": null,
      "outputs": []
    }
  ]
}