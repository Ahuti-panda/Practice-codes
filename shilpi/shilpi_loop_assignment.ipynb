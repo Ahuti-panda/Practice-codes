{
 "cells": [
  {
   "cell_type": "code",
   "execution_count": 1,
   "metadata": {},
   "outputs": [
    {
     "name": "stdout",
     "output_type": "stream",
     "text": [
      "length is 55\n"
     ]
    }
   ],
   "source": [
    "#Write a Python program to find the length of the my_str using loop:-\n",
    "\n",
    "#Input:- 'Write a Python program to find the length of the my_str'\n",
    "#Output:- 55\n",
    "\n",
    "\n",
    "inp='Write a Python program to find the length of the my_str'\n",
    "count=0\n",
    "for i in inp:\n",
    "    count+=1\n",
    "print(f'length is {count}')\n",
    "    "
   ]
  },
  {
   "cell_type": "code",
   "execution_count": 14,
   "metadata": {},
   "outputs": [
    {
     "name": "stdout",
     "output_type": "stream",
     "text": [
      "9\n"
     ]
    }
   ],
   "source": [
    "#Write a Python program to find the total number of times letter 'p' is appeared in the below string using loop:-\n",
    "    \n",
    "#Input:- 'peter piper picked a peck of pickled peppers.\\n'\n",
    "#Output:- 9\n",
    "\n",
    "inp='peter piper picked a peck of pickled peppers.\\n'\n",
    "ind=0\n",
    "for i in inp:\n",
    "    if i==\"p\":\n",
    "        ind=ind+1\n",
    "print(ind)\n",
    "\n",
    "       "
   ]
  },
  {
   "cell_type": "code",
   "execution_count": 15,
   "metadata": {},
   "outputs": [
    {
     "name": "stdout",
     "output_type": "stream",
     "text": [
      "0\n",
      "6\n",
      "8\n",
      "12\n",
      "21\n",
      "29\n",
      "37\n",
      "39\n",
      "40\n"
     ]
    }
   ],
   "source": [
    "#Write a Python Program, to print all the indexes of all occurences of letter 'p' appeared in the string using loop:-\n",
    "    \n",
    "#Input:- 'peter piper picked a peck of pickled peppers.'\n",
    "#Output:- \n",
    "# 0\n",
    "# 6\n",
    "# 8\n",
    "# 12\n",
    "# 21\n",
    "# 29\n",
    "# 37\n",
    "# 39\n",
    "# 40\n",
    "\n",
    "inp='peter piper picked a peck of pickled peppers.\\n'\n",
    "i=0\n",
    "for i in range(len(inp)):\n",
    "    if inp[i]==\"p\":\n",
    "        print(i)\n",
    "        i+=1"
   ]
  },
  {
   "cell_type": "code",
   "execution_count": 19,
   "metadata": {},
   "outputs": [
    {
     "name": "stdout",
     "output_type": "stream",
     "text": [
      "['peter', 'piper', 'picked', 'a', 'peck', 'of', 'pickled', 'peppers']\n"
     ]
    }
   ],
   "source": [
    "#Write a python program to find below output using loop:-\n",
    "\n",
    "#Input:- 'peter piper picked a peck of pickled peppers.'\n",
    "#Output:- ['peter', 'piper', 'picked', 'a', 'peck', 'of', 'pickled', 'peppers']\n",
    "\n",
    "\n",
    "my_str = 'peter piper picked a peck of pickled peppers.'\n",
    "out_str=''\n",
    "out_lst=[]\n",
    "for i in my_str:\n",
    "    if i==' ' or i=='.':\n",
    "        out_lst.append(out_str)\n",
    "        out_str=''\n",
    "    else:\n",
    "        out_str=out_str+i\n",
    "print(out_lst)"
   ]
  },
  {
   "cell_type": "code",
   "execution_count": 35,
   "metadata": {},
   "outputs": [
    {
     "name": "stdout",
     "output_type": "stream",
     "text": [
      "['peter', 'piper', 'picked', 'a', 'peck', 'of', 'pickled', 'peppers']\n",
      "peppers pickled of peck a picked piper peter \n"
     ]
    }
   ],
   "source": [
    "#Write a python program to find below output using loop:-\n",
    "\n",
    "#Input:- 'peter piper picked a peck of pickled peppers.'\n",
    "#Output:- 'peppers pickled of peck a picked piper peter'\n",
    "\n",
    "# my_str = 'peter piper picked a peck of pickled peppers.'\n",
    "# out_str=''\n",
    "# out_lst=[]\n",
    "# new_lst=[]\n",
    "# for i in my_str:\n",
    "#     if i==' ' or i=='.':\n",
    "#         out_lst.append(out_str)\n",
    "#         out_str=''\n",
    "#     else:\n",
    "#         out_str=out_str+i\n",
    "#         new_lst=out_lst[::-1]\n",
    "# new_str=''\n",
    "# for j in new_lst:\n",
    "#     new_str=new_str+' '+j\n",
    "# print(new_str)\n",
    "        \n",
    "my_str = 'peter piper picked a peck of pickled peppers.'\n",
    "out_lst = []\n",
    "estr =''\n",
    "for i in my_str:\n",
    "    if i == ' ' or i == '.':\n",
    "        out_lst.append(estr)\n",
    "        estr = ''\n",
    "    else:\n",
    "        estr += i\n",
    "use = out_lst\n",
    "print(use)\n",
    "\n",
    "rev = ''\n",
    "for i in use:\n",
    "    rev = i +' '+ rev\n",
    "print(rev)"
   ]
  },
  {
   "cell_type": "code",
   "execution_count": 24,
   "metadata": {},
   "outputs": [
    {
     "name": "stdout",
     "output_type": "stream",
     "text": [
      " .sreppep delkcip fo kcep a dekcip repip retep\n"
     ]
    }
   ],
   "source": [
    "#Write a python program to find below output using loop:-\n",
    "\n",
    "#Input:- 'peter piper picked a peck of pickled peppers.'\n",
    "#Output:- '.sreppep delkcip fo kcep a dekcip repip retep'\n",
    "\n",
    "inp='peter piper picked a peck of pickled peppers.'\n",
    "spc=' '\n",
    "for i in range(-1,-len(inp)-1,-1):\n",
    "    spc=spc+inp[i]\n",
    "print(spc)"
   ]
  },
  {
   "cell_type": "code",
   "execution_count": 4,
   "metadata": {},
   "outputs": [
    {
     "name": "stdout",
     "output_type": "stream",
     "text": [
      "\n"
     ]
    }
   ],
   "source": [
    "#Write a python program to find below output using loop:-\n",
    "\n",
    "#Input:- 'peter piper picked a peck of pickled peppers.'\n",
    "#Output:- 'retep repip dekcip a kcep fo delkcip sreppep'\n",
    "\n",
    "my_str = 'peter piper picked a peck of pickled peppers.'\n",
    "out_str=''\n",
    "out_lst=[]\n",
    "new_lst=[]\n",
    "var=''\n",
    "for i in my_str:\n",
    "    if i==' ' or i=='.':\n",
    "        out_lst.append(out_str)\n",
    "        out_str=''\n",
    "    else:\n",
    "        out_str=out_str+i\n",
    "for m in out_lst:                      #m=peter\n",
    "    var== m[::-1]\n",
    "    var=''\n",
    "print(var)\n",
    "\n",
    "# new_str=''\n",
    "# for j in new_lst:\n",
    "#     new_str=new_str+' '+j\n",
    "# print(new_str)\n",
    "    \n",
    "    \n",
    "    \n",
    "   \n",
    "    \n",
    "    \n",
    "    \n",
    "    \n",
    "# print(out_lst)"
   ]
  },
  {
   "cell_type": "code",
   "execution_count": 32,
   "metadata": {},
   "outputs": [
    {
     "name": "stdout",
     "output_type": "stream",
     "text": [
      " Peter Piper Picked A Peck Of Pickled Peppers\n"
     ]
    }
   ],
   "source": [
    "#Write a python program to find below output using loop:-\n",
    "\n",
    "#Input:- 'peter piper picked a peck of pickled peppers.'\n",
    "#Output:- 'Peter Piper Picked A Peck Of Pickled Peppers'\n",
    "\n",
    "\n",
    "s1 = 'peter piper picked a peck of pickled peppers.'\n",
    "out_lst = []\n",
    "out_str = ''\n",
    "for i in s1:\n",
    "    if i == ' ' or i == '.':\n",
    "        out_str = chr(ord(out_str[0])-32) + out_str[1:]\n",
    "        out_lst.append(out_str)\n",
    "        out_str = ''\n",
    "    else:\n",
    "        out_str += i\n",
    "res_str = ''\n",
    "for j in out_lst:\n",
    "    res_str = res_str + ' ' + j\n",
    "print(res_str)\n"
   ]
  },
  {
   "cell_type": "code",
   "execution_count": null,
   "metadata": {},
   "outputs": [],
   "source": [
    "#Write a python program to find below output using loop:-\n",
    "\n",
    "#Input:- 'Peter Piper Picked A Peck Of Pickled Peppers.'\n",
    "#Output:- 'Peter piper picked a peck of pickled peppers'\n",
    "\n"
   ]
  },
  {
   "cell_type": "code",
   "execution_count": 13,
   "metadata": {},
   "outputs": [
    {
     "name": "stdout",
     "output_type": "stream",
     "text": [
      "0\n",
      "1\n",
      "2\n",
      "3\n",
      "4\n",
      "5\n",
      "6\n",
      "7\n",
      "8\n",
      "9\n",
      "10\n",
      "11\n",
      "12\n",
      "13\n",
      "14\n",
      "15\n",
      "16\n",
      "17\n",
      "18\n",
      "19\n",
      "20\n",
      "21\n",
      "22\n",
      "23\n",
      "24\n",
      "25\n",
      "26\n",
      "27\n",
      "28\n",
      "29\n",
      "30\n",
      "31\n",
      "32\n",
      "33\n",
      "34\n",
      "35\n",
      "36\n",
      "37\n",
      "38\n",
      "39\n",
      "40\n",
      "41\n",
      "42\n",
      "43\n",
      "44\n"
     ]
    }
   ],
   "source": [
    "#Write a python program to implement index method using loop. If sub_str is found in my_str then it will print the index\n",
    "# of first occurrence of first character of matching string in my_str:-\n",
    "\n",
    "#Input:- my_str = 'Peter Piper Picked A Peck Of Pickled Peppers.', sub_str = 'Pickl'\n",
    "#Output:- 29\n",
    "my_str = 'Peter Piper Picked A Peck Of Pickled Peppers.'\n",
    "sub_str = 'Pickl'\n",
    "for i in range(len(my_str)):\n",
    "    if sub_str in my_str:\n",
    "        break\n",
    "print()\n"
   ]
  },
  {
   "cell_type": "code",
   "execution_count": 8,
   "metadata": {},
   "outputs": [
    {
     "name": "stdout",
     "output_type": "stream",
     "text": [
      " Peter Piper Picked A Pack Of Pickled Peppers\n"
     ]
    }
   ],
   "source": [
    "#Write a python program to implement replace method using loop. If sub_str is found in my_str then it will replace the first \n",
    "#occurrence of sub_str with new_str else it will will print sub_str not found:-\n",
    "\n",
    "#Input:- my_str = 'Peter Piper Picked A Peck Of Pickled Peppers.', sub_str = 'Peck', new_str = 'Pack'\n",
    "#Output:- 'Peter Piper Picked A Pack Of Pickled Peppers.'\n",
    "\n",
    "my_str = 'Peter Piper Picked A Peck Of Pickled Peppers.'\n",
    "sub_str = 'Peck'\n",
    "new_str = 'Pack'\n",
    "out_str=''\n",
    "out_lst=[]\n",
    "for i in my_str:\n",
    "    if i==' ' or i=='.':\n",
    "        out_lst.append(out_str)\n",
    "        out_str=''\n",
    "    else:\n",
    "        out_str=out_str+i\n",
    "for j in range(len(out_lst)):\n",
    "    if out_lst[j]==sub_str:\n",
    "        out_lst[j]=new_str\n",
    "res_str = ''\n",
    "for m in out_lst:\n",
    "    res_str = res_str + ' ' + m\n",
    "print(res_str)\n",
    "        \n"
   ]
  },
  {
   "cell_type": "code",
   "execution_count": null,
   "metadata": {},
   "outputs": [],
   "source": [
    "#Write a python program to find below output (implements rjust and ljust) using loop:-\n",
    "\n",
    "#Input:- 'Peter Piper Picked A Peck Of Pickled Peppers.', sub_str = 'Peck', \n",
    "#Output:- '*********************Peck********************'\n"
   ]
  },
  {
   "cell_type": "code",
   "execution_count": null,
   "metadata": {},
   "outputs": [],
   "source": [
    "#Write a python program to find below output using loop:-\n",
    "\n",
    "#Input:- 'This is Python class', sep = 'is', \n",
    "#Output:- ['This', 'is', 'Python class']\n"
   ]
  },
  {
   "cell_type": "code",
   "execution_count": 10,
   "metadata": {},
   "outputs": [
    {
     "name": "stdout",
     "output_type": "stream",
     "text": [
      "R{vjqp\n",
      "Rwvfql\n",
      "R{vfml\n"
     ]
    }
   ],
   "source": [
    "# #Write a python program which takes one input string from user and encode it in below format:-\n",
    "#     1. #Input:- 'Python'      # 80 121 116 104 111 110\n",
    "#        #Output:- 'R{vjqp'     # 82 123 118 106 113 112\n",
    "        \n",
    "        \n",
    "inp='Python' \n",
    "out_str=''\n",
    "for i in inp:\n",
    "    out_str=out_str+ chr(ord(i)+2)\n",
    "print(out_str)\n",
    "   \n",
    "        \n",
    "        \n",
    "                          #    0   1    2    3    4   5\n",
    "#     2. #Input:- 'Python'   80  121  116  104  111 110\n",
    "#        #Output:- 'Rwvfql'  82  119  118  102  113 108\n",
    "        \n",
    "my_str='Python' \n",
    "out_str=''\n",
    "for i in range(len(inp)):\n",
    "    if i==0 or i==2 or i==4:\n",
    "         out_str=out_str+ chr(ord(my_str[i])+2)\n",
    "    elif i==1 or i==3 or i==5:\n",
    "         out_str=out_str+ chr(ord(my_str[i])-2)   \n",
    "print(out_str)\n",
    "        \n",
    "           \n",
    "        \n",
    "        \n",
    "        \n",
    "        \n",
    "        \n",
    "        \n",
    "        \n",
    "        \n",
    "        \n",
    "        \n",
    "        \n",
    "        \n",
    "        \n",
    "#     3. #Input:- 'Python'      80  121  116  104  111 110\n",
    "#        #Output:- 'R{vfml'     82  123   118  102  109    108\n",
    "\n",
    "inp='Python'\n",
    "out_str=''\n",
    "for i in range(len(inp)):\n",
    "    if i ==0 or i==1 or i==2:\n",
    "         out_str=out_str+ chr(ord(my_str[i])+2)\n",
    "    elif i==3 or i==4 or i==5:\n",
    "         out_str=out_str+ chr(ord(my_str[i])-2)   \n",
    "print(out_str)\n",
    "       \n",
    "        \n",
    "        \n",
    "\n",
    "        \n",
    "        "
   ]
  },
  {
   "cell_type": "code",
   "execution_count": 2,
   "metadata": {},
   "outputs": [
    {
     "name": "stdout",
     "output_type": "stream",
     "text": [
      "2\n"
     ]
    }
   ],
   "source": [
    "a=[2,3,4,5,5,6,2,3,4]\n",
    "print(a.count(5))"
   ]
  },
  {
   "cell_type": "code",
   "execution_count": null,
   "metadata": {},
   "outputs": [],
   "source": []
  }
 ],
 "metadata": {
  "kernelspec": {
   "display_name": "Python 3",
   "language": "python",
   "name": "python3"
  },
  "language_info": {
   "codemirror_mode": {
    "name": "ipython",
    "version": 3
   },
   "file_extension": ".py",
   "mimetype": "text/x-python",
   "name": "python",
   "nbconvert_exporter": "python",
   "pygments_lexer": "ipython3",
   "version": "3.7.6"
  }
 },
 "nbformat": 4,
 "nbformat_minor": 4
}
