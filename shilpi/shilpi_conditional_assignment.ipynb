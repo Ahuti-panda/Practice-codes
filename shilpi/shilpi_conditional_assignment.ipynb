{
 "cells": [
  {
   "cell_type": "code",
   "execution_count": 3,
   "metadata": {},
   "outputs": [
    {
     "name": "stdout",
     "output_type": "stream",
     "text": [
      "enter the number from 0 to 9:67\n",
      "you have entered the wrong input\n"
     ]
    }
   ],
   "source": [
    "#W. A P. which takes one number from 0 to 9 from the user and prints it in the word. And if the word is not from 0 to 9 then\n",
    "#it should print that number is outside of the range and program should exit.\n",
    "# For exapmple:- \n",
    "# input = 1\n",
    "# output = one\n",
    "\n",
    "\n",
    "a=int(input(\"enter the number from 0 to 9:\"))\n",
    "if a==0:\n",
    "    print(\"zero\")\n",
    "elif a==1:\n",
    "    print(\"one\")\n",
    "elif a==2:\n",
    "    print(\"two\")\n",
    "elif a==3:\n",
    "    print(\"three\")\n",
    "elif a==4:\n",
    "    print(\"four\")\n",
    "elif a==5:\n",
    "    print(\"five\")\n",
    "elif a==6:\n",
    "    print(\"six\")\n",
    "elif a==7:\n",
    "    print(\"seven\")\n",
    "elif a==8:\n",
    "    print(\"eight\")\n",
    "elif a==9:\n",
    "    print(\"nine\")\n",
    "else:\n",
    "    print(\"you have entered the wrong input\")\n",
    "    \n"
   ]
  },
  {
   "cell_type": "code",
   "execution_count": null,
   "metadata": {},
   "outputs": [],
   "source": []
  },
  {
   "cell_type": "code",
   "execution_count": 6,
   "metadata": {},
   "outputs": [
    {
     "name": "stdout",
     "output_type": "stream",
     "text": [
      "Enter the first number45\n",
      "Enter the second number67\n",
      "To add enter 1\n",
      "To substract enter 2\n",
      "To multiply enter 3\n",
      "To divide enter 4\n",
      "To divide and find quotient enter 5\n",
      "To divide and find remainder enter 6\n",
      "To divide and find num1 to the power of num2 enter 7\n",
      "To Come out of the program enter 8\n",
      "which operation you want to perfrom9\n",
      "wrong input\n"
     ]
    }
   ],
   "source": [
    "#W. A P. to implement calculator but the operation to be done and two numbers will be taken as input from user:-\n",
    "#Operation console should show below:-\n",
    "#     Please select any one operation from below:-\n",
    "#         * To add enter 1\n",
    "#         * to subtract enter 2\n",
    "#         * To multiply enter 3\n",
    "#         * To divide enter 4\n",
    "#         * To divide and find quotient enter 5\n",
    "#         * To divide and find remainder enter 6\n",
    "#         * To divide and find num1 to the power of num2 enter 7\n",
    "#         * To Come out of the program enter 8\n",
    "\n",
    "\n",
    "\n",
    "num1 = int(input(\"Enter the first number\"))\n",
    "num2 = int(input(\"Enter the second number\"))\n",
    "print(\"To add enter 1\")\n",
    "print(\"To substract enter 2\")\n",
    "print(\"To multiply enter 3\")\n",
    "print(\"To divide enter 4\")\n",
    "print(\"To divide and find quotient enter 5\")\n",
    "print(\"To divide and find remainder enter 6\")\n",
    "print(\"To divide and find num1 to the power of num2 enter 7\")\n",
    "print(\"To Come out of the program enter 8\")\n",
    "ops= input(\"which operation you want to perfrom\")\n",
    "if ops== \"1\":\n",
    "  print(f'addition is {num1+num2}')\n",
    "elif ops== \"2\":\n",
    "  print(f'substraction is {num1-num2}')\n",
    "elif ops== \"3\":\n",
    "  print(f'multiplication is {num1*num2}')\n",
    "elif ops== \"4\":\n",
    "  print(f'division is {num1/num2}')\n",
    "elif ops== \"5\":\n",
    "  print(f'division is {num1/num2} and quotient is {num1//num2}')\n",
    "elif ops== \"6\":\n",
    "  print(f'division is {num1/num2} and remainder is {num1%num2}')\n",
    "elif ops== \"7\":\n",
    "  print(f'division is {num1/num2} and power is {num1**num2}')\n",
    "elif ops== \"8\":\n",
    "  print(\"you have come out of the programme\")\n",
    "else:\n",
    "  print(\"wrong input\")\n"
   ]
  },
  {
   "cell_type": "code",
   "execution_count": 10,
   "metadata": {},
   "outputs": [
    {
     "name": "stdout",
     "output_type": "stream",
     "text": [
      "enter the year1900\n",
      "year is not the leap year\n"
     ]
    }
   ],
   "source": [
    "#W A P to check whether a year entered by user is an leap year or not?\n",
    "#Check with below input:-\n",
    "    #leap year:- 2012, 1968, 2004, 1200, 1600,2400\n",
    "    #Non-lear year:- 1971, 2006, 1700,1800,1900\n",
    "    \n",
    "a= int(input(\"enter the year\"))\n",
    "if (a%4==0 and a%100!=0) or a%400==0:\n",
    "    print(f'{a} is the leap year' )\n",
    "else:\n",
    "    print(\"year is not the leap year\")\n",
    "    \n"
   ]
  },
  {
   "cell_type": "code",
   "execution_count": 8,
   "metadata": {},
   "outputs": [
    {
     "name": "stdout",
     "output_type": "stream",
     "text": [
      "enter your nuber60\n",
      "number is even\n"
     ]
    }
   ],
   "source": [
    "#W A P which takes one number from the user and checks whether it is an even or odd number?, If it even then prints number is \n",
    "#even number else prints that number is odd number.\n",
    "\n",
    "\n",
    "a=int(input(\"enter your nuber\"))\n",
    "if a%2==0:\n",
    "    print(\"number is even\")\n",
    "else:\n",
    "    print(\"number is odd\")"
   ]
  },
  {
   "cell_type": "code",
   "execution_count": 4,
   "metadata": {},
   "outputs": [
    {
     "name": "stdout",
     "output_type": "stream",
     "text": [
      "enter your first number56\n",
      "enter your second number89\n",
      "56 is smallr than 89\n"
     ]
    }
   ],
   "source": [
    "#W A P which takes two numbers from the user and prints below output:-\n",
    "#     1. num1 is greater than num2 if num1 is greater than num2\n",
    "#     2. num1 is smaller than num2 if num1 is smaller than num2\n",
    "#     3. num1 is equal to num2 if num1 and num2 are equal\n",
    "\n",
    "#Note:- 1. Do this problem using if - else \n",
    "\n",
    "\n",
    "\n",
    "num1 =int(input(\"enter your first number\"))\n",
    "num2 =int(input(\"enter your second number\"))\n",
    "if num1>num2:\n",
    "    print(f'{num1} is greater than {num2}')\n",
    "elif num1<num2:\n",
    "          print(f'{num1} is smaller than {num2}')\n",
    "else:\n",
    "    print(f'{num1} is equal to {num2}')\n",
    "    expr if cond1 else expr2 if cond2 else expr3\n"
   ]
  },
  {
   "cell_type": "code",
   "execution_count": 20,
   "metadata": {},
   "outputs": [
    {
     "name": "stdout",
     "output_type": "stream",
     "text": [
      "enter your first number90\n",
      "enter your second number43\n",
      "enter your third number55\n",
      "90 is greater than 43 and 55\n"
     ]
    }
   ],
   "source": [
    "#W A P which takes three numbers from the user and prints below output:-\n",
    "#     1. num1 is greater than num2 and num3 if num1 is greater than num2 and num3\n",
    "#     2. num2 is greater than num1 and num3 if num2 is greater than num1 and num3\n",
    "#     3. num3 is greater than num1 and num2 if num3 is greater than num1 and num2\n",
    "\n",
    "#Note:- 1. Do this problem using if - elif - else \n",
    "\n",
    "\n",
    "# a = a if a>b else b\n",
    "#expr if cond1 else expr2 if cond2 else expr3\n",
    "\n",
    "\n",
    "num1=int(input(\"enter your first number\"))\n",
    "num2=int(input(\"enter your second number\"))\n",
    "num3=int(input(\"enter your third number\"))\n",
    "if num1>num2 and num1>num3:\n",
    "    print(f'{num1} is greater than {num2} and {num3}')\n",
    "elif num2>num1 and num2>num3:\n",
    "    print(f'{num2} is greater than {num1} and {num3}')\n",
    "else:\n",
    "    print(f'{num3} is greater than {num2} and {num1}')\n",
    "\n"
   ]
  },
  {
   "cell_type": "code",
   "execution_count": null,
   "metadata": {},
   "outputs": [],
   "source": []
  },
  {
   "cell_type": "code",
   "execution_count": null,
   "metadata": {},
   "outputs": [],
   "source": []
  },
  {
   "cell_type": "code",
   "execution_count": null,
   "metadata": {},
   "outputs": [],
   "source": []
  }
 ],
 "metadata": {
  "kernelspec": {
   "display_name": "Python 3",
   "language": "python",
   "name": "python3"
  },
  "language_info": {
   "codemirror_mode": {
    "name": "ipython",
    "version": 3
   },
   "file_extension": ".py",
   "mimetype": "text/x-python",
   "name": "python",
   "nbconvert_exporter": "python",
   "pygments_lexer": "ipython3",
   "version": "3.7.6"
  }
 },
 "nbformat": 4,
 "nbformat_minor": 4
}
